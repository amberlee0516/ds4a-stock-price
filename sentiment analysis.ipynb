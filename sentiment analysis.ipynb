{
 "cells": [
  {
   "cell_type": "markdown",
   "id": "b9245025",
   "metadata": {},
   "source": [
    "# Scraping\n",
    "\n",
    "We start with scraping texts on one company. I chose Google (`GOOG`) arbitrarily."
   ]
  },
  {
   "cell_type": "markdown",
   "id": "3c8ffab2",
   "metadata": {},
   "source": [
    "## Google News \n",
    "\n",
    "Google news can be modified to look at older articles from [here](https://stackoverflow.com/questions/73072802/web-scraping-articles-from-google-news).\n"
   ]
  },
  {
   "cell_type": "code",
   "execution_count": null,
   "id": "4d05e6ff",
   "metadata": {},
   "outputs": [],
   "source": [
    "import sys\n",
    "# !{sys.executable} -m pip install beautifulsoup4\n",
    "# !{sys.executable} -m pip install newspaper3k\n",
    "# !{sys.executable} -m pip install git+https://github.com/ranahaani/GNews.git"
   ]
  },
  {
   "cell_type": "code",
   "execution_count": 1,
   "id": "56048d17",
   "metadata": {},
   "outputs": [
    {
     "name": "stderr",
     "output_type": "stream",
     "text": [
      "06/30/2023 04:41:39 PM - NumExpr defaulting to 8 threads.\n"
     ]
    }
   ],
   "source": [
    "from gnews import GNews\n",
    "import datetime as dt\n",
    "import pandas as pd\n",
    "import numpy as np"
   ]
  },
  {
   "cell_type": "code",
   "execution_count": null,
   "id": "cc1722bc",
   "metadata": {},
   "outputs": [],
   "source": [
    "google_news = GNews(language = 'en')\n",
    "GOOG = google_news.get_news('Google')"
   ]
  },
  {
   "cell_type": "code",
   "execution_count": null,
   "id": "643243e5",
   "metadata": {},
   "outputs": [],
   "source": [
    "GOOG = pd.DataFrame(GOOG)\n",
    "GOOG['date'] = pd.to_datetime(GOOG['published date'])"
   ]
  },
  {
   "cell_type": "code",
   "execution_count": null,
   "id": "3288f6fe",
   "metadata": {},
   "outputs": [],
   "source": [
    "min(GOOG['date'])"
   ]
  },
  {
   "cell_type": "code",
   "execution_count": null,
   "id": "aa072992",
   "metadata": {},
   "outputs": [],
   "source": [
    "max(GOOG['date'])"
   ]
  },
  {
   "cell_type": "code",
   "execution_count": null,
   "id": "1842e3e6",
   "metadata": {},
   "outputs": [],
   "source": [
    "# example \n",
    "# need a start and end date!\n",
    "\n",
    "start_date = dt.date(2022, 5, 1)\n",
    "end_date = dt.date(2022, 6, 1)\n",
    "tmp = GNews(language = 'en')\n",
    "tmp.start_date = start_date\n",
    "tmp.end_date = end_date\n",
    "\n",
    "older_GOOG = tmp.get_news('Google')"
   ]
  },
  {
   "cell_type": "code",
   "execution_count": null,
   "id": "84cc570c",
   "metadata": {},
   "outputs": [],
   "source": [
    "min(pd.DataFrame(older_GOOG)['published date'])"
   ]
  },
  {
   "cell_type": "code",
   "execution_count": null,
   "id": "8a017065",
   "metadata": {},
   "outputs": [],
   "source": [
    "max(pd.DataFrame(older_GOOG)['published date'])"
   ]
  },
  {
   "cell_type": "markdown",
   "id": "e6dff2ee",
   "metadata": {},
   "source": [
    "## Goal: retrieve all news about \"Google\" from 01/01/2018 - 12/31/2018"
   ]
  },
  {
   "cell_type": "code",
   "execution_count": 2,
   "id": "9853775a",
   "metadata": {},
   "outputs": [],
   "source": [
    "first_day = np.ones(12, dtype = int)\n",
    "middle_day = np.repeat(15, 12)\n",
    "middle_day[1] = 14 # feb\n",
    "last_day = np.tile([31, 30], 6)\n",
    "last_day[7:12] = last_day[0:5]\n",
    "last_day[1] = 28 # feb\n",
    "\n",
    "start_days = []\n",
    "end_days = []\n",
    "\n",
    "for i in range(12):\n",
    "    \n",
    "    start_days.append(first_day[i])\n",
    "    end_days.append(middle_day[i])\n",
    "    \n",
    "    start_days.append(middle_day[i])\n",
    "    end_days.append(last_day[i])\n"
   ]
  },
  {
   "cell_type": "code",
   "execution_count": 3,
   "id": "a94a56f1",
   "metadata": {},
   "outputs": [
    {
     "name": "stdout",
     "output_type": "stream",
     "text": [
      "[1, 15, 1, 14, 1, 15, 1, 15, 1, 15, 1, 15, 1, 15, 1, 15, 1, 15, 1, 15, 1, 15, 1, 15]\n",
      "[15, 31, 14, 28, 15, 31, 15, 30, 15, 31, 15, 30, 15, 31, 15, 31, 15, 30, 15, 31, 15, 30, 15, 31]\n"
     ]
    }
   ],
   "source": [
    "print(start_days)\n",
    "print(end_days)"
   ]
  },
  {
   "cell_type": "code",
   "execution_count": 4,
   "id": "93728f92",
   "metadata": {},
   "outputs": [
    {
     "data": {
      "text/plain": [
       "array([ 1,  1,  2,  2,  3,  3,  4,  4,  5,  5,  6,  6,  7,  7,  8,  8,  9,\n",
       "        9, 10, 10, 11, 11, 12, 12])"
      ]
     },
     "execution_count": 4,
     "metadata": {},
     "output_type": "execute_result"
    }
   ],
   "source": [
    "months = np.repeat(range(12), 2) + 1\n",
    "months"
   ]
  },
  {
   "cell_type": "code",
   "execution_count": null,
   "id": "b93ba284",
   "metadata": {},
   "outputs": [],
   "source": [
    "# scrape top 100 search results for keyword \"Google\" \n",
    "# for all 2-week periods in 2018"
   ]
  },
  {
   "cell_type": "code",
   "execution_count": 5,
   "id": "1412d18c",
   "metadata": {},
   "outputs": [],
   "source": [
    "headlines_df = pd.DataFrame(columns = [\"date\", \"title\"])"
   ]
  },
  {
   "cell_type": "code",
   "execution_count": 6,
   "id": "5d924338",
   "metadata": {},
   "outputs": [
    {
     "name": "stdout",
     "output_type": "stream",
     "text": [
      "No news between 2018-01-01 00:00:00 and 2018-01-15 00:00:00.\n",
      "\n"
     ]
    }
   ],
   "source": [
    "for two_week_period in range(24):\n",
    "    \n",
    "    month = months[two_week_period]\n",
    "    start_day = start_days[two_week_period]\n",
    "    end_day = end_days[two_week_period]\n",
    "    \n",
    "    start = dt.datetime(2018, month, start_day)\n",
    "    end = dt.datetime(2018, month, end_day)\n",
    "    \n",
    "    gnews = GNews(language = \"en\",\n",
    "                  start_date = start, \n",
    "                  end_date = end)\n",
    "    \n",
    "    news_df = pd.DataFrame(gnews.get_news('Google'))\n",
    "    \n",
    "    if news_df.shape == (0, 0):\n",
    "        print(f\"No news between {start} and {end}.\\n\")\n",
    "        continue\n",
    "        \n",
    "    news_df['date'] = pd.to_datetime(news_df['published date'])\n",
    "    \n",
    "    headlines_df = pd.concat([headlines_df, news_df[['date', 'title']].copy()],\n",
    "                             ignore_index = True)"
   ]
  },
  {
   "cell_type": "code",
   "execution_count": null,
   "id": "72a2b430",
   "metadata": {},
   "outputs": [],
   "source": [
    "min(headlines_df['date'])"
   ]
  },
  {
   "cell_type": "code",
   "execution_count": null,
   "id": "a0e64c25",
   "metadata": {},
   "outputs": [],
   "source": [
    "max(headlines_df['date'])"
   ]
  },
  {
   "cell_type": "code",
   "execution_count": null,
   "id": "627ad317",
   "metadata": {
    "scrolled": true
   },
   "outputs": [],
   "source": [
    "# check how many articles are outside of date range\n",
    "\n",
    "sum(headlines_df['date']> pd.to_datetime('2018-02-14').tz_localize('utc'))"
   ]
  },
  {
   "cell_type": "code",
   "execution_count": null,
   "id": "dfbb1afc",
   "metadata": {},
   "outputs": [],
   "source": [
    "# number of unique headlines\n",
    "\n",
    "len(headlines_df['title'].unique())"
   ]
  },
  {
   "cell_type": "code",
   "execution_count": null,
   "id": "f2a3c9ce",
   "metadata": {},
   "outputs": [],
   "source": [
    "# number of headlines not including google \n",
    "\n",
    "2244 - sum(pd.Series(headlines_df['title'].unique()).str.contains('google', case = False))"
   ]
  },
  {
   "cell_type": "code",
   "execution_count": null,
   "id": "c59b9a0e",
   "metadata": {},
   "outputs": [],
   "source": [
    "headlines_df.loc[~ headlines_df['title'].str.contains('google', case = False)]"
   ]
  },
  {
   "cell_type": "markdown",
   "id": "78bbf443",
   "metadata": {},
   "source": [
    "\n",
    "## Things that didn't work\n",
    "\n",
    "#### Twitter API ([tutorial](https://towardsdatascience.com/an-extensive-guide-to-collecting-tweets-from-twitter-api-v2-for-academic-research-using-python-3-518fcb71df2a))\n",
    "\n",
    "Actually, Twitter's API has a cap of 1,500 tweets per month. So that's a no go.\n",
    "\n",
    "#### Reddit API\n",
    "\n",
    "PRAW API seems to have higher limits. \n"
   ]
  },
  {
   "cell_type": "code",
   "execution_count": null,
   "id": "d5a696ff",
   "metadata": {},
   "outputs": [],
   "source": []
  }
 ],
 "metadata": {
  "kernelspec": {
   "display_name": "Python 3 (ipykernel)",
   "language": "python",
   "name": "python3"
  },
  "language_info": {
   "codemirror_mode": {
    "name": "ipython",
    "version": 3
   },
   "file_extension": ".py",
   "mimetype": "text/x-python",
   "name": "python",
   "nbconvert_exporter": "python",
   "pygments_lexer": "ipython3",
   "version": "3.10.9"
  }
 },
 "nbformat": 4,
 "nbformat_minor": 5
}
