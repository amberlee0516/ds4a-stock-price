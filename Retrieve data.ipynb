{
 "cells": [
  {
   "cell_type": "markdown",
   "id": "00972ea1",
   "metadata": {},
   "source": [
    "### Libraries\n",
    "\n",
    "Following [these](https://jakevdp.github.io/blog/2017/12/05/installing-python-packages-from-jupyter/) instructions"
   ]
  },
  {
   "cell_type": "code",
   "execution_count": 37,
   "id": "c7938741",
   "metadata": {},
   "outputs": [
    {
     "name": "stdout",
     "output_type": "stream",
     "text": [
      "Collecting python-dotenv\n",
      "  Downloading python_dotenv-1.0.0-py3-none-any.whl (19 kB)\n",
      "Installing collected packages: python-dotenv\n",
      "Successfully installed python-dotenv-1.0.0\n"
     ]
    }
   ],
   "source": [
    "# import sys\n",
    "# !{sys.executable} -m pip install quandl\n",
    "# !{sys.executable} -m pip install yfinance\n",
    "# !{sys.executable} -m pip install python-dotenv"
   ]
  },
  {
   "cell_type": "code",
   "execution_count": 39,
   "id": "5385392e",
   "metadata": {},
   "outputs": [
    {
     "data": {
      "text/plain": [
       "True"
      ]
     },
     "execution_count": 39,
     "metadata": {},
     "output_type": "execute_result"
    }
   ],
   "source": [
    "import os\n",
    "import pandas as pd\n",
    "import numpy as np\n",
    "import datetime as dt\n",
    "import matplotlib.pyplot as plt\n",
    "\n",
    "from urllib.request import urlopen, Request\n",
    "from bs4 import BeautifulSoup\n",
    "import quandl \n",
    "import yfinance as yf\n",
    "\n",
    "# NLTK VADER for sentiment analysis\n",
    "import nltk\n",
    "from nltk.sentiment.vader import SentimentIntensityAnalyzer\n",
    "finwiz_url = 'https://finviz.com/quote.ashx?t='\n",
    "\n",
    "# API key\n",
    "from dotenv import load_dotenv\n",
    "load_dotenv('Cindy_Quandl_API.env')"
   ]
  },
  {
   "cell_type": "markdown",
   "id": "30812b35",
   "metadata": {},
   "source": [
    "### Helper functions"
   ]
  },
  {
   "cell_type": "code",
   "execution_count": 31,
   "id": "538ab8b4",
   "metadata": {},
   "outputs": [],
   "source": [
    "#Quandl Python Tables API Function\n",
    "def grab_quandl_table(\n",
    "    table_path,\n",
    "    avoid_download=False,\n",
    "    replace_existing=False,\n",
    "    date_override=None,\n",
    "    allow_old_file=False,\n",
    "    **kwargs,\n",
    "):\n",
    "    root_data_dir = os.path.join(os.environ[\"HOME\"], \"Documents\", \"DS4A\",\"quandl_data_table_downloads\")\n",
    "    data_symlink = os.path.join(root_data_dir, f\"{table_path}_latest.zip\")\n",
    "    if avoid_download and os.path.exists(data_symlink):\n",
    "        print(f\"Skipping any possible download of {table_path}\")\n",
    "        return data_symlink\n",
    "\n",
    "    table_dir = os.path.dirname(data_symlink)\n",
    "    if not os.path.isdir(table_dir):\n",
    "        print(f'Creating new data dir {table_dir}')\n",
    "        os.makedirs(table_dir)\n",
    "\n",
    "    if date_override is None:\n",
    "        my_date = dt.datetime.now().strftime(\"%Y%m%d\")\n",
    "    else:\n",
    "        my_date = date_override\n",
    "    data_file = os.path.join(root_data_dir, f\"{table_path}_{my_date}.zip\")\n",
    "\n",
    "    if os.path.exists(data_file):\n",
    "        file_size = os.stat(data_file).st_size\n",
    "        if replace_existing or not file_size > 0:\n",
    "            print(f\"Removing old file {data_file} size {file_size}\")\n",
    "        else:\n",
    "            print(\n",
    "                f\"Data file {data_file} size {file_size} exists already, no need to download\"\n",
    "            )\n",
    "            return data_file\n",
    "\n",
    "    api_key = os.environ.get('Cindy_Quandl_API')\n",
    "    dl = quandl.export_table(\n",
    "        table_path, filename=data_file, api_key=api_key, **kwargs\n",
    "    )\n",
    "    file_size = os.stat(data_file).st_size\n",
    "    if os.path.exists(data_file) and file_size > 0:\n",
    "        print(f\"Download finished: {file_size} bytes\")\n",
    "        if not date_override:\n",
    "            if os.path.exists(data_symlink):\n",
    "                print(f\"Removing old symlink\")\n",
    "                os.unlink(data_symlink)\n",
    "            print(f\"Creating symlink: {data_file} -> {data_symlink}\")\n",
    "            os.symlink(\n",
    "                data_file, data_symlink,\n",
    "            )\n",
    "    else:\n",
    "        print(f\"Data file {data_file} failed download\")\n",
    "        return\n",
    "    return data_symlink if (date_override is None or allow_old_file) else \"NoFileAvailable\""
   ]
  },
  {
   "cell_type": "code",
   "execution_count": 18,
   "id": "b31d9961",
   "metadata": {},
   "outputs": [],
   "source": [
    "def fetch_quandl_table(table_path, avoid_download=True, **kwargs):\n",
    "    return pd.read_csv(\n",
    "        grab_quandl_table(table_path, avoid_download=avoid_download, **kwargs)\n",
    "    )"
   ]
  },
  {
   "cell_type": "code",
   "execution_count": 19,
   "id": "45138f92",
   "metadata": {},
   "outputs": [],
   "source": [
    "def Get_News(tickers):\n",
    "    \"\"\"\n",
    "    Retrives news headline of what time frame?\n",
    "    \"\"\"\n",
    "    news_tables = {}\n",
    "    parsed_news = []\n",
    "\n",
    "    for ticker in tickers:\n",
    "        url = finwiz_url + ticker\n",
    "        req = Request(url=url,headers={'User-Agent': 'Mozilla/5.0 (Windows NT 6.1; WOW64; rv:20.0) Gecko/20100101 Firefox/20.0'}) \n",
    "        response = urlopen(req)    \n",
    "        # Read the contents of the file into 'html'\n",
    "        html = BeautifulSoup(response)\n",
    "        # Find 'news-table' in the Soup and load it into 'news_table'\n",
    "        news_table = html.find(id='news-table')\n",
    "        # Add the table to our dictionary\n",
    "        news_tables[ticker] = news_table\n",
    "\n",
    "    # Iterate through the news to splite the data\n",
    "    for file_name, news_table in news_tables.items():\n",
    "        # Iterate through all tr tags in 'news_table'\n",
    "        for x in news_table.findAll('tr'):\n",
    "            # read the text from each tr tag into text\n",
    "            # get text from a only\n",
    "            try:\n",
    "                text = x.a.get_text() \n",
    "                # splite text in the td tag into a list \n",
    "                date_scrape = x.td.text.split()\n",
    "                # if the length of 'date_scrape' is 1, load 'time' as the only element\n",
    "            except:\n",
    "                continue\n",
    "\n",
    "            if len(date_scrape) == 1:\n",
    "                time = date_scrape[0]\n",
    "\n",
    "            # else load 'date' as the 1st element and 'time' as the second    \n",
    "            else:\n",
    "                date = date_scrape[0]\n",
    "                time = date_scrape[1]\n",
    "            # Extract the ticker from the file name, get the string up to the 1st '_'  \n",
    "            ticker = file_name.split('_')[0]\n",
    "\n",
    "            # Append ticker, date, time and headline as a list to the 'parsed_news' list\n",
    "            parsed_news.append([ticker, date, time, text])\n",
    "\n",
    "    return pd.DataFrame(parsed_news, columns = ['ticker','date','time','headline'])"
   ]
  },
  {
   "cell_type": "markdown",
   "id": "cb134307",
   "metadata": {},
   "source": [
    "### News\n",
    "\n",
    "- Get_News function with specified tickers name list as input will return a dataframe with 4 columns: 'ticker','date','time','headline';\n",
    "\n",
    "- BeautifulSoup package will only gather 100 news for each ticker specified;\n",
    "\n",
    "Let's only use two tickers, 'AMZN' and 'AAPL'."
   ]
  },
  {
   "cell_type": "code",
   "execution_count": 20,
   "id": "5e1c7370",
   "metadata": {},
   "outputs": [
    {
     "data": {
      "text/html": [
       "<div>\n",
       "<style scoped>\n",
       "    .dataframe tbody tr th:only-of-type {\n",
       "        vertical-align: middle;\n",
       "    }\n",
       "\n",
       "    .dataframe tbody tr th {\n",
       "        vertical-align: top;\n",
       "    }\n",
       "\n",
       "    .dataframe thead th {\n",
       "        text-align: right;\n",
       "    }\n",
       "</style>\n",
       "<table border=\"1\" class=\"dataframe\">\n",
       "  <thead>\n",
       "    <tr style=\"text-align: right;\">\n",
       "      <th></th>\n",
       "      <th>ticker</th>\n",
       "      <th>date</th>\n",
       "      <th>time</th>\n",
       "      <th>headline</th>\n",
       "    </tr>\n",
       "  </thead>\n",
       "  <tbody>\n",
       "    <tr>\n",
       "      <th>0</th>\n",
       "      <td>AMZN</td>\n",
       "      <td>2023-06-17</td>\n",
       "      <td>12:00PM</td>\n",
       "      <td>5 Dollar Tree Items That Make Great Gifts</td>\n",
       "    </tr>\n",
       "    <tr>\n",
       "      <th>1</th>\n",
       "      <td>AMZN</td>\n",
       "      <td>2023-06-17</td>\n",
       "      <td>10:31AM</td>\n",
       "      <td>10 Stocks That Could Be the Next Apple or Amazon</td>\n",
       "    </tr>\n",
       "    <tr>\n",
       "      <th>2</th>\n",
       "      <td>AMZN</td>\n",
       "      <td>2023-06-17</td>\n",
       "      <td>10:05AM</td>\n",
       "      <td>Amazon Stock: Bear vs. Bull</td>\n",
       "    </tr>\n",
       "    <tr>\n",
       "      <th>3</th>\n",
       "      <td>AMZN</td>\n",
       "      <td>2023-06-17</td>\n",
       "      <td>09:30AM</td>\n",
       "      <td>Shopify Up 85% This Year, Time to Sell the Stock?</td>\n",
       "    </tr>\n",
       "    <tr>\n",
       "      <th>4</th>\n",
       "      <td>AMZN</td>\n",
       "      <td>2023-06-17</td>\n",
       "      <td>09:24AM</td>\n",
       "      <td>4 Reasons to Buy This Tesla Rival Hand Over Fist</td>\n",
       "    </tr>\n",
       "    <tr>\n",
       "      <th>...</th>\n",
       "      <td>...</td>\n",
       "      <td>...</td>\n",
       "      <td>...</td>\n",
       "      <td>...</td>\n",
       "    </tr>\n",
       "    <tr>\n",
       "      <th>195</th>\n",
       "      <td>AAPL</td>\n",
       "      <td>2023-06-11</td>\n",
       "      <td>05:51AM</td>\n",
       "      <td>Here's the Next AI Stock Most Likely to Join t...</td>\n",
       "    </tr>\n",
       "    <tr>\n",
       "      <th>196</th>\n",
       "      <td>AAPL</td>\n",
       "      <td>2023-06-11</td>\n",
       "      <td>05:17AM</td>\n",
       "      <td>This week in tech: A tepid response to Apple's...</td>\n",
       "    </tr>\n",
       "    <tr>\n",
       "      <th>197</th>\n",
       "      <td>AAPL</td>\n",
       "      <td>2023-06-10</td>\n",
       "      <td>08:45AM</td>\n",
       "      <td>Is AI Taking Tech to the Top?</td>\n",
       "    </tr>\n",
       "    <tr>\n",
       "      <th>198</th>\n",
       "      <td>AAPL</td>\n",
       "      <td>2023-06-10</td>\n",
       "      <td>08:00AM</td>\n",
       "      <td>Entertainment, Guilds, Streaming, and AI</td>\n",
       "    </tr>\n",
       "    <tr>\n",
       "      <th>199</th>\n",
       "      <td>AAPL</td>\n",
       "      <td>2023-06-10</td>\n",
       "      <td>06:00AM</td>\n",
       "      <td>3 Things Apple Can Learn From Meta Platforms A...</td>\n",
       "    </tr>\n",
       "  </tbody>\n",
       "</table>\n",
       "<p>200 rows × 4 columns</p>\n",
       "</div>"
      ],
      "text/plain": [
       "    ticker       date     time  \\\n",
       "0     AMZN 2023-06-17  12:00PM   \n",
       "1     AMZN 2023-06-17  10:31AM   \n",
       "2     AMZN 2023-06-17  10:05AM   \n",
       "3     AMZN 2023-06-17  09:30AM   \n",
       "4     AMZN 2023-06-17  09:24AM   \n",
       "..     ...        ...      ...   \n",
       "195   AAPL 2023-06-11  05:51AM   \n",
       "196   AAPL 2023-06-11  05:17AM   \n",
       "197   AAPL 2023-06-10  08:45AM   \n",
       "198   AAPL 2023-06-10  08:00AM   \n",
       "199   AAPL 2023-06-10  06:00AM   \n",
       "\n",
       "                                              headline  \n",
       "0            5 Dollar Tree Items That Make Great Gifts  \n",
       "1     10 Stocks That Could Be the Next Apple or Amazon  \n",
       "2                          Amazon Stock: Bear vs. Bull  \n",
       "3    Shopify Up 85% This Year, Time to Sell the Stock?  \n",
       "4     4 Reasons to Buy This Tesla Rival Hand Over Fist  \n",
       "..                                                 ...  \n",
       "195  Here's the Next AI Stock Most Likely to Join t...  \n",
       "196  This week in tech: A tepid response to Apple's...  \n",
       "197                      Is AI Taking Tech to the Top?  \n",
       "198           Entertainment, Guilds, Streaming, and AI  \n",
       "199  3 Things Apple Can Learn From Meta Platforms A...  \n",
       "\n",
       "[200 rows x 4 columns]"
      ]
     },
     "execution_count": 20,
     "metadata": {},
     "output_type": "execute_result"
    }
   ],
   "source": [
    "tickers = ['AMZN','AAPL']\n",
    "news = Get_News(tickers)\n",
    "news['date'] = pd.to_datetime(news['date'])\n",
    "#news['time'] = pd.to_datetime(news['time'], format='%I:%M%p').dt.time\n",
    "news"
   ]
  },
  {
   "cell_type": "code",
   "execution_count": 53,
   "id": "9bded98a",
   "metadata": {},
   "outputs": [
    {
     "data": {
      "text/plain": [
       "8"
      ]
     },
     "execution_count": 53,
     "metadata": {},
     "output_type": "execute_result"
    }
   ],
   "source": [
    "news['date'].nunique()"
   ]
  },
  {
   "cell_type": "markdown",
   "id": "c5a714f3",
   "metadata": {},
   "source": [
    "### Stock prices data"
   ]
  },
  {
   "cell_type": "code",
   "execution_count": 40,
   "id": "b3abc107",
   "metadata": {
    "scrolled": true
   },
   "outputs": [
    {
     "name": "stdout",
     "output_type": "stream",
     "text": [
      "Download finished: 1421193738 bytes\n",
      "Creating symlink: /Users/amberlee/Documents/DS4A/quandl_data_table_downloads/QUOTEMEDIA/PRICES_20230617.zip -> /Users/amberlee/Documents/DS4A/quandl_data_table_downloads/QUOTEMEDIA/PRICES_latest.zip\n"
     ]
    }
   ],
   "source": [
    "full_price = fetch_quandl_table('QUOTEMEDIA/PRICES', avoid_download=False)"
   ]
  },
  {
   "cell_type": "code",
   "execution_count": 59,
   "id": "922aa003",
   "metadata": {},
   "outputs": [
    {
     "data": {
      "text/html": [
       "<div>\n",
       "<style scoped>\n",
       "    .dataframe tbody tr th:only-of-type {\n",
       "        vertical-align: middle;\n",
       "    }\n",
       "\n",
       "    .dataframe tbody tr th {\n",
       "        vertical-align: top;\n",
       "    }\n",
       "\n",
       "    .dataframe thead th {\n",
       "        text-align: right;\n",
       "    }\n",
       "</style>\n",
       "<table border=\"1\" class=\"dataframe\">\n",
       "  <thead>\n",
       "    <tr style=\"text-align: right;\">\n",
       "      <th></th>\n",
       "      <th>ticker</th>\n",
       "      <th>date</th>\n",
       "      <th>open</th>\n",
       "      <th>high</th>\n",
       "      <th>low</th>\n",
       "      <th>close</th>\n",
       "      <th>volume</th>\n",
       "      <th>dividend</th>\n",
       "      <th>split</th>\n",
       "      <th>adj_open</th>\n",
       "      <th>adj_high</th>\n",
       "      <th>adj_low</th>\n",
       "      <th>adj_close</th>\n",
       "      <th>adj_volume</th>\n",
       "    </tr>\n",
       "  </thead>\n",
       "  <tbody>\n",
       "    <tr>\n",
       "      <th>0</th>\n",
       "      <td>JTKWY</td>\n",
       "      <td>2022-03-11</td>\n",
       "      <td>6.1700</td>\n",
       "      <td>7.3200</td>\n",
       "      <td>5.790</td>\n",
       "      <td>6.72</td>\n",
       "      <td>9440097.0</td>\n",
       "      <td>0.0</td>\n",
       "      <td>1.0</td>\n",
       "      <td>6.1700</td>\n",
       "      <td>7.3200</td>\n",
       "      <td>5.790</td>\n",
       "      <td>6.72</td>\n",
       "      <td>9440097.0</td>\n",
       "    </tr>\n",
       "    <tr>\n",
       "      <th>1</th>\n",
       "      <td>JTKWY</td>\n",
       "      <td>2022-03-10</td>\n",
       "      <td>6.1600</td>\n",
       "      <td>6.1750</td>\n",
       "      <td>5.935</td>\n",
       "      <td>6.07</td>\n",
       "      <td>2261623.0</td>\n",
       "      <td>0.0</td>\n",
       "      <td>1.0</td>\n",
       "      <td>6.1600</td>\n",
       "      <td>6.1750</td>\n",
       "      <td>5.935</td>\n",
       "      <td>6.07</td>\n",
       "      <td>2261623.0</td>\n",
       "    </tr>\n",
       "    <tr>\n",
       "      <th>2</th>\n",
       "      <td>FG_1</td>\n",
       "      <td>2020-06-01</td>\n",
       "      <td>8.1000</td>\n",
       "      <td>8.3900</td>\n",
       "      <td>8.100</td>\n",
       "      <td>8.39</td>\n",
       "      <td>3086317.0</td>\n",
       "      <td>0.0</td>\n",
       "      <td>1.0</td>\n",
       "      <td>8.1000</td>\n",
       "      <td>8.3900</td>\n",
       "      <td>8.100</td>\n",
       "      <td>8.39</td>\n",
       "      <td>3086317.0</td>\n",
       "    </tr>\n",
       "    <tr>\n",
       "      <th>3</th>\n",
       "      <td>FLWS</td>\n",
       "      <td>2022-03-09</td>\n",
       "      <td>14.5700</td>\n",
       "      <td>14.9588</td>\n",
       "      <td>14.410</td>\n",
       "      <td>14.45</td>\n",
       "      <td>662492.0</td>\n",
       "      <td>0.0</td>\n",
       "      <td>1.0</td>\n",
       "      <td>14.5700</td>\n",
       "      <td>14.9588</td>\n",
       "      <td>14.410</td>\n",
       "      <td>14.45</td>\n",
       "      <td>662492.0</td>\n",
       "    </tr>\n",
       "    <tr>\n",
       "      <th>4</th>\n",
       "      <td>RENW_</td>\n",
       "      <td>2020-01-29</td>\n",
       "      <td>21.9768</td>\n",
       "      <td>21.9900</td>\n",
       "      <td>21.970</td>\n",
       "      <td>21.99</td>\n",
       "      <td>319.0</td>\n",
       "      <td>0.0</td>\n",
       "      <td>1.0</td>\n",
       "      <td>21.9768</td>\n",
       "      <td>21.9900</td>\n",
       "      <td>21.970</td>\n",
       "      <td>21.99</td>\n",
       "      <td>319.0</td>\n",
       "    </tr>\n",
       "  </tbody>\n",
       "</table>\n",
       "</div>"
      ],
      "text/plain": [
       "  ticker        date     open     high     low  close     volume  dividend  \\\n",
       "0  JTKWY  2022-03-11   6.1700   7.3200   5.790   6.72  9440097.0       0.0   \n",
       "1  JTKWY  2022-03-10   6.1600   6.1750   5.935   6.07  2261623.0       0.0   \n",
       "2   FG_1  2020-06-01   8.1000   8.3900   8.100   8.39  3086317.0       0.0   \n",
       "3   FLWS  2022-03-09  14.5700  14.9588  14.410  14.45   662492.0       0.0   \n",
       "4  RENW_  2020-01-29  21.9768  21.9900  21.970  21.99      319.0       0.0   \n",
       "\n",
       "   split  adj_open  adj_high  adj_low  adj_close  adj_volume  \n",
       "0    1.0    6.1700    7.3200    5.790       6.72   9440097.0  \n",
       "1    1.0    6.1600    6.1750    5.935       6.07   2261623.0  \n",
       "2    1.0    8.1000    8.3900    8.100       8.39   3086317.0  \n",
       "3    1.0   14.5700   14.9588   14.410      14.45    662492.0  \n",
       "4    1.0   21.9768   21.9900   21.970      21.99       319.0  "
      ]
     },
     "execution_count": 59,
     "metadata": {},
     "output_type": "execute_result"
    }
   ],
   "source": [
    "full_price.head()"
   ]
  },
  {
   "cell_type": "markdown",
   "id": "d51f7f3c",
   "metadata": {},
   "source": [
    "**Full dataset exploration**"
   ]
  },
  {
   "cell_type": "code",
   "execution_count": 45,
   "id": "44e73df6",
   "metadata": {},
   "outputs": [
    {
     "data": {
      "text/plain": [
       "21117"
      ]
     },
     "execution_count": 45,
     "metadata": {},
     "output_type": "execute_result"
    }
   ],
   "source": [
    "full_price['ticker'].nunique() # number of unique tickers"
   ]
  },
  {
   "cell_type": "code",
   "execution_count": 49,
   "id": "1b5c9d63",
   "metadata": {},
   "outputs": [
    {
     "name": "stdout",
     "output_type": "stream",
     "text": [
      "2023-06-16\n",
      "1962-01-02\n"
     ]
    }
   ],
   "source": [
    "print(max(full_price['date']))\n",
    "print(min(full_price['date']))"
   ]
  },
  {
   "cell_type": "markdown",
   "id": "7654413e",
   "metadata": {},
   "source": [
    "**Filter to relevant tickers**"
   ]
  },
  {
   "cell_type": "code",
   "execution_count": 50,
   "id": "ac2407cb",
   "metadata": {},
   "outputs": [
    {
     "data": {
      "text/html": [
       "<div>\n",
       "<style scoped>\n",
       "    .dataframe tbody tr th:only-of-type {\n",
       "        vertical-align: middle;\n",
       "    }\n",
       "\n",
       "    .dataframe tbody tr th {\n",
       "        vertical-align: top;\n",
       "    }\n",
       "\n",
       "    .dataframe thead th {\n",
       "        text-align: right;\n",
       "    }\n",
       "</style>\n",
       "<table border=\"1\" class=\"dataframe\">\n",
       "  <thead>\n",
       "    <tr style=\"text-align: right;\">\n",
       "      <th></th>\n",
       "      <th>ticker</th>\n",
       "      <th>date</th>\n",
       "      <th>open</th>\n",
       "      <th>high</th>\n",
       "      <th>low</th>\n",
       "      <th>close</th>\n",
       "      <th>volume</th>\n",
       "      <th>dividend</th>\n",
       "      <th>split</th>\n",
       "      <th>adj_open</th>\n",
       "      <th>adj_high</th>\n",
       "      <th>adj_low</th>\n",
       "      <th>adj_close</th>\n",
       "      <th>adj_volume</th>\n",
       "    </tr>\n",
       "  </thead>\n",
       "  <tbody>\n",
       "  </tbody>\n",
       "</table>\n",
       "</div>"
      ],
      "text/plain": [
       "Empty DataFrame\n",
       "Columns: [ticker, date, open, high, low, close, volume, dividend, split, adj_open, adj_high, adj_low, adj_close, adj_volume]\n",
       "Index: []"
      ]
     },
     "execution_count": 50,
     "metadata": {},
     "output_type": "execute_result"
    }
   ],
   "source": [
    "tickers_price = full_price[(full_price['ticker'].isin(tickers)) & \n",
    "                   ((full_price['date'].isin(news.date.unique()))) ].sort_values(by = 'ticker')\n",
    "tickers_price"
   ]
  },
  {
   "cell_type": "code",
   "execution_count": 56,
   "id": "be3f88c8",
   "metadata": {},
   "outputs": [
    {
     "data": {
      "text/plain": [
       "0           False\n",
       "1           False\n",
       "2           False\n",
       "3           False\n",
       "4           False\n",
       "            ...  \n",
       "45951495    False\n",
       "45951496    False\n",
       "45951497    False\n",
       "45951498    False\n",
       "45951499    False\n",
       "Name: ticker, Length: 45951500, dtype: bool"
      ]
     },
     "execution_count": 56,
     "metadata": {},
     "output_type": "execute_result"
    }
   ],
   "source": [
    "full_price['ticker'].isin(tickers)"
   ]
  },
  {
   "cell_type": "code",
   "execution_count": 58,
   "id": "09b4ba50",
   "metadata": {},
   "outputs": [
    {
     "data": {
      "text/plain": [
       "0"
      ]
     },
     "execution_count": 58,
     "metadata": {},
     "output_type": "execute_result"
    }
   ],
   "source": [
    "sum(full_price['date'].isin(news.date.unique()))"
   ]
  },
  {
   "cell_type": "code",
   "execution_count": null,
   "id": "dfa37ddf",
   "metadata": {},
   "outputs": [],
   "source": []
  },
  {
   "cell_type": "code",
   "execution_count": null,
   "id": "7bc17812",
   "metadata": {},
   "outputs": [],
   "source": []
  },
  {
   "cell_type": "code",
   "execution_count": null,
   "id": "25a8ea97",
   "metadata": {},
   "outputs": [],
   "source": []
  },
  {
   "cell_type": "code",
   "execution_count": null,
   "id": "f9df656f",
   "metadata": {},
   "outputs": [],
   "source": []
  },
  {
   "cell_type": "code",
   "execution_count": null,
   "id": "31ed197d",
   "metadata": {},
   "outputs": [],
   "source": []
  },
  {
   "cell_type": "code",
   "execution_count": null,
   "id": "44178c42",
   "metadata": {},
   "outputs": [],
   "source": []
  },
  {
   "cell_type": "code",
   "execution_count": null,
   "id": "8f1be446",
   "metadata": {},
   "outputs": [],
   "source": []
  },
  {
   "cell_type": "code",
   "execution_count": null,
   "id": "513fc479",
   "metadata": {},
   "outputs": [],
   "source": []
  },
  {
   "cell_type": "code",
   "execution_count": null,
   "id": "2686e6cb",
   "metadata": {},
   "outputs": [],
   "source": []
  }
 ],
 "metadata": {
  "kernelspec": {
   "display_name": "Python 3 (ipykernel)",
   "language": "python",
   "name": "python3"
  },
  "language_info": {
   "codemirror_mode": {
    "name": "ipython",
    "version": 3
   },
   "file_extension": ".py",
   "mimetype": "text/x-python",
   "name": "python",
   "nbconvert_exporter": "python",
   "pygments_lexer": "ipython3",
   "version": "3.10.9"
  }
 },
 "nbformat": 4,
 "nbformat_minor": 5
}
