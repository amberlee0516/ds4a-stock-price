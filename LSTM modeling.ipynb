{
 "cells": [
  {
   "cell_type": "markdown",
   "id": "0bfff69b",
   "metadata": {},
   "source": [
    "# LSTM"
   ]
  },
  {
   "cell_type": "markdown",
   "id": "cb8ed176",
   "metadata": {},
   "source": [
    "### Set up"
   ]
  },
  {
   "cell_type": "code",
   "execution_count": null,
   "id": "ffd405c6",
   "metadata": {},
   "outputs": [],
   "source": [
    "import pandas as pd\n"
   ]
  },
  {
   "cell_type": "markdown",
   "id": "e9b9f4c5",
   "metadata": {},
   "source": [
    "### About LSTM\n",
    "\n",
    "[Tutorial](https://machinelearningmastery.com/how-to-develop-lstm-models-for-time-series-forecasting/)"
   ]
  },
  {
   "cell_type": "markdown",
   "id": "0d6a8921",
   "metadata": {},
   "source": [
    "### Dataset\n",
    "\n",
    "* 01/01/2018 - 07/01/2023\n",
    "* Train: 2018-2021\n",
    "* Test: 2022-July 2023 (tech recession!)\n",
    "* Companies: Amazon, Apple, Google, Microsoft, Nvidia"
   ]
  },
  {
   "cell_type": "code",
   "execution_count": null,
   "id": "50e90870",
   "metadata": {},
   "outputs": [],
   "source": []
  },
  {
   "cell_type": "markdown",
   "id": "ca5748d2",
   "metadata": {},
   "source": [
    "### Baseline LSTM: Not including sentiment analysis"
   ]
  }
 ],
 "metadata": {
  "kernelspec": {
   "display_name": "Python 3 (ipykernel)",
   "language": "python",
   "name": "python3"
  },
  "language_info": {
   "codemirror_mode": {
    "name": "ipython",
    "version": 3
   },
   "file_extension": ".py",
   "mimetype": "text/x-python",
   "name": "python",
   "nbconvert_exporter": "python",
   "pygments_lexer": "ipython3",
   "version": "3.10.9"
  }
 },
 "nbformat": 4,
 "nbformat_minor": 5
}
