{
 "cells": [
  {
   "cell_type": "code",
   "execution_count": 48,
   "outputs": [],
   "source": [
    "import os\n",
    "import pandas as pd\n",
    "import numpy as np\n",
    "import datetime as dt\n",
    "import matplotlib.pyplot as plt\n",
    "\n",
    "import zipfile"
   ],
   "metadata": {
    "collapsed": false
   }
  },
  {
   "cell_type": "code",
   "execution_count": 3,
   "outputs": [
    {
     "data": {
      "text/plain": "  ticker        date     open     high     low  close     volume  dividend  \\\n0  JTKWY  2022-03-11   6.1700   7.3200   5.790   6.72  9440097.0       0.0   \n1  JTKWY  2022-03-10   6.1600   6.1750   5.935   6.07  2261623.0       0.0   \n2   FG_1  2020-06-01   8.1000   8.3900   8.100   8.39  3086317.0       0.0   \n3   FLWS  2022-03-09  14.5700  14.9588  14.410  14.45   662492.0       0.0   \n4  RENW_  2020-01-29  21.9768  21.9900  21.970  21.99      319.0       0.0   \n\n   split  adj_open  adj_high  adj_low  adj_close  adj_volume  \n0    1.0    6.1700    7.3200    5.790       6.72   9440097.0  \n1    1.0    6.1600    6.1750    5.935       6.07   2261623.0  \n2    1.0    8.1000    8.3900    8.100       8.39   3086317.0  \n3    1.0   14.5700   14.9588   14.410      14.45    662492.0  \n4    1.0   21.9768   21.9900   21.970      21.99       319.0  ",
      "text/html": "<div>\n<style scoped>\n    .dataframe tbody tr th:only-of-type {\n        vertical-align: middle;\n    }\n\n    .dataframe tbody tr th {\n        vertical-align: top;\n    }\n\n    .dataframe thead th {\n        text-align: right;\n    }\n</style>\n<table border=\"1\" class=\"dataframe\">\n  <thead>\n    <tr style=\"text-align: right;\">\n      <th></th>\n      <th>ticker</th>\n      <th>date</th>\n      <th>open</th>\n      <th>high</th>\n      <th>low</th>\n      <th>close</th>\n      <th>volume</th>\n      <th>dividend</th>\n      <th>split</th>\n      <th>adj_open</th>\n      <th>adj_high</th>\n      <th>adj_low</th>\n      <th>adj_close</th>\n      <th>adj_volume</th>\n    </tr>\n  </thead>\n  <tbody>\n    <tr>\n      <th>0</th>\n      <td>JTKWY</td>\n      <td>2022-03-11</td>\n      <td>6.1700</td>\n      <td>7.3200</td>\n      <td>5.790</td>\n      <td>6.72</td>\n      <td>9440097.0</td>\n      <td>0.0</td>\n      <td>1.0</td>\n      <td>6.1700</td>\n      <td>7.3200</td>\n      <td>5.790</td>\n      <td>6.72</td>\n      <td>9440097.0</td>\n    </tr>\n    <tr>\n      <th>1</th>\n      <td>JTKWY</td>\n      <td>2022-03-10</td>\n      <td>6.1600</td>\n      <td>6.1750</td>\n      <td>5.935</td>\n      <td>6.07</td>\n      <td>2261623.0</td>\n      <td>0.0</td>\n      <td>1.0</td>\n      <td>6.1600</td>\n      <td>6.1750</td>\n      <td>5.935</td>\n      <td>6.07</td>\n      <td>2261623.0</td>\n    </tr>\n    <tr>\n      <th>2</th>\n      <td>FG_1</td>\n      <td>2020-06-01</td>\n      <td>8.1000</td>\n      <td>8.3900</td>\n      <td>8.100</td>\n      <td>8.39</td>\n      <td>3086317.0</td>\n      <td>0.0</td>\n      <td>1.0</td>\n      <td>8.1000</td>\n      <td>8.3900</td>\n      <td>8.100</td>\n      <td>8.39</td>\n      <td>3086317.0</td>\n    </tr>\n    <tr>\n      <th>3</th>\n      <td>FLWS</td>\n      <td>2022-03-09</td>\n      <td>14.5700</td>\n      <td>14.9588</td>\n      <td>14.410</td>\n      <td>14.45</td>\n      <td>662492.0</td>\n      <td>0.0</td>\n      <td>1.0</td>\n      <td>14.5700</td>\n      <td>14.9588</td>\n      <td>14.410</td>\n      <td>14.45</td>\n      <td>662492.0</td>\n    </tr>\n    <tr>\n      <th>4</th>\n      <td>RENW_</td>\n      <td>2020-01-29</td>\n      <td>21.9768</td>\n      <td>21.9900</td>\n      <td>21.970</td>\n      <td>21.99</td>\n      <td>319.0</td>\n      <td>0.0</td>\n      <td>1.0</td>\n      <td>21.9768</td>\n      <td>21.9900</td>\n      <td>21.970</td>\n      <td>21.99</td>\n      <td>319.0</td>\n    </tr>\n  </tbody>\n</table>\n</div>"
     },
     "execution_count": 3,
     "metadata": {},
     "output_type": "execute_result"
    }
   ],
   "source": [
    "full_price = pd.read_csv(\"/Users/cindy/quandl_data_table_downloads/QUOTEMEDIA/QUOTEMEDIA_PRICES_20230614.csv\")\n",
    "full_price.head()"
   ],
   "metadata": {
    "collapsed": false
   }
  },
  {
   "cell_type": "code",
   "execution_count": 5,
   "outputs": [
    {
     "data": {
      "text/plain": "                           Company Symbol    Weight\n0                       Apple Inc.   AAPL  6.634317\n1            Microsoft Corporation   MSFT  5.627977\n2                  Amazon.com Inc.   AMZN  2.508250\n3            Alphabet Inc. Class A  GOOGL  1.638209\n4  Berkshire Hathaway Inc. Class B  BRK.B  1.629718",
      "text/html": "<div>\n<style scoped>\n    .dataframe tbody tr th:only-of-type {\n        vertical-align: middle;\n    }\n\n    .dataframe tbody tr th {\n        vertical-align: top;\n    }\n\n    .dataframe thead th {\n        text-align: right;\n    }\n</style>\n<table border=\"1\" class=\"dataframe\">\n  <thead>\n    <tr style=\"text-align: right;\">\n      <th></th>\n      <th>Company</th>\n      <th>Symbol</th>\n      <th>Weight</th>\n    </tr>\n  </thead>\n  <tbody>\n    <tr>\n      <th>0</th>\n      <td>Apple Inc.</td>\n      <td>AAPL</td>\n      <td>6.634317</td>\n    </tr>\n    <tr>\n      <th>1</th>\n      <td>Microsoft Corporation</td>\n      <td>MSFT</td>\n      <td>5.627977</td>\n    </tr>\n    <tr>\n      <th>2</th>\n      <td>Amazon.com Inc.</td>\n      <td>AMZN</td>\n      <td>2.508250</td>\n    </tr>\n    <tr>\n      <th>3</th>\n      <td>Alphabet Inc. Class A</td>\n      <td>GOOGL</td>\n      <td>1.638209</td>\n    </tr>\n    <tr>\n      <th>4</th>\n      <td>Berkshire Hathaway Inc. Class B</td>\n      <td>BRK.B</td>\n      <td>1.629718</td>\n    </tr>\n  </tbody>\n</table>\n</div>"
     },
     "execution_count": 5,
     "metadata": {},
     "output_type": "execute_result"
    }
   ],
   "source": [
    "SP500 = pd.read_excel(\"S&P 500 tickers.xlsx\")\n",
    "SP500.head()"
   ],
   "metadata": {
    "collapsed": false
   }
  },
  {
   "cell_type": "code",
   "execution_count": 113,
   "outputs": [
    {
     "data": {
      "text/plain": "        Date  Mkt-RF   SMB   HML   RMW   CMA     RF\n0 1963-07-01   -0.67  0.02 -0.35  0.03  0.13  0.012\n1 1963-07-02    0.79 -0.28  0.28 -0.08 -0.21  0.012\n2 1963-07-03    0.63 -0.18 -0.10  0.13 -0.25  0.012\n3 1963-07-05    0.40  0.09 -0.28  0.07 -0.30  0.012\n4 1963-07-08   -0.63  0.07 -0.20 -0.27  0.06  0.012",
      "text/html": "<div>\n<style scoped>\n    .dataframe tbody tr th:only-of-type {\n        vertical-align: middle;\n    }\n\n    .dataframe tbody tr th {\n        vertical-align: top;\n    }\n\n    .dataframe thead th {\n        text-align: right;\n    }\n</style>\n<table border=\"1\" class=\"dataframe\">\n  <thead>\n    <tr style=\"text-align: right;\">\n      <th></th>\n      <th>Date</th>\n      <th>Mkt-RF</th>\n      <th>SMB</th>\n      <th>HML</th>\n      <th>RMW</th>\n      <th>CMA</th>\n      <th>RF</th>\n    </tr>\n  </thead>\n  <tbody>\n    <tr>\n      <th>0</th>\n      <td>1963-07-01</td>\n      <td>-0.67</td>\n      <td>0.02</td>\n      <td>-0.35</td>\n      <td>0.03</td>\n      <td>0.13</td>\n      <td>0.012</td>\n    </tr>\n    <tr>\n      <th>1</th>\n      <td>1963-07-02</td>\n      <td>0.79</td>\n      <td>-0.28</td>\n      <td>0.28</td>\n      <td>-0.08</td>\n      <td>-0.21</td>\n      <td>0.012</td>\n    </tr>\n    <tr>\n      <th>2</th>\n      <td>1963-07-03</td>\n      <td>0.63</td>\n      <td>-0.18</td>\n      <td>-0.10</td>\n      <td>0.13</td>\n      <td>-0.25</td>\n      <td>0.012</td>\n    </tr>\n    <tr>\n      <th>3</th>\n      <td>1963-07-05</td>\n      <td>0.40</td>\n      <td>0.09</td>\n      <td>-0.28</td>\n      <td>0.07</td>\n      <td>-0.30</td>\n      <td>0.012</td>\n    </tr>\n    <tr>\n      <th>4</th>\n      <td>1963-07-08</td>\n      <td>-0.63</td>\n      <td>0.07</td>\n      <td>-0.20</td>\n      <td>-0.27</td>\n      <td>0.06</td>\n      <td>0.012</td>\n    </tr>\n  </tbody>\n</table>\n</div>"
     },
     "execution_count": 113,
     "metadata": {},
     "output_type": "execute_result"
    }
   ],
   "source": [
    "F_F_5_Factors = pd.read_csv(\"F_F_Research_Data_5_Factors_daily.csv\", skiprows = 3)\n",
    "F_F_5_Factors.columns = ['Date', 'Mkt-RF', 'SMB', 'HML', 'RMW', 'CMA', 'RF']\n",
    "F_F_5_Factors['Date'] = pd.to_datetime(F_F_5_Factors['Date'], format='%Y%m%d')\n",
    "F_F_5_Factors.head()"
   ],
   "metadata": {
    "collapsed": false
   }
  },
  {
   "cell_type": "markdown",
   "source": [
    "We define the universe as newest S&P 500 stocks that have at least 5 years of price data. It means that we will exclude the stocks that are IPO after 2018-01-01."
   ],
   "metadata": {
    "collapsed": false
   }
  },
  {
   "cell_type": "code",
   "execution_count": 106,
   "outputs": [
    {
     "data": {
      "text/plain": "         ticker       date    open    high     low   close      volume  \\\n34609545      A 1999-11-18   45.50   50.00   40.00   44.00  44739900.0   \n8276274       A 1999-11-19   42.94   43.00   39.81   40.38  10897100.0   \n8276273       A 1999-11-22   41.31   44.00   40.06   44.00   4705200.0   \n8276272       A 1999-11-23   42.50   43.63   40.25   40.25   4274400.0   \n8276271       A 1999-11-24   40.13   41.94   40.00   41.06   3464400.0   \n...         ...        ...     ...     ...     ...     ...         ...   \n5882272     ZTS 2023-06-07  170.14  170.14  162.84  163.58   3195076.0   \n6750729     ZTS 2023-06-08  162.96  164.87  162.38  164.30   1983997.0   \n45051669    ZTS 2023-06-09  163.73  164.23  162.95  163.09   1346569.0   \n17458601    ZTS 2023-06-12  163.84  165.61  162.76  165.55   1422996.0   \n20632914    ZTS 2023-06-13  165.62  167.27  165.55  166.01   1867679.0   \n\n          dividend  split    adj_open    adj_high     adj_low   adj_close  \\\n34609545       0.0    1.0   29.783619   32.729252   26.183402   28.801742   \n8276274        0.0    1.0   28.107882   28.147157   26.059030   26.432144   \n8276273        0.0    1.0   27.040908   28.801742   26.222677   28.801742   \n8276272        0.0    1.0   27.819864   28.559545   26.347048   26.347048   \n8276271        0.0    1.0   26.268498   27.453297   26.183402   26.877262   \n...            ...    ...         ...         ...         ...         ...   \n5882272        0.0    1.0  170.140000  170.140000  162.840000  163.580000   \n6750729        0.0    1.0  162.960000  164.870000  162.380000  164.300000   \n45051669       0.0    1.0  163.730000  164.230000  162.950000  163.090000   \n17458601       0.0    1.0  163.840000  165.610000  162.760000  165.550000   \n20632914       0.0    1.0  165.620000  167.270000  165.550000  166.010000   \n\n          adj_volume  \n34609545  44739900.0  \n8276274   10897100.0  \n8276273    4705200.0  \n8276272    4274400.0  \n8276271    3464400.0  \n...              ...  \n5882272    3195076.0  \n6750729    1983997.0  \n45051669   1346569.0  \n17458601   1422996.0  \n20632914   1867679.0  \n\n[3805219 rows x 14 columns]",
      "text/html": "<div>\n<style scoped>\n    .dataframe tbody tr th:only-of-type {\n        vertical-align: middle;\n    }\n\n    .dataframe tbody tr th {\n        vertical-align: top;\n    }\n\n    .dataframe thead th {\n        text-align: right;\n    }\n</style>\n<table border=\"1\" class=\"dataframe\">\n  <thead>\n    <tr style=\"text-align: right;\">\n      <th></th>\n      <th>ticker</th>\n      <th>date</th>\n      <th>open</th>\n      <th>high</th>\n      <th>low</th>\n      <th>close</th>\n      <th>volume</th>\n      <th>dividend</th>\n      <th>split</th>\n      <th>adj_open</th>\n      <th>adj_high</th>\n      <th>adj_low</th>\n      <th>adj_close</th>\n      <th>adj_volume</th>\n    </tr>\n  </thead>\n  <tbody>\n    <tr>\n      <th>34609545</th>\n      <td>A</td>\n      <td>1999-11-18</td>\n      <td>45.50</td>\n      <td>50.00</td>\n      <td>40.00</td>\n      <td>44.00</td>\n      <td>44739900.0</td>\n      <td>0.0</td>\n      <td>1.0</td>\n      <td>29.783619</td>\n      <td>32.729252</td>\n      <td>26.183402</td>\n      <td>28.801742</td>\n      <td>44739900.0</td>\n    </tr>\n    <tr>\n      <th>8276274</th>\n      <td>A</td>\n      <td>1999-11-19</td>\n      <td>42.94</td>\n      <td>43.00</td>\n      <td>39.81</td>\n      <td>40.38</td>\n      <td>10897100.0</td>\n      <td>0.0</td>\n      <td>1.0</td>\n      <td>28.107882</td>\n      <td>28.147157</td>\n      <td>26.059030</td>\n      <td>26.432144</td>\n      <td>10897100.0</td>\n    </tr>\n    <tr>\n      <th>8276273</th>\n      <td>A</td>\n      <td>1999-11-22</td>\n      <td>41.31</td>\n      <td>44.00</td>\n      <td>40.06</td>\n      <td>44.00</td>\n      <td>4705200.0</td>\n      <td>0.0</td>\n      <td>1.0</td>\n      <td>27.040908</td>\n      <td>28.801742</td>\n      <td>26.222677</td>\n      <td>28.801742</td>\n      <td>4705200.0</td>\n    </tr>\n    <tr>\n      <th>8276272</th>\n      <td>A</td>\n      <td>1999-11-23</td>\n      <td>42.50</td>\n      <td>43.63</td>\n      <td>40.25</td>\n      <td>40.25</td>\n      <td>4274400.0</td>\n      <td>0.0</td>\n      <td>1.0</td>\n      <td>27.819864</td>\n      <td>28.559545</td>\n      <td>26.347048</td>\n      <td>26.347048</td>\n      <td>4274400.0</td>\n    </tr>\n    <tr>\n      <th>8276271</th>\n      <td>A</td>\n      <td>1999-11-24</td>\n      <td>40.13</td>\n      <td>41.94</td>\n      <td>40.00</td>\n      <td>41.06</td>\n      <td>3464400.0</td>\n      <td>0.0</td>\n      <td>1.0</td>\n      <td>26.268498</td>\n      <td>27.453297</td>\n      <td>26.183402</td>\n      <td>26.877262</td>\n      <td>3464400.0</td>\n    </tr>\n    <tr>\n      <th>...</th>\n      <td>...</td>\n      <td>...</td>\n      <td>...</td>\n      <td>...</td>\n      <td>...</td>\n      <td>...</td>\n      <td>...</td>\n      <td>...</td>\n      <td>...</td>\n      <td>...</td>\n      <td>...</td>\n      <td>...</td>\n      <td>...</td>\n      <td>...</td>\n    </tr>\n    <tr>\n      <th>5882272</th>\n      <td>ZTS</td>\n      <td>2023-06-07</td>\n      <td>170.14</td>\n      <td>170.14</td>\n      <td>162.84</td>\n      <td>163.58</td>\n      <td>3195076.0</td>\n      <td>0.0</td>\n      <td>1.0</td>\n      <td>170.140000</td>\n      <td>170.140000</td>\n      <td>162.840000</td>\n      <td>163.580000</td>\n      <td>3195076.0</td>\n    </tr>\n    <tr>\n      <th>6750729</th>\n      <td>ZTS</td>\n      <td>2023-06-08</td>\n      <td>162.96</td>\n      <td>164.87</td>\n      <td>162.38</td>\n      <td>164.30</td>\n      <td>1983997.0</td>\n      <td>0.0</td>\n      <td>1.0</td>\n      <td>162.960000</td>\n      <td>164.870000</td>\n      <td>162.380000</td>\n      <td>164.300000</td>\n      <td>1983997.0</td>\n    </tr>\n    <tr>\n      <th>45051669</th>\n      <td>ZTS</td>\n      <td>2023-06-09</td>\n      <td>163.73</td>\n      <td>164.23</td>\n      <td>162.95</td>\n      <td>163.09</td>\n      <td>1346569.0</td>\n      <td>0.0</td>\n      <td>1.0</td>\n      <td>163.730000</td>\n      <td>164.230000</td>\n      <td>162.950000</td>\n      <td>163.090000</td>\n      <td>1346569.0</td>\n    </tr>\n    <tr>\n      <th>17458601</th>\n      <td>ZTS</td>\n      <td>2023-06-12</td>\n      <td>163.84</td>\n      <td>165.61</td>\n      <td>162.76</td>\n      <td>165.55</td>\n      <td>1422996.0</td>\n      <td>0.0</td>\n      <td>1.0</td>\n      <td>163.840000</td>\n      <td>165.610000</td>\n      <td>162.760000</td>\n      <td>165.550000</td>\n      <td>1422996.0</td>\n    </tr>\n    <tr>\n      <th>20632914</th>\n      <td>ZTS</td>\n      <td>2023-06-13</td>\n      <td>165.62</td>\n      <td>167.27</td>\n      <td>165.55</td>\n      <td>166.01</td>\n      <td>1867679.0</td>\n      <td>0.0</td>\n      <td>1.0</td>\n      <td>165.620000</td>\n      <td>167.270000</td>\n      <td>165.550000</td>\n      <td>166.010000</td>\n      <td>1867679.0</td>\n    </tr>\n  </tbody>\n</table>\n<p>3805219 rows × 14 columns</p>\n</div>"
     },
     "execution_count": 106,
     "metadata": {},
     "output_type": "execute_result"
    }
   ],
   "source": [
    "# Only keep the stocks that are in the S&P 500\n",
    "universe = full_price[full_price['ticker'].isin(SP500['Symbol'])].copy().sort_values(by = ['ticker', 'date'])\n",
    "universe['date'] = pd.to_datetime(universe['date'])\n",
    "universe"
   ],
   "metadata": {
    "collapsed": false
   }
  },
  {
   "cell_type": "code",
   "execution_count": 107,
   "outputs": [
    {
     "data": {
      "text/plain": "    ticker start_date\n28    AMCR 2019-06-11\n75    CARR 2020-04-03\n82    CDAY 2018-04-26\n86     CEG 2022-02-02\n120   CTVA 2019-06-03\n138    DOW 2019-03-20\n196   GEHC 2023-01-04\n229    HWM 2020-02-24\n272    LHX 2019-07-01\n313   MRNA 2018-12-07\n346    OGN 2021-06-03\n352   OTIS 2020-04-03\n449     TT 2020-02-24\n465   VICI 2018-02-02",
      "text/html": "<div>\n<style scoped>\n    .dataframe tbody tr th:only-of-type {\n        vertical-align: middle;\n    }\n\n    .dataframe tbody tr th {\n        vertical-align: top;\n    }\n\n    .dataframe thead th {\n        text-align: right;\n    }\n</style>\n<table border=\"1\" class=\"dataframe\">\n  <thead>\n    <tr style=\"text-align: right;\">\n      <th></th>\n      <th>ticker</th>\n      <th>start_date</th>\n    </tr>\n  </thead>\n  <tbody>\n    <tr>\n      <th>28</th>\n      <td>AMCR</td>\n      <td>2019-06-11</td>\n    </tr>\n    <tr>\n      <th>75</th>\n      <td>CARR</td>\n      <td>2020-04-03</td>\n    </tr>\n    <tr>\n      <th>82</th>\n      <td>CDAY</td>\n      <td>2018-04-26</td>\n    </tr>\n    <tr>\n      <th>86</th>\n      <td>CEG</td>\n      <td>2022-02-02</td>\n    </tr>\n    <tr>\n      <th>120</th>\n      <td>CTVA</td>\n      <td>2019-06-03</td>\n    </tr>\n    <tr>\n      <th>138</th>\n      <td>DOW</td>\n      <td>2019-03-20</td>\n    </tr>\n    <tr>\n      <th>196</th>\n      <td>GEHC</td>\n      <td>2023-01-04</td>\n    </tr>\n    <tr>\n      <th>229</th>\n      <td>HWM</td>\n      <td>2020-02-24</td>\n    </tr>\n    <tr>\n      <th>272</th>\n      <td>LHX</td>\n      <td>2019-07-01</td>\n    </tr>\n    <tr>\n      <th>313</th>\n      <td>MRNA</td>\n      <td>2018-12-07</td>\n    </tr>\n    <tr>\n      <th>346</th>\n      <td>OGN</td>\n      <td>2021-06-03</td>\n    </tr>\n    <tr>\n      <th>352</th>\n      <td>OTIS</td>\n      <td>2020-04-03</td>\n    </tr>\n    <tr>\n      <th>449</th>\n      <td>TT</td>\n      <td>2020-02-24</td>\n    </tr>\n    <tr>\n      <th>465</th>\n      <td>VICI</td>\n      <td>2018-02-02</td>\n    </tr>\n  </tbody>\n</table>\n</div>"
     },
     "execution_count": 107,
     "metadata": {},
     "output_type": "execute_result"
    }
   ],
   "source": [
    "# Filter out the stocks that are IPO after 2018-01-01\n",
    "SP500_start_date = universe.groupby('ticker').date.min().to_frame().reset_index().rename(columns = {'date': 'start_date'})\n",
    "SP500_start_date[SP500_start_date.start_date >= '2018-01-01']"
   ],
   "metadata": {
    "collapsed": false
   }
  },
  {
   "cell_type": "markdown",
   "source": [
    "Set the start time be 2018-01-01 and end time be 2023-05-31 of the time series and compute returns.\n",
    "Since we need to compute the 100 trading days rolling window beta, the start date for the regression should be 100 days earlier than our data set start date"
   ],
   "metadata": {
    "collapsed": false
   }
  },
  {
   "cell_type": "code",
   "execution_count": 108,
   "outputs": [
    {
     "data": {
      "text/plain": "Timestamp('2017-08-16 00:00:00')"
     },
     "execution_count": 108,
     "metadata": {},
     "output_type": "execute_result"
    }
   ],
   "source": [
    "# Check the date of 100 trading days prior to 2018-01-01\n",
    "universe['date'].tolist()[universe['date'].tolist().index(dt.datetime(2018, 1, 9)) - 100]"
   ],
   "metadata": {
    "collapsed": false
   }
  },
  {
   "cell_type": "code",
   "execution_count": 109,
   "outputs": [],
   "source": [
    "universe.drop(universe[(universe.ticker.isin(SP500_start_date[SP500_start_date.start_date > '2017-08-16'].ticker))].index, inplace = True)"
   ],
   "metadata": {
    "collapsed": false
   }
  },
  {
   "cell_type": "code",
   "execution_count": 110,
   "outputs": [
    {
     "data": {
      "text/plain": "  ticker       date  adj_close  adj_volume    return\n1      A 2017-08-16  59.499989   6891973.0  0.046480\n2      A 2017-08-17  58.274370   3501640.0 -0.020599\n3      A 2017-08-18  58.647801   2357872.0  0.006408\n4      A 2017-08-21  59.116983   1486144.0  0.008000\n5      A 2017-08-22  60.285152   1666369.0  0.019760",
      "text/html": "<div>\n<style scoped>\n    .dataframe tbody tr th:only-of-type {\n        vertical-align: middle;\n    }\n\n    .dataframe tbody tr th {\n        vertical-align: top;\n    }\n\n    .dataframe thead th {\n        text-align: right;\n    }\n</style>\n<table border=\"1\" class=\"dataframe\">\n  <thead>\n    <tr style=\"text-align: right;\">\n      <th></th>\n      <th>ticker</th>\n      <th>date</th>\n      <th>adj_close</th>\n      <th>adj_volume</th>\n      <th>return</th>\n    </tr>\n  </thead>\n  <tbody>\n    <tr>\n      <th>1</th>\n      <td>A</td>\n      <td>2017-08-16</td>\n      <td>59.499989</td>\n      <td>6891973.0</td>\n      <td>0.046480</td>\n    </tr>\n    <tr>\n      <th>2</th>\n      <td>A</td>\n      <td>2017-08-17</td>\n      <td>58.274370</td>\n      <td>3501640.0</td>\n      <td>-0.020599</td>\n    </tr>\n    <tr>\n      <th>3</th>\n      <td>A</td>\n      <td>2017-08-18</td>\n      <td>58.647801</td>\n      <td>2357872.0</td>\n      <td>0.006408</td>\n    </tr>\n    <tr>\n      <th>4</th>\n      <td>A</td>\n      <td>2017-08-21</td>\n      <td>59.116983</td>\n      <td>1486144.0</td>\n      <td>0.008000</td>\n    </tr>\n    <tr>\n      <th>5</th>\n      <td>A</td>\n      <td>2017-08-22</td>\n      <td>60.285152</td>\n      <td>1666369.0</td>\n      <td>0.019760</td>\n    </tr>\n  </tbody>\n</table>\n</div>"
     },
     "execution_count": 110,
     "metadata": {},
     "output_type": "execute_result"
    }
   ],
   "source": [
    "universe = universe[(universe['date'] >= '2017-08-15') & (universe['date'] < '2023-06-01')].sort_values(by = ['ticker', 'date'])[['ticker', 'date', 'adj_close', 'adj_volume']].reset_index(drop = True)\n",
    "universe['return'] = universe.groupby('ticker')['adj_close'].pct_change()\n",
    "universe = universe.dropna()\n",
    "universe.head()"
   ],
   "metadata": {
    "collapsed": false
   }
  },
  {
   "cell_type": "code",
   "execution_count": 114,
   "outputs": [
    {
     "data": {
      "text/plain": "           Date  Mkt-RF   SMB   HML   RMW   CMA     RF\n0    2017-08-16    0.18 -0.14 -0.44  0.33 -0.14  0.004\n1    2017-08-17   -1.60 -0.18 -0.17 -0.04  0.14  0.004\n2    2017-08-18   -0.15  0.11  0.24 -0.27 -0.01  0.004\n3    2017-08-21    0.06 -0.27 -0.22  0.19 -0.14  0.004\n4    2017-08-22    1.06 -0.02 -0.24 -0.17  0.18  0.004\n...         ...     ...   ...   ...   ...   ...    ...\n1430 2023-04-24    0.00 -0.27  0.47  0.66  0.28  0.018\n1431 2023-04-25   -1.76 -0.83  0.10  0.44  0.89  0.018\n1432 2023-04-26   -0.41 -0.04 -0.75  0.05 -0.33  0.018\n1433 2023-04-27    1.85 -0.59  0.00  0.46 -0.19  0.018\n1434 2023-04-28    0.77  0.21  0.17  0.11  0.23  0.018\n\n[1435 rows x 7 columns]",
      "text/html": "<div>\n<style scoped>\n    .dataframe tbody tr th:only-of-type {\n        vertical-align: middle;\n    }\n\n    .dataframe tbody tr th {\n        vertical-align: top;\n    }\n\n    .dataframe thead th {\n        text-align: right;\n    }\n</style>\n<table border=\"1\" class=\"dataframe\">\n  <thead>\n    <tr style=\"text-align: right;\">\n      <th></th>\n      <th>Date</th>\n      <th>Mkt-RF</th>\n      <th>SMB</th>\n      <th>HML</th>\n      <th>RMW</th>\n      <th>CMA</th>\n      <th>RF</th>\n    </tr>\n  </thead>\n  <tbody>\n    <tr>\n      <th>0</th>\n      <td>2017-08-16</td>\n      <td>0.18</td>\n      <td>-0.14</td>\n      <td>-0.44</td>\n      <td>0.33</td>\n      <td>-0.14</td>\n      <td>0.004</td>\n    </tr>\n    <tr>\n      <th>1</th>\n      <td>2017-08-17</td>\n      <td>-1.60</td>\n      <td>-0.18</td>\n      <td>-0.17</td>\n      <td>-0.04</td>\n      <td>0.14</td>\n      <td>0.004</td>\n    </tr>\n    <tr>\n      <th>2</th>\n      <td>2017-08-18</td>\n      <td>-0.15</td>\n      <td>0.11</td>\n      <td>0.24</td>\n      <td>-0.27</td>\n      <td>-0.01</td>\n      <td>0.004</td>\n    </tr>\n    <tr>\n      <th>3</th>\n      <td>2017-08-21</td>\n      <td>0.06</td>\n      <td>-0.27</td>\n      <td>-0.22</td>\n      <td>0.19</td>\n      <td>-0.14</td>\n      <td>0.004</td>\n    </tr>\n    <tr>\n      <th>4</th>\n      <td>2017-08-22</td>\n      <td>1.06</td>\n      <td>-0.02</td>\n      <td>-0.24</td>\n      <td>-0.17</td>\n      <td>0.18</td>\n      <td>0.004</td>\n    </tr>\n    <tr>\n      <th>...</th>\n      <td>...</td>\n      <td>...</td>\n      <td>...</td>\n      <td>...</td>\n      <td>...</td>\n      <td>...</td>\n      <td>...</td>\n    </tr>\n    <tr>\n      <th>1430</th>\n      <td>2023-04-24</td>\n      <td>0.00</td>\n      <td>-0.27</td>\n      <td>0.47</td>\n      <td>0.66</td>\n      <td>0.28</td>\n      <td>0.018</td>\n    </tr>\n    <tr>\n      <th>1431</th>\n      <td>2023-04-25</td>\n      <td>-1.76</td>\n      <td>-0.83</td>\n      <td>0.10</td>\n      <td>0.44</td>\n      <td>0.89</td>\n      <td>0.018</td>\n    </tr>\n    <tr>\n      <th>1432</th>\n      <td>2023-04-26</td>\n      <td>-0.41</td>\n      <td>-0.04</td>\n      <td>-0.75</td>\n      <td>0.05</td>\n      <td>-0.33</td>\n      <td>0.018</td>\n    </tr>\n    <tr>\n      <th>1433</th>\n      <td>2023-04-27</td>\n      <td>1.85</td>\n      <td>-0.59</td>\n      <td>0.00</td>\n      <td>0.46</td>\n      <td>-0.19</td>\n      <td>0.018</td>\n    </tr>\n    <tr>\n      <th>1434</th>\n      <td>2023-04-28</td>\n      <td>0.77</td>\n      <td>0.21</td>\n      <td>0.17</td>\n      <td>0.11</td>\n      <td>0.23</td>\n      <td>0.018</td>\n    </tr>\n  </tbody>\n</table>\n<p>1435 rows × 7 columns</p>\n</div>"
     },
     "execution_count": 114,
     "metadata": {},
     "output_type": "execute_result"
    }
   ],
   "source": [
    "# Match the date of Fama-French 5 factors to the universe date time series\n",
    "F_F_5_Factors = F_F_5_Factors[(F_F_5_Factors['Date'] >= '2017-08-16') & (F_F_5_Factors['Date'] < '2023-06-01')].reset_index(drop = True)\n",
    "F_F_5_Factors"
   ],
   "metadata": {
    "collapsed": false
   }
  },
  {
   "cell_type": "markdown",
   "source": [
    "Since the newest Fama-French 5 factors data is 2023-04-28, our universe shrinks to 2018-01-01 to 2023-04-28."
   ],
   "metadata": {
    "collapsed": false
   }
  },
  {
   "cell_type": "code",
   "execution_count": 136,
   "outputs": [
    {
     "data": {
      "text/plain": "       ticker       date   adj_close  adj_volume    return       Date  Mkt-RF  \\\n0           A 2017-08-16   59.499989   6891973.0  0.046480 2017-08-16    0.18   \n1           A 2017-08-17   58.274370   3501640.0 -0.020599 2017-08-17   -1.60   \n2           A 2017-08-18   58.647801   2357872.0  0.006408 2017-08-18   -0.15   \n3           A 2017-08-21   59.116983   1486144.0  0.008000 2017-08-21    0.06   \n4           A 2017-08-22   60.285152   1666369.0  0.019760 2017-08-22    1.06   \n...       ...        ...         ...         ...       ...        ...     ...   \n706757    ZTS 2023-04-24  176.350000   1117741.0 -0.002996 2023-04-24    0.00   \n706758    ZTS 2023-04-25  173.020000   1151148.0 -0.018883 2023-04-25   -1.76   \n706759    ZTS 2023-04-26  172.940000   1205198.0 -0.000462 2023-04-26   -0.41   \n706760    ZTS 2023-04-27  173.950000   1682893.0  0.005840 2023-04-27    1.85   \n706761    ZTS 2023-04-28  175.780000   1606682.0  0.010520 2023-04-28    0.77   \n\n         SMB   HML   RMW   CMA     RF  excess_return  \n0      -0.14 -0.44  0.33 -0.14  0.004       0.042480  \n1      -0.18 -0.17 -0.04  0.14  0.004      -0.024599  \n2       0.11  0.24 -0.27 -0.01  0.004       0.002408  \n3      -0.27 -0.22  0.19 -0.14  0.004       0.004000  \n4      -0.02 -0.24 -0.17  0.18  0.004       0.015760  \n...      ...   ...   ...   ...    ...            ...  \n706757 -0.27  0.47  0.66  0.28  0.018      -0.020996  \n706758 -0.83  0.10  0.44  0.89  0.018      -0.036883  \n706759 -0.04 -0.75  0.05 -0.33  0.018      -0.018462  \n706760 -0.59  0.00  0.46 -0.19  0.018      -0.012160  \n706761  0.21  0.17  0.11  0.23  0.018      -0.007480  \n\n[696190 rows x 13 columns]",
      "text/html": "<div>\n<style scoped>\n    .dataframe tbody tr th:only-of-type {\n        vertical-align: middle;\n    }\n\n    .dataframe tbody tr th {\n        vertical-align: top;\n    }\n\n    .dataframe thead th {\n        text-align: right;\n    }\n</style>\n<table border=\"1\" class=\"dataframe\">\n  <thead>\n    <tr style=\"text-align: right;\">\n      <th></th>\n      <th>ticker</th>\n      <th>date</th>\n      <th>adj_close</th>\n      <th>adj_volume</th>\n      <th>return</th>\n      <th>Date</th>\n      <th>Mkt-RF</th>\n      <th>SMB</th>\n      <th>HML</th>\n      <th>RMW</th>\n      <th>CMA</th>\n      <th>RF</th>\n      <th>excess_return</th>\n    </tr>\n  </thead>\n  <tbody>\n    <tr>\n      <th>0</th>\n      <td>A</td>\n      <td>2017-08-16</td>\n      <td>59.499989</td>\n      <td>6891973.0</td>\n      <td>0.046480</td>\n      <td>2017-08-16</td>\n      <td>0.18</td>\n      <td>-0.14</td>\n      <td>-0.44</td>\n      <td>0.33</td>\n      <td>-0.14</td>\n      <td>0.004</td>\n      <td>0.042480</td>\n    </tr>\n    <tr>\n      <th>1</th>\n      <td>A</td>\n      <td>2017-08-17</td>\n      <td>58.274370</td>\n      <td>3501640.0</td>\n      <td>-0.020599</td>\n      <td>2017-08-17</td>\n      <td>-1.60</td>\n      <td>-0.18</td>\n      <td>-0.17</td>\n      <td>-0.04</td>\n      <td>0.14</td>\n      <td>0.004</td>\n      <td>-0.024599</td>\n    </tr>\n    <tr>\n      <th>2</th>\n      <td>A</td>\n      <td>2017-08-18</td>\n      <td>58.647801</td>\n      <td>2357872.0</td>\n      <td>0.006408</td>\n      <td>2017-08-18</td>\n      <td>-0.15</td>\n      <td>0.11</td>\n      <td>0.24</td>\n      <td>-0.27</td>\n      <td>-0.01</td>\n      <td>0.004</td>\n      <td>0.002408</td>\n    </tr>\n    <tr>\n      <th>3</th>\n      <td>A</td>\n      <td>2017-08-21</td>\n      <td>59.116983</td>\n      <td>1486144.0</td>\n      <td>0.008000</td>\n      <td>2017-08-21</td>\n      <td>0.06</td>\n      <td>-0.27</td>\n      <td>-0.22</td>\n      <td>0.19</td>\n      <td>-0.14</td>\n      <td>0.004</td>\n      <td>0.004000</td>\n    </tr>\n    <tr>\n      <th>4</th>\n      <td>A</td>\n      <td>2017-08-22</td>\n      <td>60.285152</td>\n      <td>1666369.0</td>\n      <td>0.019760</td>\n      <td>2017-08-22</td>\n      <td>1.06</td>\n      <td>-0.02</td>\n      <td>-0.24</td>\n      <td>-0.17</td>\n      <td>0.18</td>\n      <td>0.004</td>\n      <td>0.015760</td>\n    </tr>\n    <tr>\n      <th>...</th>\n      <td>...</td>\n      <td>...</td>\n      <td>...</td>\n      <td>...</td>\n      <td>...</td>\n      <td>...</td>\n      <td>...</td>\n      <td>...</td>\n      <td>...</td>\n      <td>...</td>\n      <td>...</td>\n      <td>...</td>\n      <td>...</td>\n    </tr>\n    <tr>\n      <th>706757</th>\n      <td>ZTS</td>\n      <td>2023-04-24</td>\n      <td>176.350000</td>\n      <td>1117741.0</td>\n      <td>-0.002996</td>\n      <td>2023-04-24</td>\n      <td>0.00</td>\n      <td>-0.27</td>\n      <td>0.47</td>\n      <td>0.66</td>\n      <td>0.28</td>\n      <td>0.018</td>\n      <td>-0.020996</td>\n    </tr>\n    <tr>\n      <th>706758</th>\n      <td>ZTS</td>\n      <td>2023-04-25</td>\n      <td>173.020000</td>\n      <td>1151148.0</td>\n      <td>-0.018883</td>\n      <td>2023-04-25</td>\n      <td>-1.76</td>\n      <td>-0.83</td>\n      <td>0.10</td>\n      <td>0.44</td>\n      <td>0.89</td>\n      <td>0.018</td>\n      <td>-0.036883</td>\n    </tr>\n    <tr>\n      <th>706759</th>\n      <td>ZTS</td>\n      <td>2023-04-26</td>\n      <td>172.940000</td>\n      <td>1205198.0</td>\n      <td>-0.000462</td>\n      <td>2023-04-26</td>\n      <td>-0.41</td>\n      <td>-0.04</td>\n      <td>-0.75</td>\n      <td>0.05</td>\n      <td>-0.33</td>\n      <td>0.018</td>\n      <td>-0.018462</td>\n    </tr>\n    <tr>\n      <th>706760</th>\n      <td>ZTS</td>\n      <td>2023-04-27</td>\n      <td>173.950000</td>\n      <td>1682893.0</td>\n      <td>0.005840</td>\n      <td>2023-04-27</td>\n      <td>1.85</td>\n      <td>-0.59</td>\n      <td>0.00</td>\n      <td>0.46</td>\n      <td>-0.19</td>\n      <td>0.018</td>\n      <td>-0.012160</td>\n    </tr>\n    <tr>\n      <th>706761</th>\n      <td>ZTS</td>\n      <td>2023-04-28</td>\n      <td>175.780000</td>\n      <td>1606682.0</td>\n      <td>0.010520</td>\n      <td>2023-04-28</td>\n      <td>0.77</td>\n      <td>0.21</td>\n      <td>0.17</td>\n      <td>0.11</td>\n      <td>0.23</td>\n      <td>0.018</td>\n      <td>-0.007480</td>\n    </tr>\n  </tbody>\n</table>\n<p>696190 rows × 13 columns</p>\n</div>"
     },
     "execution_count": 136,
     "metadata": {},
     "output_type": "execute_result"
    }
   ],
   "source": [
    "F_F_regression = universe.merge(F_F_5_Factors, left_on = 'date', right_on = 'Date', how = 'left')\n",
    "F_F_regression['excess_return'] = F_F_regression['return'] - F_F_regression['RF']\n",
    "F_F_regression = F_F_regression.dropna()\n",
    "F_F_regression"
   ],
   "metadata": {
    "collapsed": false
   }
  },
  {
   "cell_type": "code",
   "execution_count": 145,
   "outputs": [],
   "source": [
    "# Group the data by 'ticker'\n",
    "grouped_data = F_F_regression.groupby('ticker')\n",
    "\n",
    "# Create empty columns in the original DataFrame to store the beta values\n",
    "F_F_regression['Mkt-RF_beta'] = np.nan\n",
    "F_F_regression['SMB_beta'] = np.nan\n",
    "F_F_regression['HML_beta'] = np.nan\n",
    "F_F_regression['RMW_beta'] = np.nan\n",
    "F_F_regression['CMA_beta'] = np.nan\n",
    "\n",
    "# Iterate over each group\n",
    "for ticker, group in grouped_data:\n",
    "    # Get the indices for the group\n",
    "    indices = group.index[100:]\n",
    "\n",
    "    # Subtract the integer from each element of the list\n",
    "    indices = [idx - 100 for idx in indices]\n",
    "\n",
    "    # Extract the required columns for X and y\n",
    "    X = group.loc[indices, ['Mkt-RF', 'SMB', 'HML', 'RMW', 'CMA']]\n",
    "    y = group.loc[indices, 'excess_return']\n",
    "\n",
    "    # Compute the coefficients using vectorized operations\n",
    "    XTX_inv = np.linalg.inv(X.T @ X)\n",
    "    XTy = X.T @ y\n",
    "    coefficients = XTX_inv @ XTy\n",
    "\n",
    "    # Assign the coefficients to the respective columns in the original DataFrame\n",
    "    F_F_regression.loc[indices, 'Mkt-RF_beta'] = coefficients[0]\n",
    "    F_F_regression.loc[indices, 'SMB_beta'] = coefficients[1]\n",
    "    F_F_regression.loc[indices, 'HML_beta'] = coefficients[2]\n",
    "    F_F_regression.loc[indices, 'RMW_beta'] = coefficients[3]\n",
    "    F_F_regression.loc[indices, 'CMA_beta'] = coefficients[4]\n"
   ],
   "metadata": {
    "collapsed": false
   }
  },
  {
   "cell_type": "code",
   "execution_count": 177,
   "outputs": [],
   "source": [
    "F_F_regression['Mkt-RF_beta'] = np.nan\n",
    "F_F_regression['SMB_beta'] = np.nan\n",
    "F_F_regression['HML_beta'] = np.nan\n",
    "F_F_regression['RMW_beta'] = np.nan\n",
    "F_F_regression['CMA_beta'] = np.nan\n",
    "for ticker, group in F_F_regression.groupby('ticker'):\n",
    "    for idx in range(100, len(group)):\n",
    "        X = group.loc[group.index[idx] - 100:group.index[idx] - 1, ['Mkt-RF', 'SMB', 'HML', 'RMW', 'CMA']]\n",
    "        y = group.loc[group.index[idx] - 100:group.index[idx] - 1, 'excess_return']\n",
    "        #print(group.loc[group.index[idx]])\n",
    "        coefficients = np.linalg.inv(X.T @ X) @ X.T @ y\n",
    "        F_F_regression.loc[group.index[idx], 'Mkt-RF_beta'] = coefficients[0]\n",
    "        F_F_regression.loc[group.index[idx], 'SMB_beta'] = coefficients[1]\n",
    "        F_F_regression.loc[group.index[idx], 'HML_beta'] = coefficients[2]\n",
    "        F_F_regression.loc[group.index[idx], 'RMW_beta'] = coefficients[3]\n",
    "        F_F_regression.loc[group.index[idx], 'CMA_beta'] = coefficients[4]\n",
    "        #print(group.loc[group.index[idx]])"
   ],
   "metadata": {
    "collapsed": false
   }
  },
  {
   "cell_type": "code",
   "execution_count": 178,
   "outputs": [
    {
     "data": {
      "text/plain": "       ticker       date   adj_close  adj_volume    return       Date  Mkt-RF  \\\n0           A 2017-08-16   59.499989   6891973.0  0.046480 2017-08-16    0.18   \n1           A 2017-08-17   58.274370   3501640.0 -0.020599 2017-08-17   -1.60   \n2           A 2017-08-18   58.647801   2357872.0  0.006408 2017-08-18   -0.15   \n3           A 2017-08-21   59.116983   1486144.0  0.008000 2017-08-21    0.06   \n4           A 2017-08-22   60.285152   1666369.0  0.019760 2017-08-22    1.06   \n...       ...        ...         ...         ...       ...        ...     ...   \n706757    ZTS 2023-04-24  176.350000   1117741.0 -0.002996 2023-04-24    0.00   \n706758    ZTS 2023-04-25  173.020000   1151148.0 -0.018883 2023-04-25   -1.76   \n706759    ZTS 2023-04-26  172.940000   1205198.0 -0.000462 2023-04-26   -0.41   \n706760    ZTS 2023-04-27  173.950000   1682893.0  0.005840 2023-04-27    1.85   \n706761    ZTS 2023-04-28  175.780000   1606682.0  0.010520 2023-04-28    0.77   \n\n         SMB   HML   RMW   CMA     RF  excess_return  Mkt-RF_beta  SMB_beta  \\\n0      -0.14 -0.44  0.33 -0.14  0.004       0.042480          NaN       NaN   \n1      -0.18 -0.17 -0.04  0.14  0.004      -0.024599          NaN       NaN   \n2       0.11  0.24 -0.27 -0.01  0.004       0.002408          NaN       NaN   \n3      -0.27 -0.22  0.19 -0.14  0.004       0.004000          NaN       NaN   \n4      -0.02 -0.24 -0.17  0.18  0.004       0.015760          NaN       NaN   \n...      ...   ...   ...   ...    ...            ...          ...       ...   \n706757 -0.27  0.47  0.66  0.28  0.018      -0.020996     0.008080  0.004188   \n706758 -0.83  0.10  0.44  0.89  0.018      -0.036883     0.007815  0.004184   \n706759 -0.04 -0.75  0.05 -0.33  0.018      -0.018462     0.007942  0.004660   \n706760 -0.59  0.00  0.46 -0.19  0.018      -0.012160     0.008008  0.004670   \n706761  0.21  0.17  0.11  0.23  0.018      -0.007480     0.007368  0.005284   \n\n        HML_beta  RMW_beta  CMA_beta  \n0            NaN       NaN       NaN  \n1            NaN       NaN       NaN  \n2            NaN       NaN       NaN  \n3            NaN       NaN       NaN  \n4            NaN       NaN       NaN  \n...          ...       ...       ...  \n706757  0.000523 -0.001081 -0.001064  \n706758  0.000368 -0.001543 -0.000980  \n706759  0.000837 -0.001425 -0.001464  \n706760  0.001035 -0.001673 -0.001201  \n706761  0.001055 -0.002179 -0.001335  \n\n[696190 rows x 18 columns]",
      "text/html": "<div>\n<style scoped>\n    .dataframe tbody tr th:only-of-type {\n        vertical-align: middle;\n    }\n\n    .dataframe tbody tr th {\n        vertical-align: top;\n    }\n\n    .dataframe thead th {\n        text-align: right;\n    }\n</style>\n<table border=\"1\" class=\"dataframe\">\n  <thead>\n    <tr style=\"text-align: right;\">\n      <th></th>\n      <th>ticker</th>\n      <th>date</th>\n      <th>adj_close</th>\n      <th>adj_volume</th>\n      <th>return</th>\n      <th>Date</th>\n      <th>Mkt-RF</th>\n      <th>SMB</th>\n      <th>HML</th>\n      <th>RMW</th>\n      <th>CMA</th>\n      <th>RF</th>\n      <th>excess_return</th>\n      <th>Mkt-RF_beta</th>\n      <th>SMB_beta</th>\n      <th>HML_beta</th>\n      <th>RMW_beta</th>\n      <th>CMA_beta</th>\n    </tr>\n  </thead>\n  <tbody>\n    <tr>\n      <th>0</th>\n      <td>A</td>\n      <td>2017-08-16</td>\n      <td>59.499989</td>\n      <td>6891973.0</td>\n      <td>0.046480</td>\n      <td>2017-08-16</td>\n      <td>0.18</td>\n      <td>-0.14</td>\n      <td>-0.44</td>\n      <td>0.33</td>\n      <td>-0.14</td>\n      <td>0.004</td>\n      <td>0.042480</td>\n      <td>NaN</td>\n      <td>NaN</td>\n      <td>NaN</td>\n      <td>NaN</td>\n      <td>NaN</td>\n    </tr>\n    <tr>\n      <th>1</th>\n      <td>A</td>\n      <td>2017-08-17</td>\n      <td>58.274370</td>\n      <td>3501640.0</td>\n      <td>-0.020599</td>\n      <td>2017-08-17</td>\n      <td>-1.60</td>\n      <td>-0.18</td>\n      <td>-0.17</td>\n      <td>-0.04</td>\n      <td>0.14</td>\n      <td>0.004</td>\n      <td>-0.024599</td>\n      <td>NaN</td>\n      <td>NaN</td>\n      <td>NaN</td>\n      <td>NaN</td>\n      <td>NaN</td>\n    </tr>\n    <tr>\n      <th>2</th>\n      <td>A</td>\n      <td>2017-08-18</td>\n      <td>58.647801</td>\n      <td>2357872.0</td>\n      <td>0.006408</td>\n      <td>2017-08-18</td>\n      <td>-0.15</td>\n      <td>0.11</td>\n      <td>0.24</td>\n      <td>-0.27</td>\n      <td>-0.01</td>\n      <td>0.004</td>\n      <td>0.002408</td>\n      <td>NaN</td>\n      <td>NaN</td>\n      <td>NaN</td>\n      <td>NaN</td>\n      <td>NaN</td>\n    </tr>\n    <tr>\n      <th>3</th>\n      <td>A</td>\n      <td>2017-08-21</td>\n      <td>59.116983</td>\n      <td>1486144.0</td>\n      <td>0.008000</td>\n      <td>2017-08-21</td>\n      <td>0.06</td>\n      <td>-0.27</td>\n      <td>-0.22</td>\n      <td>0.19</td>\n      <td>-0.14</td>\n      <td>0.004</td>\n      <td>0.004000</td>\n      <td>NaN</td>\n      <td>NaN</td>\n      <td>NaN</td>\n      <td>NaN</td>\n      <td>NaN</td>\n    </tr>\n    <tr>\n      <th>4</th>\n      <td>A</td>\n      <td>2017-08-22</td>\n      <td>60.285152</td>\n      <td>1666369.0</td>\n      <td>0.019760</td>\n      <td>2017-08-22</td>\n      <td>1.06</td>\n      <td>-0.02</td>\n      <td>-0.24</td>\n      <td>-0.17</td>\n      <td>0.18</td>\n      <td>0.004</td>\n      <td>0.015760</td>\n      <td>NaN</td>\n      <td>NaN</td>\n      <td>NaN</td>\n      <td>NaN</td>\n      <td>NaN</td>\n    </tr>\n    <tr>\n      <th>...</th>\n      <td>...</td>\n      <td>...</td>\n      <td>...</td>\n      <td>...</td>\n      <td>...</td>\n      <td>...</td>\n      <td>...</td>\n      <td>...</td>\n      <td>...</td>\n      <td>...</td>\n      <td>...</td>\n      <td>...</td>\n      <td>...</td>\n      <td>...</td>\n      <td>...</td>\n      <td>...</td>\n      <td>...</td>\n      <td>...</td>\n    </tr>\n    <tr>\n      <th>706757</th>\n      <td>ZTS</td>\n      <td>2023-04-24</td>\n      <td>176.350000</td>\n      <td>1117741.0</td>\n      <td>-0.002996</td>\n      <td>2023-04-24</td>\n      <td>0.00</td>\n      <td>-0.27</td>\n      <td>0.47</td>\n      <td>0.66</td>\n      <td>0.28</td>\n      <td>0.018</td>\n      <td>-0.020996</td>\n      <td>0.008080</td>\n      <td>0.004188</td>\n      <td>0.000523</td>\n      <td>-0.001081</td>\n      <td>-0.001064</td>\n    </tr>\n    <tr>\n      <th>706758</th>\n      <td>ZTS</td>\n      <td>2023-04-25</td>\n      <td>173.020000</td>\n      <td>1151148.0</td>\n      <td>-0.018883</td>\n      <td>2023-04-25</td>\n      <td>-1.76</td>\n      <td>-0.83</td>\n      <td>0.10</td>\n      <td>0.44</td>\n      <td>0.89</td>\n      <td>0.018</td>\n      <td>-0.036883</td>\n      <td>0.007815</td>\n      <td>0.004184</td>\n      <td>0.000368</td>\n      <td>-0.001543</td>\n      <td>-0.000980</td>\n    </tr>\n    <tr>\n      <th>706759</th>\n      <td>ZTS</td>\n      <td>2023-04-26</td>\n      <td>172.940000</td>\n      <td>1205198.0</td>\n      <td>-0.000462</td>\n      <td>2023-04-26</td>\n      <td>-0.41</td>\n      <td>-0.04</td>\n      <td>-0.75</td>\n      <td>0.05</td>\n      <td>-0.33</td>\n      <td>0.018</td>\n      <td>-0.018462</td>\n      <td>0.007942</td>\n      <td>0.004660</td>\n      <td>0.000837</td>\n      <td>-0.001425</td>\n      <td>-0.001464</td>\n    </tr>\n    <tr>\n      <th>706760</th>\n      <td>ZTS</td>\n      <td>2023-04-27</td>\n      <td>173.950000</td>\n      <td>1682893.0</td>\n      <td>0.005840</td>\n      <td>2023-04-27</td>\n      <td>1.85</td>\n      <td>-0.59</td>\n      <td>0.00</td>\n      <td>0.46</td>\n      <td>-0.19</td>\n      <td>0.018</td>\n      <td>-0.012160</td>\n      <td>0.008008</td>\n      <td>0.004670</td>\n      <td>0.001035</td>\n      <td>-0.001673</td>\n      <td>-0.001201</td>\n    </tr>\n    <tr>\n      <th>706761</th>\n      <td>ZTS</td>\n      <td>2023-04-28</td>\n      <td>175.780000</td>\n      <td>1606682.0</td>\n      <td>0.010520</td>\n      <td>2023-04-28</td>\n      <td>0.77</td>\n      <td>0.21</td>\n      <td>0.17</td>\n      <td>0.11</td>\n      <td>0.23</td>\n      <td>0.018</td>\n      <td>-0.007480</td>\n      <td>0.007368</td>\n      <td>0.005284</td>\n      <td>0.001055</td>\n      <td>-0.002179</td>\n      <td>-0.001335</td>\n    </tr>\n  </tbody>\n</table>\n<p>696190 rows × 18 columns</p>\n</div>"
     },
     "execution_count": 178,
     "metadata": {},
     "output_type": "execute_result"
    }
   ],
   "source": [
    "F_F_regression"
   ],
   "metadata": {
    "collapsed": false
   }
  },
  {
   "cell_type": "code",
   "execution_count": 179,
   "outputs": [
    {
     "data": {
      "text/plain": "       ticker       date   adj_close  adj_volume    return  Mkt-RF_beta  \\\n0           A 2017-08-16   59.499989   6891973.0  0.046480          NaN   \n1           A 2017-08-17   58.274370   3501640.0 -0.020599          NaN   \n2           A 2017-08-18   58.647801   2357872.0  0.006408          NaN   \n3           A 2017-08-21   59.116983   1486144.0  0.008000          NaN   \n4           A 2017-08-22   60.285152   1666369.0  0.019760          NaN   \n...       ...        ...         ...         ...       ...          ...   \n706757    ZTS 2023-04-24  176.350000   1117741.0 -0.002996     0.008080   \n706758    ZTS 2023-04-25  173.020000   1151148.0 -0.018883     0.007815   \n706759    ZTS 2023-04-26  172.940000   1205198.0 -0.000462     0.007942   \n706760    ZTS 2023-04-27  173.950000   1682893.0  0.005840     0.008008   \n706761    ZTS 2023-04-28  175.780000   1606682.0  0.010520     0.007368   \n\n        SMB_beta  HML_beta  RMW_beta  CMA_beta  \n0            NaN       NaN       NaN       NaN  \n1            NaN       NaN       NaN       NaN  \n2            NaN       NaN       NaN       NaN  \n3            NaN       NaN       NaN       NaN  \n4            NaN       NaN       NaN       NaN  \n...          ...       ...       ...       ...  \n706757  0.004188  0.000523 -0.001081 -0.001064  \n706758  0.004184  0.000368 -0.001543 -0.000980  \n706759  0.004660  0.000837 -0.001425 -0.001464  \n706760  0.004670  0.001035 -0.001673 -0.001201  \n706761  0.005284  0.001055 -0.002179 -0.001335  \n\n[696190 rows x 10 columns]",
      "text/html": "<div>\n<style scoped>\n    .dataframe tbody tr th:only-of-type {\n        vertical-align: middle;\n    }\n\n    .dataframe tbody tr th {\n        vertical-align: top;\n    }\n\n    .dataframe thead th {\n        text-align: right;\n    }\n</style>\n<table border=\"1\" class=\"dataframe\">\n  <thead>\n    <tr style=\"text-align: right;\">\n      <th></th>\n      <th>ticker</th>\n      <th>date</th>\n      <th>adj_close</th>\n      <th>adj_volume</th>\n      <th>return</th>\n      <th>Mkt-RF_beta</th>\n      <th>SMB_beta</th>\n      <th>HML_beta</th>\n      <th>RMW_beta</th>\n      <th>CMA_beta</th>\n    </tr>\n  </thead>\n  <tbody>\n    <tr>\n      <th>0</th>\n      <td>A</td>\n      <td>2017-08-16</td>\n      <td>59.499989</td>\n      <td>6891973.0</td>\n      <td>0.046480</td>\n      <td>NaN</td>\n      <td>NaN</td>\n      <td>NaN</td>\n      <td>NaN</td>\n      <td>NaN</td>\n    </tr>\n    <tr>\n      <th>1</th>\n      <td>A</td>\n      <td>2017-08-17</td>\n      <td>58.274370</td>\n      <td>3501640.0</td>\n      <td>-0.020599</td>\n      <td>NaN</td>\n      <td>NaN</td>\n      <td>NaN</td>\n      <td>NaN</td>\n      <td>NaN</td>\n    </tr>\n    <tr>\n      <th>2</th>\n      <td>A</td>\n      <td>2017-08-18</td>\n      <td>58.647801</td>\n      <td>2357872.0</td>\n      <td>0.006408</td>\n      <td>NaN</td>\n      <td>NaN</td>\n      <td>NaN</td>\n      <td>NaN</td>\n      <td>NaN</td>\n    </tr>\n    <tr>\n      <th>3</th>\n      <td>A</td>\n      <td>2017-08-21</td>\n      <td>59.116983</td>\n      <td>1486144.0</td>\n      <td>0.008000</td>\n      <td>NaN</td>\n      <td>NaN</td>\n      <td>NaN</td>\n      <td>NaN</td>\n      <td>NaN</td>\n    </tr>\n    <tr>\n      <th>4</th>\n      <td>A</td>\n      <td>2017-08-22</td>\n      <td>60.285152</td>\n      <td>1666369.0</td>\n      <td>0.019760</td>\n      <td>NaN</td>\n      <td>NaN</td>\n      <td>NaN</td>\n      <td>NaN</td>\n      <td>NaN</td>\n    </tr>\n    <tr>\n      <th>...</th>\n      <td>...</td>\n      <td>...</td>\n      <td>...</td>\n      <td>...</td>\n      <td>...</td>\n      <td>...</td>\n      <td>...</td>\n      <td>...</td>\n      <td>...</td>\n      <td>...</td>\n    </tr>\n    <tr>\n      <th>706757</th>\n      <td>ZTS</td>\n      <td>2023-04-24</td>\n      <td>176.350000</td>\n      <td>1117741.0</td>\n      <td>-0.002996</td>\n      <td>0.008080</td>\n      <td>0.004188</td>\n      <td>0.000523</td>\n      <td>-0.001081</td>\n      <td>-0.001064</td>\n    </tr>\n    <tr>\n      <th>706758</th>\n      <td>ZTS</td>\n      <td>2023-04-25</td>\n      <td>173.020000</td>\n      <td>1151148.0</td>\n      <td>-0.018883</td>\n      <td>0.007815</td>\n      <td>0.004184</td>\n      <td>0.000368</td>\n      <td>-0.001543</td>\n      <td>-0.000980</td>\n    </tr>\n    <tr>\n      <th>706759</th>\n      <td>ZTS</td>\n      <td>2023-04-26</td>\n      <td>172.940000</td>\n      <td>1205198.0</td>\n      <td>-0.000462</td>\n      <td>0.007942</td>\n      <td>0.004660</td>\n      <td>0.000837</td>\n      <td>-0.001425</td>\n      <td>-0.001464</td>\n    </tr>\n    <tr>\n      <th>706760</th>\n      <td>ZTS</td>\n      <td>2023-04-27</td>\n      <td>173.950000</td>\n      <td>1682893.0</td>\n      <td>0.005840</td>\n      <td>0.008008</td>\n      <td>0.004670</td>\n      <td>0.001035</td>\n      <td>-0.001673</td>\n      <td>-0.001201</td>\n    </tr>\n    <tr>\n      <th>706761</th>\n      <td>ZTS</td>\n      <td>2023-04-28</td>\n      <td>175.780000</td>\n      <td>1606682.0</td>\n      <td>0.010520</td>\n      <td>0.007368</td>\n      <td>0.005284</td>\n      <td>0.001055</td>\n      <td>-0.002179</td>\n      <td>-0.001335</td>\n    </tr>\n  </tbody>\n</table>\n<p>696190 rows × 10 columns</p>\n</div>"
     },
     "execution_count": 179,
     "metadata": {},
     "output_type": "execute_result"
    }
   ],
   "source": [
    "F_F_regression.drop(columns=['Date','Mkt-RF','SMB','HML','RMW','CMA','RF','excess_return'], inplace=True)"
   ],
   "metadata": {
    "collapsed": false
   }
  },
  {
   "cell_type": "code",
   "execution_count": 188,
   "outputs": [],
   "source": [
    "F_F_regression = F_F_regression.dropna()\n",
    "F_F_regression.to_pickle('F_F_regression.pkl')"
   ],
   "metadata": {
    "collapsed": false
   }
  },
  {
   "cell_type": "code",
   "execution_count": null,
   "outputs": [],
   "source": [],
   "metadata": {
    "collapsed": false
   }
  }
 ],
 "metadata": {
  "kernelspec": {
   "display_name": "Python 3",
   "language": "python",
   "name": "python3"
  },
  "language_info": {
   "codemirror_mode": {
    "name": "ipython",
    "version": 2
   },
   "file_extension": ".py",
   "mimetype": "text/x-python",
   "name": "python",
   "nbconvert_exporter": "python",
   "pygments_lexer": "ipython2",
   "version": "2.7.6"
  }
 },
 "nbformat": 4,
 "nbformat_minor": 0
}
