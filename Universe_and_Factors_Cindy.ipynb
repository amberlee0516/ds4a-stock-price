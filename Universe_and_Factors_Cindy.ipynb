{
 "cells": [
  {
   "cell_type": "code",
   "execution_count": 48,
   "outputs": [],
   "source": [
    "import os\n",
    "import pandas as pd\n",
    "import numpy as np\n",
    "import datetime as dt\n",
    "import matplotlib.pyplot as plt\n",
    "\n",
    "import zipfile"
   ],
   "metadata": {
    "collapsed": false
   }
  },
  {
   "cell_type": "code",
   "execution_count": 3,
   "outputs": [
    {
     "data": {
      "text/plain": "  ticker        date     open     high     low  close     volume  dividend  \\\n0  JTKWY  2022-03-11   6.1700   7.3200   5.790   6.72  9440097.0       0.0   \n1  JTKWY  2022-03-10   6.1600   6.1750   5.935   6.07  2261623.0       0.0   \n2   FG_1  2020-06-01   8.1000   8.3900   8.100   8.39  3086317.0       0.0   \n3   FLWS  2022-03-09  14.5700  14.9588  14.410  14.45   662492.0       0.0   \n4  RENW_  2020-01-29  21.9768  21.9900  21.970  21.99      319.0       0.0   \n\n   split  adj_open  adj_high  adj_low  adj_close  adj_volume  \n0    1.0    6.1700    7.3200    5.790       6.72   9440097.0  \n1    1.0    6.1600    6.1750    5.935       6.07   2261623.0  \n2    1.0    8.1000    8.3900    8.100       8.39   3086317.0  \n3    1.0   14.5700   14.9588   14.410      14.45    662492.0  \n4    1.0   21.9768   21.9900   21.970      21.99       319.0  ",
      "text/html": "<div>\n<style scoped>\n    .dataframe tbody tr th:only-of-type {\n        vertical-align: middle;\n    }\n\n    .dataframe tbody tr th {\n        vertical-align: top;\n    }\n\n    .dataframe thead th {\n        text-align: right;\n    }\n</style>\n<table border=\"1\" class=\"dataframe\">\n  <thead>\n    <tr style=\"text-align: right;\">\n      <th></th>\n      <th>ticker</th>\n      <th>date</th>\n      <th>open</th>\n      <th>high</th>\n      <th>low</th>\n      <th>close</th>\n      <th>volume</th>\n      <th>dividend</th>\n      <th>split</th>\n      <th>adj_open</th>\n      <th>adj_high</th>\n      <th>adj_low</th>\n      <th>adj_close</th>\n      <th>adj_volume</th>\n    </tr>\n  </thead>\n  <tbody>\n    <tr>\n      <th>0</th>\n      <td>JTKWY</td>\n      <td>2022-03-11</td>\n      <td>6.1700</td>\n      <td>7.3200</td>\n      <td>5.790</td>\n      <td>6.72</td>\n      <td>9440097.0</td>\n      <td>0.0</td>\n      <td>1.0</td>\n      <td>6.1700</td>\n      <td>7.3200</td>\n      <td>5.790</td>\n      <td>6.72</td>\n      <td>9440097.0</td>\n    </tr>\n    <tr>\n      <th>1</th>\n      <td>JTKWY</td>\n      <td>2022-03-10</td>\n      <td>6.1600</td>\n      <td>6.1750</td>\n      <td>5.935</td>\n      <td>6.07</td>\n      <td>2261623.0</td>\n      <td>0.0</td>\n      <td>1.0</td>\n      <td>6.1600</td>\n      <td>6.1750</td>\n      <td>5.935</td>\n      <td>6.07</td>\n      <td>2261623.0</td>\n    </tr>\n    <tr>\n      <th>2</th>\n      <td>FG_1</td>\n      <td>2020-06-01</td>\n      <td>8.1000</td>\n      <td>8.3900</td>\n      <td>8.100</td>\n      <td>8.39</td>\n      <td>3086317.0</td>\n      <td>0.0</td>\n      <td>1.0</td>\n      <td>8.1000</td>\n      <td>8.3900</td>\n      <td>8.100</td>\n      <td>8.39</td>\n      <td>3086317.0</td>\n    </tr>\n    <tr>\n      <th>3</th>\n      <td>FLWS</td>\n      <td>2022-03-09</td>\n      <td>14.5700</td>\n      <td>14.9588</td>\n      <td>14.410</td>\n      <td>14.45</td>\n      <td>662492.0</td>\n      <td>0.0</td>\n      <td>1.0</td>\n      <td>14.5700</td>\n      <td>14.9588</td>\n      <td>14.410</td>\n      <td>14.45</td>\n      <td>662492.0</td>\n    </tr>\n    <tr>\n      <th>4</th>\n      <td>RENW_</td>\n      <td>2020-01-29</td>\n      <td>21.9768</td>\n      <td>21.9900</td>\n      <td>21.970</td>\n      <td>21.99</td>\n      <td>319.0</td>\n      <td>0.0</td>\n      <td>1.0</td>\n      <td>21.9768</td>\n      <td>21.9900</td>\n      <td>21.970</td>\n      <td>21.99</td>\n      <td>319.0</td>\n    </tr>\n  </tbody>\n</table>\n</div>"
     },
     "execution_count": 3,
     "metadata": {},
     "output_type": "execute_result"
    }
   ],
   "source": [
    "full_price = pd.read_csv(\"/Users/cindy/quandl_data_table_downloads/QUOTEMEDIA/QUOTEMEDIA_PRICES_20230614.csv\")\n",
    "full_price.head()"
   ],
   "metadata": {
    "collapsed": false
   }
  },
  {
   "cell_type": "code",
   "execution_count": 5,
   "outputs": [
    {
     "data": {
      "text/plain": "                           Company Symbol    Weight\n0                       Apple Inc.   AAPL  6.634317\n1            Microsoft Corporation   MSFT  5.627977\n2                  Amazon.com Inc.   AMZN  2.508250\n3            Alphabet Inc. Class A  GOOGL  1.638209\n4  Berkshire Hathaway Inc. Class B  BRK.B  1.629718",
      "text/html": "<div>\n<style scoped>\n    .dataframe tbody tr th:only-of-type {\n        vertical-align: middle;\n    }\n\n    .dataframe tbody tr th {\n        vertical-align: top;\n    }\n\n    .dataframe thead th {\n        text-align: right;\n    }\n</style>\n<table border=\"1\" class=\"dataframe\">\n  <thead>\n    <tr style=\"text-align: right;\">\n      <th></th>\n      <th>Company</th>\n      <th>Symbol</th>\n      <th>Weight</th>\n    </tr>\n  </thead>\n  <tbody>\n    <tr>\n      <th>0</th>\n      <td>Apple Inc.</td>\n      <td>AAPL</td>\n      <td>6.634317</td>\n    </tr>\n    <tr>\n      <th>1</th>\n      <td>Microsoft Corporation</td>\n      <td>MSFT</td>\n      <td>5.627977</td>\n    </tr>\n    <tr>\n      <th>2</th>\n      <td>Amazon.com Inc.</td>\n      <td>AMZN</td>\n      <td>2.508250</td>\n    </tr>\n    <tr>\n      <th>3</th>\n      <td>Alphabet Inc. Class A</td>\n      <td>GOOGL</td>\n      <td>1.638209</td>\n    </tr>\n    <tr>\n      <th>4</th>\n      <td>Berkshire Hathaway Inc. Class B</td>\n      <td>BRK.B</td>\n      <td>1.629718</td>\n    </tr>\n  </tbody>\n</table>\n</div>"
     },
     "execution_count": 5,
     "metadata": {},
     "output_type": "execute_result"
    }
   ],
   "source": [
    "SP500 = pd.read_excel(\"S&P 500 tickers.xlsx\")\n",
    "SP500.head()"
   ],
   "metadata": {
    "collapsed": false
   }
  },
  {
   "cell_type": "code",
   "execution_count": 59,
   "outputs": [
    {
     "data": {
      "text/plain": "        Date  Mkt-RF   SMB   HML   RMW   CMA     RF\n0 1963-07-01   -0.67  0.02 -0.35  0.03  0.13  0.012\n1 1963-07-02    0.79 -0.28  0.28 -0.08 -0.21  0.012\n2 1963-07-03    0.63 -0.18 -0.10  0.13 -0.25  0.012\n3 1963-07-05    0.40  0.09 -0.28  0.07 -0.30  0.012\n4 1963-07-08   -0.63  0.07 -0.20 -0.27  0.06  0.012",
      "text/html": "<div>\n<style scoped>\n    .dataframe tbody tr th:only-of-type {\n        vertical-align: middle;\n    }\n\n    .dataframe tbody tr th {\n        vertical-align: top;\n    }\n\n    .dataframe thead th {\n        text-align: right;\n    }\n</style>\n<table border=\"1\" class=\"dataframe\">\n  <thead>\n    <tr style=\"text-align: right;\">\n      <th></th>\n      <th>Date</th>\n      <th>Mkt-RF</th>\n      <th>SMB</th>\n      <th>HML</th>\n      <th>RMW</th>\n      <th>CMA</th>\n      <th>RF</th>\n    </tr>\n  </thead>\n  <tbody>\n    <tr>\n      <th>0</th>\n      <td>1963-07-01</td>\n      <td>-0.67</td>\n      <td>0.02</td>\n      <td>-0.35</td>\n      <td>0.03</td>\n      <td>0.13</td>\n      <td>0.012</td>\n    </tr>\n    <tr>\n      <th>1</th>\n      <td>1963-07-02</td>\n      <td>0.79</td>\n      <td>-0.28</td>\n      <td>0.28</td>\n      <td>-0.08</td>\n      <td>-0.21</td>\n      <td>0.012</td>\n    </tr>\n    <tr>\n      <th>2</th>\n      <td>1963-07-03</td>\n      <td>0.63</td>\n      <td>-0.18</td>\n      <td>-0.10</td>\n      <td>0.13</td>\n      <td>-0.25</td>\n      <td>0.012</td>\n    </tr>\n    <tr>\n      <th>3</th>\n      <td>1963-07-05</td>\n      <td>0.40</td>\n      <td>0.09</td>\n      <td>-0.28</td>\n      <td>0.07</td>\n      <td>-0.30</td>\n      <td>0.012</td>\n    </tr>\n    <tr>\n      <th>4</th>\n      <td>1963-07-08</td>\n      <td>-0.63</td>\n      <td>0.07</td>\n      <td>-0.20</td>\n      <td>-0.27</td>\n      <td>0.06</td>\n      <td>0.012</td>\n    </tr>\n  </tbody>\n</table>\n</div>"
     },
     "execution_count": 59,
     "metadata": {},
     "output_type": "execute_result"
    }
   ],
   "source": [
    "F_F_5_Factors = pd.read_csv(\"F_F_Research_Data_5_Factors_daily.csv\", skiprows = 3)\n",
    "F_F_5_Factors.columns = ['Date', 'Mkt-RF', 'SMB', 'HML', 'RMW', 'CMA', 'RF']\n",
    "F_F_5_Factors['Date'] = pd.to_datetime(F_F_5_Factors['Date'], format='%Y%m%d')\n",
    "F_F_5_Factors.head()"
   ],
   "metadata": {
    "collapsed": false
   }
  },
  {
   "cell_type": "markdown",
   "source": [
    "We define the universe as newest S&P 500 stocks that have at least 5 years of price data. It means that we will exclude the stocks that are IPO after 2018-01-01."
   ],
   "metadata": {
    "collapsed": false
   }
  },
  {
   "cell_type": "code",
   "execution_count": 10,
   "outputs": [
    {
     "data": {
      "text/plain": "         ticker       date    open    high     low   close      volume  \\\n34609545      A 1999-11-18   45.50   50.00   40.00   44.00  44739900.0   \n8276274       A 1999-11-19   42.94   43.00   39.81   40.38  10897100.0   \n8276273       A 1999-11-22   41.31   44.00   40.06   44.00   4705200.0   \n8276272       A 1999-11-23   42.50   43.63   40.25   40.25   4274400.0   \n8276271       A 1999-11-24   40.13   41.94   40.00   41.06   3464400.0   \n...         ...        ...     ...     ...     ...     ...         ...   \n5882272     ZTS 2023-06-07  170.14  170.14  162.84  163.58   3195076.0   \n6750729     ZTS 2023-06-08  162.96  164.87  162.38  164.30   1983997.0   \n45051669    ZTS 2023-06-09  163.73  164.23  162.95  163.09   1346569.0   \n17458601    ZTS 2023-06-12  163.84  165.61  162.76  165.55   1422996.0   \n20632914    ZTS 2023-06-13  165.62  167.27  165.55  166.01   1867679.0   \n\n          dividend  split    adj_open    adj_high     adj_low   adj_close  \\\n34609545       0.0    1.0   29.783619   32.729252   26.183402   28.801742   \n8276274        0.0    1.0   28.107882   28.147157   26.059030   26.432144   \n8276273        0.0    1.0   27.040908   28.801742   26.222677   28.801742   \n8276272        0.0    1.0   27.819864   28.559545   26.347048   26.347048   \n8276271        0.0    1.0   26.268498   27.453297   26.183402   26.877262   \n...            ...    ...         ...         ...         ...         ...   \n5882272        0.0    1.0  170.140000  170.140000  162.840000  163.580000   \n6750729        0.0    1.0  162.960000  164.870000  162.380000  164.300000   \n45051669       0.0    1.0  163.730000  164.230000  162.950000  163.090000   \n17458601       0.0    1.0  163.840000  165.610000  162.760000  165.550000   \n20632914       0.0    1.0  165.620000  167.270000  165.550000  166.010000   \n\n          adj_volume  \n34609545  44739900.0  \n8276274   10897100.0  \n8276273    4705200.0  \n8276272    4274400.0  \n8276271    3464400.0  \n...              ...  \n5882272    3195076.0  \n6750729    1983997.0  \n45051669   1346569.0  \n17458601   1422996.0  \n20632914   1867679.0  \n\n[3805219 rows x 14 columns]",
      "text/html": "<div>\n<style scoped>\n    .dataframe tbody tr th:only-of-type {\n        vertical-align: middle;\n    }\n\n    .dataframe tbody tr th {\n        vertical-align: top;\n    }\n\n    .dataframe thead th {\n        text-align: right;\n    }\n</style>\n<table border=\"1\" class=\"dataframe\">\n  <thead>\n    <tr style=\"text-align: right;\">\n      <th></th>\n      <th>ticker</th>\n      <th>date</th>\n      <th>open</th>\n      <th>high</th>\n      <th>low</th>\n      <th>close</th>\n      <th>volume</th>\n      <th>dividend</th>\n      <th>split</th>\n      <th>adj_open</th>\n      <th>adj_high</th>\n      <th>adj_low</th>\n      <th>adj_close</th>\n      <th>adj_volume</th>\n    </tr>\n  </thead>\n  <tbody>\n    <tr>\n      <th>34609545</th>\n      <td>A</td>\n      <td>1999-11-18</td>\n      <td>45.50</td>\n      <td>50.00</td>\n      <td>40.00</td>\n      <td>44.00</td>\n      <td>44739900.0</td>\n      <td>0.0</td>\n      <td>1.0</td>\n      <td>29.783619</td>\n      <td>32.729252</td>\n      <td>26.183402</td>\n      <td>28.801742</td>\n      <td>44739900.0</td>\n    </tr>\n    <tr>\n      <th>8276274</th>\n      <td>A</td>\n      <td>1999-11-19</td>\n      <td>42.94</td>\n      <td>43.00</td>\n      <td>39.81</td>\n      <td>40.38</td>\n      <td>10897100.0</td>\n      <td>0.0</td>\n      <td>1.0</td>\n      <td>28.107882</td>\n      <td>28.147157</td>\n      <td>26.059030</td>\n      <td>26.432144</td>\n      <td>10897100.0</td>\n    </tr>\n    <tr>\n      <th>8276273</th>\n      <td>A</td>\n      <td>1999-11-22</td>\n      <td>41.31</td>\n      <td>44.00</td>\n      <td>40.06</td>\n      <td>44.00</td>\n      <td>4705200.0</td>\n      <td>0.0</td>\n      <td>1.0</td>\n      <td>27.040908</td>\n      <td>28.801742</td>\n      <td>26.222677</td>\n      <td>28.801742</td>\n      <td>4705200.0</td>\n    </tr>\n    <tr>\n      <th>8276272</th>\n      <td>A</td>\n      <td>1999-11-23</td>\n      <td>42.50</td>\n      <td>43.63</td>\n      <td>40.25</td>\n      <td>40.25</td>\n      <td>4274400.0</td>\n      <td>0.0</td>\n      <td>1.0</td>\n      <td>27.819864</td>\n      <td>28.559545</td>\n      <td>26.347048</td>\n      <td>26.347048</td>\n      <td>4274400.0</td>\n    </tr>\n    <tr>\n      <th>8276271</th>\n      <td>A</td>\n      <td>1999-11-24</td>\n      <td>40.13</td>\n      <td>41.94</td>\n      <td>40.00</td>\n      <td>41.06</td>\n      <td>3464400.0</td>\n      <td>0.0</td>\n      <td>1.0</td>\n      <td>26.268498</td>\n      <td>27.453297</td>\n      <td>26.183402</td>\n      <td>26.877262</td>\n      <td>3464400.0</td>\n    </tr>\n    <tr>\n      <th>...</th>\n      <td>...</td>\n      <td>...</td>\n      <td>...</td>\n      <td>...</td>\n      <td>...</td>\n      <td>...</td>\n      <td>...</td>\n      <td>...</td>\n      <td>...</td>\n      <td>...</td>\n      <td>...</td>\n      <td>...</td>\n      <td>...</td>\n      <td>...</td>\n    </tr>\n    <tr>\n      <th>5882272</th>\n      <td>ZTS</td>\n      <td>2023-06-07</td>\n      <td>170.14</td>\n      <td>170.14</td>\n      <td>162.84</td>\n      <td>163.58</td>\n      <td>3195076.0</td>\n      <td>0.0</td>\n      <td>1.0</td>\n      <td>170.140000</td>\n      <td>170.140000</td>\n      <td>162.840000</td>\n      <td>163.580000</td>\n      <td>3195076.0</td>\n    </tr>\n    <tr>\n      <th>6750729</th>\n      <td>ZTS</td>\n      <td>2023-06-08</td>\n      <td>162.96</td>\n      <td>164.87</td>\n      <td>162.38</td>\n      <td>164.30</td>\n      <td>1983997.0</td>\n      <td>0.0</td>\n      <td>1.0</td>\n      <td>162.960000</td>\n      <td>164.870000</td>\n      <td>162.380000</td>\n      <td>164.300000</td>\n      <td>1983997.0</td>\n    </tr>\n    <tr>\n      <th>45051669</th>\n      <td>ZTS</td>\n      <td>2023-06-09</td>\n      <td>163.73</td>\n      <td>164.23</td>\n      <td>162.95</td>\n      <td>163.09</td>\n      <td>1346569.0</td>\n      <td>0.0</td>\n      <td>1.0</td>\n      <td>163.730000</td>\n      <td>164.230000</td>\n      <td>162.950000</td>\n      <td>163.090000</td>\n      <td>1346569.0</td>\n    </tr>\n    <tr>\n      <th>17458601</th>\n      <td>ZTS</td>\n      <td>2023-06-12</td>\n      <td>163.84</td>\n      <td>165.61</td>\n      <td>162.76</td>\n      <td>165.55</td>\n      <td>1422996.0</td>\n      <td>0.0</td>\n      <td>1.0</td>\n      <td>163.840000</td>\n      <td>165.610000</td>\n      <td>162.760000</td>\n      <td>165.550000</td>\n      <td>1422996.0</td>\n    </tr>\n    <tr>\n      <th>20632914</th>\n      <td>ZTS</td>\n      <td>2023-06-13</td>\n      <td>165.62</td>\n      <td>167.27</td>\n      <td>165.55</td>\n      <td>166.01</td>\n      <td>1867679.0</td>\n      <td>0.0</td>\n      <td>1.0</td>\n      <td>165.620000</td>\n      <td>167.270000</td>\n      <td>165.550000</td>\n      <td>166.010000</td>\n      <td>1867679.0</td>\n    </tr>\n  </tbody>\n</table>\n<p>3805219 rows × 14 columns</p>\n</div>"
     },
     "execution_count": 10,
     "metadata": {},
     "output_type": "execute_result"
    }
   ],
   "source": [
    "# Only keep the stocks that are in the S&P 500\n",
    "universe = full_price[full_price['ticker'].isin(SP500['Symbol'])].copy().sort_values(by = ['ticker', 'date'])\n",
    "universe['date'] = pd.to_datetime(universe['date'])\n",
    "universe"
   ],
   "metadata": {
    "collapsed": false
   }
  },
  {
   "cell_type": "code",
   "execution_count": 42,
   "outputs": [
    {
     "data": {
      "text/plain": "28     AMCR\n75     CARR\n82     CDAY\n119    CTVA\n137     DOW\n227     HWM\n270     LHX\n311    MRNA\n344     OGN\n350    OTIS\n447      TT\n463    VICI\nName: ticker, dtype: object"
     },
     "execution_count": 42,
     "metadata": {},
     "output_type": "execute_result"
    }
   ],
   "source": [
    "# Filter out the stocks that are IPO after 2018-01-01\n",
    "SP500_start_date = universe.groupby('ticker').date.min().to_frame().reset_index().rename(columns = {'date': 'start_date'})\n",
    "SP500_start_date[SP500_start_date.start_date >= '2018-01-01'].ticker"
   ],
   "metadata": {
    "collapsed": false
   }
  },
  {
   "cell_type": "code",
   "execution_count": 43,
   "outputs": [],
   "source": [
    "universe.drop(universe[(universe.ticker.isin(SP500_start_date[SP500_start_date.start_date >= '2018-01-01'].ticker))].index, inplace = True)"
   ],
   "metadata": {
    "collapsed": false
   }
  },
  {
   "cell_type": "code",
   "execution_count": 44,
   "outputs": [
    {
     "data": {
      "text/plain": "    ticker start_date\n121     DD 2017-09-01",
      "text/html": "<div>\n<style scoped>\n    .dataframe tbody tr th:only-of-type {\n        vertical-align: middle;\n    }\n\n    .dataframe tbody tr th {\n        vertical-align: top;\n    }\n\n    .dataframe thead th {\n        text-align: right;\n    }\n</style>\n<table border=\"1\" class=\"dataframe\">\n  <thead>\n    <tr style=\"text-align: right;\">\n      <th></th>\n      <th>ticker</th>\n      <th>start_date</th>\n    </tr>\n  </thead>\n  <tbody>\n    <tr>\n      <th>121</th>\n      <td>DD</td>\n      <td>2017-09-01</td>\n    </tr>\n  </tbody>\n</table>\n</div>"
     },
     "execution_count": 44,
     "metadata": {},
     "output_type": "execute_result"
    }
   ],
   "source": [
    "# Check the start date of each stock is earlier than 2018-01-01\n",
    "#SP500_start_date = universe.groupby('ticker').date.min().to_frame().reset_index().rename(columns = {'date': 'start_date'})\n",
    "#SP500_start_date[SP500_start_date.start_date == SP500_start_date.start_date.max()]"
   ],
   "metadata": {
    "collapsed": false
   }
  },
  {
   "cell_type": "code",
   "execution_count": 73,
   "outputs": [
    {
     "data": {
      "text/plain": "  ticker       date  adj_close  adj_volume    return\n1      A 2018-01-09  69.013902   2666711.0  0.024554\n2      A 2018-01-10  68.071536   2957184.0 -0.013655\n3      A 2018-01-11  68.081152   1511134.0  0.000141\n4      A 2018-01-12  68.975438   1448155.0  0.013136\n5      A 2018-01-16  68.494639   1703398.0 -0.006971",
      "text/html": "<div>\n<style scoped>\n    .dataframe tbody tr th:only-of-type {\n        vertical-align: middle;\n    }\n\n    .dataframe tbody tr th {\n        vertical-align: top;\n    }\n\n    .dataframe thead th {\n        text-align: right;\n    }\n</style>\n<table border=\"1\" class=\"dataframe\">\n  <thead>\n    <tr style=\"text-align: right;\">\n      <th></th>\n      <th>ticker</th>\n      <th>date</th>\n      <th>adj_close</th>\n      <th>adj_volume</th>\n      <th>return</th>\n    </tr>\n  </thead>\n  <tbody>\n    <tr>\n      <th>1</th>\n      <td>A</td>\n      <td>2018-01-09</td>\n      <td>69.013902</td>\n      <td>2666711.0</td>\n      <td>0.024554</td>\n    </tr>\n    <tr>\n      <th>2</th>\n      <td>A</td>\n      <td>2018-01-10</td>\n      <td>68.071536</td>\n      <td>2957184.0</td>\n      <td>-0.013655</td>\n    </tr>\n    <tr>\n      <th>3</th>\n      <td>A</td>\n      <td>2018-01-11</td>\n      <td>68.081152</td>\n      <td>1511134.0</td>\n      <td>0.000141</td>\n    </tr>\n    <tr>\n      <th>4</th>\n      <td>A</td>\n      <td>2018-01-12</td>\n      <td>68.975438</td>\n      <td>1448155.0</td>\n      <td>0.013136</td>\n    </tr>\n    <tr>\n      <th>5</th>\n      <td>A</td>\n      <td>2018-01-16</td>\n      <td>68.494639</td>\n      <td>1703398.0</td>\n      <td>-0.006971</td>\n    </tr>\n  </tbody>\n</table>\n</div>"
     },
     "execution_count": 73,
     "metadata": {},
     "output_type": "execute_result"
    }
   ],
   "source": [
    "# Set the start time be 2018-01-01 and end time be 2023-05-31 of the time series and compute returns\n",
    "universe = universe[(universe['date'] >= '2018-01-01') & (universe['date'] < '2023-06-01')].sort_values(by = ['ticker', 'date'])[['ticker', 'date', 'adj_close', 'adj_volume']].reset_index(drop = True)\n",
    "universe['return'] = universe.groupby('ticker')['adj_close'].pct_change()\n",
    "universe = universe.dropna()\n",
    "universe.head()"
   ],
   "metadata": {
    "collapsed": false
   }
  },
  {
   "cell_type": "code",
   "execution_count": 74,
   "outputs": [
    {
     "data": {
      "text/plain": "           Date  Mkt-RF   SMB   HML   RMW   CMA     RF\n0    2018-01-02    0.85  0.31 -0.21 -0.50  0.31  0.006\n1    2018-01-03    0.59 -0.47 -0.19 -0.70 -0.06  0.006\n2    2018-01-04    0.42 -0.22  0.25 -0.01  0.31  0.006\n3    2018-01-05    0.66 -0.37 -0.25  0.37 -0.37  0.006\n4    2018-01-08    0.19 -0.19  0.04 -0.07  0.01  0.006\n...         ...     ...   ...   ...   ...   ...    ...\n1335 2023-04-24    0.00 -0.27  0.47  0.66  0.28  0.018\n1336 2023-04-25   -1.76 -0.83  0.10  0.44  0.89  0.018\n1337 2023-04-26   -0.41 -0.04 -0.75  0.05 -0.33  0.018\n1338 2023-04-27    1.85 -0.59  0.00  0.46 -0.19  0.018\n1339 2023-04-28    0.77  0.21  0.17  0.11  0.23  0.018\n\n[1340 rows x 7 columns]",
      "text/html": "<div>\n<style scoped>\n    .dataframe tbody tr th:only-of-type {\n        vertical-align: middle;\n    }\n\n    .dataframe tbody tr th {\n        vertical-align: top;\n    }\n\n    .dataframe thead th {\n        text-align: right;\n    }\n</style>\n<table border=\"1\" class=\"dataframe\">\n  <thead>\n    <tr style=\"text-align: right;\">\n      <th></th>\n      <th>Date</th>\n      <th>Mkt-RF</th>\n      <th>SMB</th>\n      <th>HML</th>\n      <th>RMW</th>\n      <th>CMA</th>\n      <th>RF</th>\n    </tr>\n  </thead>\n  <tbody>\n    <tr>\n      <th>0</th>\n      <td>2018-01-02</td>\n      <td>0.85</td>\n      <td>0.31</td>\n      <td>-0.21</td>\n      <td>-0.50</td>\n      <td>0.31</td>\n      <td>0.006</td>\n    </tr>\n    <tr>\n      <th>1</th>\n      <td>2018-01-03</td>\n      <td>0.59</td>\n      <td>-0.47</td>\n      <td>-0.19</td>\n      <td>-0.70</td>\n      <td>-0.06</td>\n      <td>0.006</td>\n    </tr>\n    <tr>\n      <th>2</th>\n      <td>2018-01-04</td>\n      <td>0.42</td>\n      <td>-0.22</td>\n      <td>0.25</td>\n      <td>-0.01</td>\n      <td>0.31</td>\n      <td>0.006</td>\n    </tr>\n    <tr>\n      <th>3</th>\n      <td>2018-01-05</td>\n      <td>0.66</td>\n      <td>-0.37</td>\n      <td>-0.25</td>\n      <td>0.37</td>\n      <td>-0.37</td>\n      <td>0.006</td>\n    </tr>\n    <tr>\n      <th>4</th>\n      <td>2018-01-08</td>\n      <td>0.19</td>\n      <td>-0.19</td>\n      <td>0.04</td>\n      <td>-0.07</td>\n      <td>0.01</td>\n      <td>0.006</td>\n    </tr>\n    <tr>\n      <th>...</th>\n      <td>...</td>\n      <td>...</td>\n      <td>...</td>\n      <td>...</td>\n      <td>...</td>\n      <td>...</td>\n      <td>...</td>\n    </tr>\n    <tr>\n      <th>1335</th>\n      <td>2023-04-24</td>\n      <td>0.00</td>\n      <td>-0.27</td>\n      <td>0.47</td>\n      <td>0.66</td>\n      <td>0.28</td>\n      <td>0.018</td>\n    </tr>\n    <tr>\n      <th>1336</th>\n      <td>2023-04-25</td>\n      <td>-1.76</td>\n      <td>-0.83</td>\n      <td>0.10</td>\n      <td>0.44</td>\n      <td>0.89</td>\n      <td>0.018</td>\n    </tr>\n    <tr>\n      <th>1337</th>\n      <td>2023-04-26</td>\n      <td>-0.41</td>\n      <td>-0.04</td>\n      <td>-0.75</td>\n      <td>0.05</td>\n      <td>-0.33</td>\n      <td>0.018</td>\n    </tr>\n    <tr>\n      <th>1338</th>\n      <td>2023-04-27</td>\n      <td>1.85</td>\n      <td>-0.59</td>\n      <td>0.00</td>\n      <td>0.46</td>\n      <td>-0.19</td>\n      <td>0.018</td>\n    </tr>\n    <tr>\n      <th>1339</th>\n      <td>2023-04-28</td>\n      <td>0.77</td>\n      <td>0.21</td>\n      <td>0.17</td>\n      <td>0.11</td>\n      <td>0.23</td>\n      <td>0.018</td>\n    </tr>\n  </tbody>\n</table>\n<p>1340 rows × 7 columns</p>\n</div>"
     },
     "execution_count": 74,
     "metadata": {},
     "output_type": "execute_result"
    }
   ],
   "source": [
    "# Match the date of Fama-French 5 factors to the universe date time series\n",
    "F_F_5_Factors = F_F_5_Factors[(F_F_5_Factors['Date'] >= '2018-01-01') & (F_F_5_Factors['Date'] < '2023-06-01')].reset_index(drop = True)\n",
    "F_F_5_Factors"
   ],
   "metadata": {
    "collapsed": false
   }
  },
  {
   "cell_type": "code",
   "execution_count": 78,
   "outputs": [
    {
     "data": {
      "text/plain": "       ticker       date   adj_close  adj_volume    return       Date  Mkt-RF  \\\n0           A 2018-01-09   69.013902   2666711.0  0.024554 2018-01-09    0.15   \n1           A 2018-01-10   68.071536   2957184.0 -0.013655 2018-01-10   -0.07   \n2           A 2018-01-11   68.081152   1511134.0  0.000141 2018-01-11    0.87   \n3           A 2018-01-12   68.975438   1448155.0  0.013136 2018-01-12    0.66   \n4           A 2018-01-16   68.494639   1703398.0 -0.006971 2018-01-16   -0.49   \n...       ...        ...         ...         ...       ...        ...     ...   \n659536    ZTS 2023-05-24  169.140000   2437851.0 -0.020444        NaT     NaN   \n659537    ZTS 2023-05-25  165.240000   3623624.0 -0.023058        NaT     NaN   \n659538    ZTS 2023-05-26  164.740000   1909375.0 -0.003026        NaT     NaN   \n659539    ZTS 2023-05-30  160.940000   2184974.0 -0.023067        NaT     NaN   \n659540    ZTS 2023-05-31  163.010000   5471170.0  0.012862        NaT     NaN   \n\n         SMB   HML   RMW   CMA     RF  excess_return  \n0      -0.39 -0.04 -0.13  0.02  0.006       0.018554  \n1       0.13  0.56 -0.32  0.02  0.006      -0.019655  \n2       1.12  0.30 -0.21  0.58  0.006      -0.005859  \n3      -0.33  0.16 -0.10  0.18  0.006       0.007136  \n4      -0.99  0.01  0.44 -0.40  0.006      -0.012971  \n...      ...   ...   ...   ...    ...            ...  \n659536   NaN   NaN   NaN   NaN    NaN            NaN  \n659537   NaN   NaN   NaN   NaN    NaN            NaN  \n659538   NaN   NaN   NaN   NaN    NaN            NaN  \n659539   NaN   NaN   NaN   NaN    NaN            NaN  \n659540   NaN   NaN   NaN   NaN    NaN            NaN  \n\n[659541 rows x 13 columns]",
      "text/html": "<div>\n<style scoped>\n    .dataframe tbody tr th:only-of-type {\n        vertical-align: middle;\n    }\n\n    .dataframe tbody tr th {\n        vertical-align: top;\n    }\n\n    .dataframe thead th {\n        text-align: right;\n    }\n</style>\n<table border=\"1\" class=\"dataframe\">\n  <thead>\n    <tr style=\"text-align: right;\">\n      <th></th>\n      <th>ticker</th>\n      <th>date</th>\n      <th>adj_close</th>\n      <th>adj_volume</th>\n      <th>return</th>\n      <th>Date</th>\n      <th>Mkt-RF</th>\n      <th>SMB</th>\n      <th>HML</th>\n      <th>RMW</th>\n      <th>CMA</th>\n      <th>RF</th>\n      <th>excess_return</th>\n    </tr>\n  </thead>\n  <tbody>\n    <tr>\n      <th>0</th>\n      <td>A</td>\n      <td>2018-01-09</td>\n      <td>69.013902</td>\n      <td>2666711.0</td>\n      <td>0.024554</td>\n      <td>2018-01-09</td>\n      <td>0.15</td>\n      <td>-0.39</td>\n      <td>-0.04</td>\n      <td>-0.13</td>\n      <td>0.02</td>\n      <td>0.006</td>\n      <td>0.018554</td>\n    </tr>\n    <tr>\n      <th>1</th>\n      <td>A</td>\n      <td>2018-01-10</td>\n      <td>68.071536</td>\n      <td>2957184.0</td>\n      <td>-0.013655</td>\n      <td>2018-01-10</td>\n      <td>-0.07</td>\n      <td>0.13</td>\n      <td>0.56</td>\n      <td>-0.32</td>\n      <td>0.02</td>\n      <td>0.006</td>\n      <td>-0.019655</td>\n    </tr>\n    <tr>\n      <th>2</th>\n      <td>A</td>\n      <td>2018-01-11</td>\n      <td>68.081152</td>\n      <td>1511134.0</td>\n      <td>0.000141</td>\n      <td>2018-01-11</td>\n      <td>0.87</td>\n      <td>1.12</td>\n      <td>0.30</td>\n      <td>-0.21</td>\n      <td>0.58</td>\n      <td>0.006</td>\n      <td>-0.005859</td>\n    </tr>\n    <tr>\n      <th>3</th>\n      <td>A</td>\n      <td>2018-01-12</td>\n      <td>68.975438</td>\n      <td>1448155.0</td>\n      <td>0.013136</td>\n      <td>2018-01-12</td>\n      <td>0.66</td>\n      <td>-0.33</td>\n      <td>0.16</td>\n      <td>-0.10</td>\n      <td>0.18</td>\n      <td>0.006</td>\n      <td>0.007136</td>\n    </tr>\n    <tr>\n      <th>4</th>\n      <td>A</td>\n      <td>2018-01-16</td>\n      <td>68.494639</td>\n      <td>1703398.0</td>\n      <td>-0.006971</td>\n      <td>2018-01-16</td>\n      <td>-0.49</td>\n      <td>-0.99</td>\n      <td>0.01</td>\n      <td>0.44</td>\n      <td>-0.40</td>\n      <td>0.006</td>\n      <td>-0.012971</td>\n    </tr>\n    <tr>\n      <th>...</th>\n      <td>...</td>\n      <td>...</td>\n      <td>...</td>\n      <td>...</td>\n      <td>...</td>\n      <td>...</td>\n      <td>...</td>\n      <td>...</td>\n      <td>...</td>\n      <td>...</td>\n      <td>...</td>\n      <td>...</td>\n      <td>...</td>\n    </tr>\n    <tr>\n      <th>659536</th>\n      <td>ZTS</td>\n      <td>2023-05-24</td>\n      <td>169.140000</td>\n      <td>2437851.0</td>\n      <td>-0.020444</td>\n      <td>NaT</td>\n      <td>NaN</td>\n      <td>NaN</td>\n      <td>NaN</td>\n      <td>NaN</td>\n      <td>NaN</td>\n      <td>NaN</td>\n      <td>NaN</td>\n    </tr>\n    <tr>\n      <th>659537</th>\n      <td>ZTS</td>\n      <td>2023-05-25</td>\n      <td>165.240000</td>\n      <td>3623624.0</td>\n      <td>-0.023058</td>\n      <td>NaT</td>\n      <td>NaN</td>\n      <td>NaN</td>\n      <td>NaN</td>\n      <td>NaN</td>\n      <td>NaN</td>\n      <td>NaN</td>\n      <td>NaN</td>\n    </tr>\n    <tr>\n      <th>659538</th>\n      <td>ZTS</td>\n      <td>2023-05-26</td>\n      <td>164.740000</td>\n      <td>1909375.0</td>\n      <td>-0.003026</td>\n      <td>NaT</td>\n      <td>NaN</td>\n      <td>NaN</td>\n      <td>NaN</td>\n      <td>NaN</td>\n      <td>NaN</td>\n      <td>NaN</td>\n      <td>NaN</td>\n    </tr>\n    <tr>\n      <th>659539</th>\n      <td>ZTS</td>\n      <td>2023-05-30</td>\n      <td>160.940000</td>\n      <td>2184974.0</td>\n      <td>-0.023067</td>\n      <td>NaT</td>\n      <td>NaN</td>\n      <td>NaN</td>\n      <td>NaN</td>\n      <td>NaN</td>\n      <td>NaN</td>\n      <td>NaN</td>\n      <td>NaN</td>\n    </tr>\n    <tr>\n      <th>659540</th>\n      <td>ZTS</td>\n      <td>2023-05-31</td>\n      <td>163.010000</td>\n      <td>5471170.0</td>\n      <td>0.012862</td>\n      <td>NaT</td>\n      <td>NaN</td>\n      <td>NaN</td>\n      <td>NaN</td>\n      <td>NaN</td>\n      <td>NaN</td>\n      <td>NaN</td>\n      <td>NaN</td>\n    </tr>\n  </tbody>\n</table>\n<p>659541 rows × 13 columns</p>\n</div>"
     },
     "execution_count": 78,
     "metadata": {},
     "output_type": "execute_result"
    }
   ],
   "source": [
    "F_F_regression = universe.merge(F_F_5_Factors, left_on = 'date', right_on = 'Date', how = 'left')\n",
    "F_F_regression['excess_return'] = F_F_regression['return'] - F_F_regression['RF']\n",
    "F_F_regression"
   ],
   "metadata": {
    "collapsed": false
   }
  },
  {
   "cell_type": "code",
   "execution_count": null,
   "outputs": [],
   "source": [
    "# Using expanding window to compute the beta by regressing excess return on Mkt-RF, SMB, HML, RMW, CMA\n",
    "F_F_regression['Mkt-RF_beta'] = F_F_regression.groupby('ticker')['excess_return'].apply(lambda x: x.expanding().cov(F_F_regression['Mkt-RF']) / F_F_regression['Mkt-RF'].expanding().var())"
   ],
   "metadata": {
    "collapsed": false,
    "pycharm": {
     "is_executing": true
    }
   }
  },
  {
   "cell_type": "code",
   "execution_count": null,
   "outputs": [],
   "source": [
    "F_F_regression"
   ],
   "metadata": {
    "collapsed": false
   }
  }
 ],
 "metadata": {
  "kernelspec": {
   "display_name": "Python 3",
   "language": "python",
   "name": "python3"
  },
  "language_info": {
   "codemirror_mode": {
    "name": "ipython",
    "version": 2
   },
   "file_extension": ".py",
   "mimetype": "text/x-python",
   "name": "python",
   "nbconvert_exporter": "python",
   "pygments_lexer": "ipython2",
   "version": "2.7.6"
  }
 },
 "nbformat": 4,
 "nbformat_minor": 0
}
