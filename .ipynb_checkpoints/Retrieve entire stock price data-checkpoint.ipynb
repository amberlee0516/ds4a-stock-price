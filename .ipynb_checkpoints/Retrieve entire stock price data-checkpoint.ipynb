{
 "cells": [
  {
   "cell_type": "markdown",
   "id": "00972ea1",
   "metadata": {},
   "source": [
    "### Libraries\n",
    "\n",
    "Following [these](https://jakevdp.github.io/blog/2017/12/05/installing-python-packages-from-jupyter/) instructions"
   ]
  },
  {
   "cell_type": "code",
   "execution_count": 37,
   "id": "c7938741",
   "metadata": {},
   "outputs": [
    {
     "name": "stdout",
     "output_type": "stream",
     "text": [
      "Collecting python-dotenv\n",
      "  Downloading python_dotenv-1.0.0-py3-none-any.whl (19 kB)\n",
      "Installing collected packages: python-dotenv\n",
      "Successfully installed python-dotenv-1.0.0\n"
     ]
    }
   ],
   "source": [
    "# import sys\n",
    "# !{sys.executable} -m pip install quandl\n",
    "# !{sys.executable} -m pip install yfinance\n",
    "# !{sys.executable} -m pip install python-dotenv"
   ]
  },
  {
   "cell_type": "code",
   "execution_count": 1,
   "id": "5385392e",
   "metadata": {},
   "outputs": [],
   "source": [
    "import os\n",
    "import pandas as pd\n",
    "import numpy as np\n",
    "import datetime as dt\n",
    "import matplotlib.pyplot as plt\n",
    "\n",
    "from urllib.request import urlopen, Request\n",
    "from bs4 import BeautifulSoup\n",
    "import quandl \n",
    "import yfinance as yf\n",
    "\n",
    "# NLTK VADER for sentiment analysis\n",
    "import nltk\n",
    "from nltk.sentiment.vader import SentimentIntensityAnalyzer\n",
    "finwiz_url = 'https://finviz.com/quote.ashx?t='\n",
    "\n",
    "# API key\n",
    "from dotenv import load_dotenv\n",
    "load_dotenv('Cindy_Quandl_API.env')\n",
    "\n",
    "# data analysis stuff\n",
    "from statsmodels.graphics.tsaplots import plot_acf"
   ]
  },
  {
   "cell_type": "markdown",
   "id": "30812b35",
   "metadata": {},
   "source": [
    "### Helper functions"
   ]
  },
  {
   "cell_type": "code",
   "execution_count": 2,
   "id": "538ab8b4",
   "metadata": {},
   "outputs": [],
   "source": [
    "#Quandl Python Tables API Function\n",
    "def grab_quandl_table(\n",
    "    table_path,\n",
    "    avoid_download=False,\n",
    "    replace_existing=False,\n",
    "    date_override=None,\n",
    "    allow_old_file=False,\n",
    "    **kwargs,\n",
    "):\n",
    "    root_data_dir = os.path.join(os.getcwd(), \"quandl_data_table_downloads\")\n",
    "    data_symlink = os.path.join(root_data_dir, f\"{table_path}_latest.zip\")\n",
    "    if avoid_download and os.path.exists(data_symlink):\n",
    "        print(f\"Skipping any possible download of {table_path}\")\n",
    "        return data_symlink\n",
    "\n",
    "    table_dir = os.path.dirname(data_symlink)\n",
    "    if not os.path.isdir(table_dir):\n",
    "        print(f'Creating new data dir {table_dir}')\n",
    "        os.makedirs(table_dir)\n",
    "\n",
    "    if date_override is None:\n",
    "        my_date = dt.datetime.now().strftime(\"%Y%m%d\")\n",
    "    else:\n",
    "        my_date = date_override\n",
    "    data_file = os.path.join(root_data_dir, f\"{table_path}_{my_date}.zip\")\n",
    "\n",
    "    if os.path.exists(data_file):\n",
    "        file_size = os.stat(data_file).st_size\n",
    "        if replace_existing or not file_size > 0:\n",
    "            print(f\"Removing old file {data_file} size {file_size}\")\n",
    "        else:\n",
    "            print(\n",
    "                f\"Data file {data_file} size {file_size} exists already, no need to download\"\n",
    "            )\n",
    "            return data_file\n",
    "\n",
    "    api_key = os.environ.get('Cindy_Quandl_API')\n",
    "    dl = quandl.export_table(\n",
    "        table_path, filename=data_file, api_key=api_key, **kwargs\n",
    "    )\n",
    "    file_size = os.stat(data_file).st_size\n",
    "    if os.path.exists(data_file) and file_size > 0:\n",
    "        print(f\"Download finished: {file_size} bytes\")\n",
    "        if not date_override:\n",
    "            if os.path.exists(data_symlink):\n",
    "                print(f\"Removing old symlink\")\n",
    "                os.unlink(data_symlink)\n",
    "            print(f\"Creating symlink: {data_file} -> {data_symlink}\")\n",
    "            os.symlink(\n",
    "                data_file, data_symlink,\n",
    "            )\n",
    "    else:\n",
    "        print(f\"Data file {data_file} failed download\")\n",
    "        return\n",
    "    return data_symlink if (date_override is None or allow_old_file) else \"NoFileAvailable\""
   ]
  },
  {
   "cell_type": "code",
   "execution_count": 3,
   "id": "b31d9961",
   "metadata": {},
   "outputs": [],
   "source": [
    "def fetch_quandl_table(table_path, avoid_download=True, **kwargs):\n",
    "    return pd.read_csv(\n",
    "        grab_quandl_table(table_path, avoid_download=avoid_download, **kwargs)\n",
    "    )"
   ]
  },
  {
   "cell_type": "markdown",
   "id": "c5a714f3",
   "metadata": {},
   "source": [
    "### Stock prices data\n",
    "\n",
    "Creates a folder with the Quotemedia dataset."
   ]
  },
  {
   "cell_type": "code",
   "execution_count": 4,
   "id": "b3abc107",
   "metadata": {
    "scrolled": true
   },
   "outputs": [
    {
     "name": "stdout",
     "output_type": "stream",
     "text": [
      "Creating new data dir /Users/amberlee/Documents/GitHub/ds4a-stock-price/quandl_data_table_downloads/QUOTEMEDIA\n",
      "Download finished: 1433829263 bytes\n",
      "Creating symlink: /Users/amberlee/Documents/GitHub/ds4a-stock-price/quandl_data_table_downloads/QUOTEMEDIA/PRICES_20230712.zip -> /Users/amberlee/Documents/GitHub/ds4a-stock-price/quandl_data_table_downloads/QUOTEMEDIA/PRICES_latest.zip\n"
     ]
    }
   ],
   "source": [
    "full_price = fetch_quandl_table('QUOTEMEDIA/PRICES', avoid_download=False)"
   ]
  },
  {
   "cell_type": "code",
   "execution_count": 5,
   "id": "922aa003",
   "metadata": {},
   "outputs": [
    {
     "data": {
      "text/html": [
       "<div>\n",
       "<style scoped>\n",
       "    .dataframe tbody tr th:only-of-type {\n",
       "        vertical-align: middle;\n",
       "    }\n",
       "\n",
       "    .dataframe tbody tr th {\n",
       "        vertical-align: top;\n",
       "    }\n",
       "\n",
       "    .dataframe thead th {\n",
       "        text-align: right;\n",
       "    }\n",
       "</style>\n",
       "<table border=\"1\" class=\"dataframe\">\n",
       "  <thead>\n",
       "    <tr style=\"text-align: right;\">\n",
       "      <th></th>\n",
       "      <th>ticker</th>\n",
       "      <th>date</th>\n",
       "      <th>open</th>\n",
       "      <th>high</th>\n",
       "      <th>low</th>\n",
       "      <th>close</th>\n",
       "      <th>volume</th>\n",
       "      <th>dividend</th>\n",
       "      <th>split</th>\n",
       "      <th>adj_open</th>\n",
       "      <th>adj_high</th>\n",
       "      <th>adj_low</th>\n",
       "      <th>adj_close</th>\n",
       "      <th>adj_volume</th>\n",
       "    </tr>\n",
       "  </thead>\n",
       "  <tbody>\n",
       "    <tr>\n",
       "      <th>0</th>\n",
       "      <td>MFRM</td>\n",
       "      <td>2016-07-07</td>\n",
       "      <td>32.17</td>\n",
       "      <td>32.4400</td>\n",
       "      <td>30.970</td>\n",
       "      <td>31.32</td>\n",
       "      <td>151601.0</td>\n",
       "      <td>0.0</td>\n",
       "      <td>1.0</td>\n",
       "      <td>32.17</td>\n",
       "      <td>32.4400</td>\n",
       "      <td>30.970</td>\n",
       "      <td>31.32</td>\n",
       "      <td>151601.0</td>\n",
       "    </tr>\n",
       "    <tr>\n",
       "      <th>1</th>\n",
       "      <td>MFRM</td>\n",
       "      <td>2016-07-08</td>\n",
       "      <td>31.41</td>\n",
       "      <td>32.1700</td>\n",
       "      <td>31.280</td>\n",
       "      <td>31.78</td>\n",
       "      <td>223495.0</td>\n",
       "      <td>0.0</td>\n",
       "      <td>1.0</td>\n",
       "      <td>31.41</td>\n",
       "      <td>32.1700</td>\n",
       "      <td>31.280</td>\n",
       "      <td>31.78</td>\n",
       "      <td>223495.0</td>\n",
       "    </tr>\n",
       "    <tr>\n",
       "      <th>2</th>\n",
       "      <td>MFRM</td>\n",
       "      <td>2016-07-11</td>\n",
       "      <td>31.83</td>\n",
       "      <td>32.5500</td>\n",
       "      <td>31.710</td>\n",
       "      <td>32.25</td>\n",
       "      <td>153954.0</td>\n",
       "      <td>0.0</td>\n",
       "      <td>1.0</td>\n",
       "      <td>31.83</td>\n",
       "      <td>32.5500</td>\n",
       "      <td>31.710</td>\n",
       "      <td>32.25</td>\n",
       "      <td>153954.0</td>\n",
       "    </tr>\n",
       "    <tr>\n",
       "      <th>3</th>\n",
       "      <td>MFRM</td>\n",
       "      <td>2016-07-12</td>\n",
       "      <td>32.58</td>\n",
       "      <td>33.9000</td>\n",
       "      <td>32.505</td>\n",
       "      <td>33.58</td>\n",
       "      <td>176814.0</td>\n",
       "      <td>0.0</td>\n",
       "      <td>1.0</td>\n",
       "      <td>32.58</td>\n",
       "      <td>33.9000</td>\n",
       "      <td>32.505</td>\n",
       "      <td>33.58</td>\n",
       "      <td>176814.0</td>\n",
       "    </tr>\n",
       "    <tr>\n",
       "      <th>4</th>\n",
       "      <td>MFRM</td>\n",
       "      <td>2016-07-13</td>\n",
       "      <td>33.63</td>\n",
       "      <td>34.0999</td>\n",
       "      <td>32.020</td>\n",
       "      <td>32.22</td>\n",
       "      <td>172983.0</td>\n",
       "      <td>0.0</td>\n",
       "      <td>1.0</td>\n",
       "      <td>33.63</td>\n",
       "      <td>34.0999</td>\n",
       "      <td>32.020</td>\n",
       "      <td>32.22</td>\n",
       "      <td>172983.0</td>\n",
       "    </tr>\n",
       "  </tbody>\n",
       "</table>\n",
       "</div>"
      ],
      "text/plain": [
       "  ticker        date   open     high     low  close    volume  dividend  \\\n",
       "0   MFRM  2016-07-07  32.17  32.4400  30.970  31.32  151601.0       0.0   \n",
       "1   MFRM  2016-07-08  31.41  32.1700  31.280  31.78  223495.0       0.0   \n",
       "2   MFRM  2016-07-11  31.83  32.5500  31.710  32.25  153954.0       0.0   \n",
       "3   MFRM  2016-07-12  32.58  33.9000  32.505  33.58  176814.0       0.0   \n",
       "4   MFRM  2016-07-13  33.63  34.0999  32.020  32.22  172983.0       0.0   \n",
       "\n",
       "   split  adj_open  adj_high  adj_low  adj_close  adj_volume  \n",
       "0    1.0     32.17   32.4400   30.970      31.32    151601.0  \n",
       "1    1.0     31.41   32.1700   31.280      31.78    223495.0  \n",
       "2    1.0     31.83   32.5500   31.710      32.25    153954.0  \n",
       "3    1.0     32.58   33.9000   32.505      33.58    176814.0  \n",
       "4    1.0     33.63   34.0999   32.020      32.22    172983.0  "
      ]
     },
     "execution_count": 5,
     "metadata": {},
     "output_type": "execute_result"
    }
   ],
   "source": [
    "full_price.head()"
   ]
  },
  {
   "cell_type": "markdown",
   "id": "4563d1c9",
   "metadata": {},
   "source": [
    "### S&P and Fama-French data"
   ]
  },
  {
   "cell_type": "code",
   "execution_count": 6,
   "id": "f6b8021d",
   "metadata": {},
   "outputs": [
    {
     "data": {
      "text/html": [
       "<div>\n",
       "<style scoped>\n",
       "    .dataframe tbody tr th:only-of-type {\n",
       "        vertical-align: middle;\n",
       "    }\n",
       "\n",
       "    .dataframe tbody tr th {\n",
       "        vertical-align: top;\n",
       "    }\n",
       "\n",
       "    .dataframe thead th {\n",
       "        text-align: right;\n",
       "    }\n",
       "</style>\n",
       "<table border=\"1\" class=\"dataframe\">\n",
       "  <thead>\n",
       "    <tr style=\"text-align: right;\">\n",
       "      <th></th>\n",
       "      <th>Company</th>\n",
       "      <th>Symbol</th>\n",
       "      <th>Weight</th>\n",
       "    </tr>\n",
       "  </thead>\n",
       "  <tbody>\n",
       "    <tr>\n",
       "      <th>0</th>\n",
       "      <td>Apple Inc.</td>\n",
       "      <td>AAPL</td>\n",
       "      <td>6.634317</td>\n",
       "    </tr>\n",
       "    <tr>\n",
       "      <th>1</th>\n",
       "      <td>Microsoft Corporation</td>\n",
       "      <td>MSFT</td>\n",
       "      <td>5.627977</td>\n",
       "    </tr>\n",
       "    <tr>\n",
       "      <th>2</th>\n",
       "      <td>Amazon.com Inc.</td>\n",
       "      <td>AMZN</td>\n",
       "      <td>2.508250</td>\n",
       "    </tr>\n",
       "    <tr>\n",
       "      <th>3</th>\n",
       "      <td>Alphabet Inc. Class A</td>\n",
       "      <td>GOOGL</td>\n",
       "      <td>1.638209</td>\n",
       "    </tr>\n",
       "    <tr>\n",
       "      <th>4</th>\n",
       "      <td>Berkshire Hathaway Inc. Class B</td>\n",
       "      <td>BRK.B</td>\n",
       "      <td>1.629718</td>\n",
       "    </tr>\n",
       "  </tbody>\n",
       "</table>\n",
       "</div>"
      ],
      "text/plain": [
       "                           Company Symbol    Weight\n",
       "0                       Apple Inc.   AAPL  6.634317\n",
       "1            Microsoft Corporation   MSFT  5.627977\n",
       "2                  Amazon.com Inc.   AMZN  2.508250\n",
       "3            Alphabet Inc. Class A  GOOGL  1.638209\n",
       "4  Berkshire Hathaway Inc. Class B  BRK.B  1.629718"
      ]
     },
     "execution_count": 6,
     "metadata": {},
     "output_type": "execute_result"
    }
   ],
   "source": [
    "# S&P 500 tickers list\n",
    "SP500 = pd.read_excel(\"S&P 500 tickers.xlsx\")\n",
    "SP500.head()"
   ]
  },
  {
   "cell_type": "code",
   "execution_count": 7,
   "id": "a938b6b5",
   "metadata": {},
   "outputs": [
    {
     "data": {
      "text/html": [
       "<div>\n",
       "<style scoped>\n",
       "    .dataframe tbody tr th:only-of-type {\n",
       "        vertical-align: middle;\n",
       "    }\n",
       "\n",
       "    .dataframe tbody tr th {\n",
       "        vertical-align: top;\n",
       "    }\n",
       "\n",
       "    .dataframe thead th {\n",
       "        text-align: right;\n",
       "    }\n",
       "</style>\n",
       "<table border=\"1\" class=\"dataframe\">\n",
       "  <thead>\n",
       "    <tr style=\"text-align: right;\">\n",
       "      <th></th>\n",
       "      <th>Date</th>\n",
       "      <th>Mkt-RF</th>\n",
       "      <th>SMB</th>\n",
       "      <th>HML</th>\n",
       "      <th>RMW</th>\n",
       "      <th>CMA</th>\n",
       "      <th>RF</th>\n",
       "    </tr>\n",
       "  </thead>\n",
       "  <tbody>\n",
       "    <tr>\n",
       "      <th>0</th>\n",
       "      <td>1963-07-01</td>\n",
       "      <td>-0.67</td>\n",
       "      <td>0.02</td>\n",
       "      <td>-0.35</td>\n",
       "      <td>0.03</td>\n",
       "      <td>0.13</td>\n",
       "      <td>0.012</td>\n",
       "    </tr>\n",
       "    <tr>\n",
       "      <th>1</th>\n",
       "      <td>1963-07-02</td>\n",
       "      <td>0.79</td>\n",
       "      <td>-0.28</td>\n",
       "      <td>0.28</td>\n",
       "      <td>-0.08</td>\n",
       "      <td>-0.21</td>\n",
       "      <td>0.012</td>\n",
       "    </tr>\n",
       "    <tr>\n",
       "      <th>2</th>\n",
       "      <td>1963-07-03</td>\n",
       "      <td>0.63</td>\n",
       "      <td>-0.18</td>\n",
       "      <td>-0.10</td>\n",
       "      <td>0.13</td>\n",
       "      <td>-0.25</td>\n",
       "      <td>0.012</td>\n",
       "    </tr>\n",
       "    <tr>\n",
       "      <th>3</th>\n",
       "      <td>1963-07-05</td>\n",
       "      <td>0.40</td>\n",
       "      <td>0.09</td>\n",
       "      <td>-0.28</td>\n",
       "      <td>0.07</td>\n",
       "      <td>-0.30</td>\n",
       "      <td>0.012</td>\n",
       "    </tr>\n",
       "    <tr>\n",
       "      <th>4</th>\n",
       "      <td>1963-07-08</td>\n",
       "      <td>-0.63</td>\n",
       "      <td>0.07</td>\n",
       "      <td>-0.20</td>\n",
       "      <td>-0.27</td>\n",
       "      <td>0.06</td>\n",
       "      <td>0.012</td>\n",
       "    </tr>\n",
       "  </tbody>\n",
       "</table>\n",
       "</div>"
      ],
      "text/plain": [
       "        Date  Mkt-RF   SMB   HML   RMW   CMA     RF\n",
       "0 1963-07-01   -0.67  0.02 -0.35  0.03  0.13  0.012\n",
       "1 1963-07-02    0.79 -0.28  0.28 -0.08 -0.21  0.012\n",
       "2 1963-07-03    0.63 -0.18 -0.10  0.13 -0.25  0.012\n",
       "3 1963-07-05    0.40  0.09 -0.28  0.07 -0.30  0.012\n",
       "4 1963-07-08   -0.63  0.07 -0.20 -0.27  0.06  0.012"
      ]
     },
     "execution_count": 7,
     "metadata": {},
     "output_type": "execute_result"
    }
   ],
   "source": [
    "# Fama-French 5 factors returns\n",
    "F_F_5_Factors = pd.read_csv(\"F_F_Research_Data_5_Factors_daily.csv\", skiprows = 3)\n",
    "F_F_5_Factors.columns = ['Date', 'Mkt-RF', 'SMB', 'HML', 'RMW', 'CMA', 'RF']\n",
    "F_F_5_Factors['Date'] = pd.to_datetime(F_F_5_Factors['Date'], format='%Y%m%d')\n",
    "F_F_5_Factors.head()"
   ]
  },
  {
   "cell_type": "code",
   "execution_count": 11,
   "id": "8fc1762c",
   "metadata": {},
   "outputs": [
    {
     "name": "stdout",
     "output_type": "stream",
     "text": [
      "1963-07-01 00:00:00 2023-04-28 00:00:00\n"
     ]
    }
   ],
   "source": [
    "print(min(F_F_5_Factors['Date']), max(F_F_5_Factors['Date']))"
   ]
  },
  {
   "cell_type": "markdown",
   "id": "46ac395f",
   "metadata": {},
   "source": [
    "### Universe\n",
    "\n",
    "* S&P 500 stocks that are updated recently\n",
    "* At least 5 years of price data exist (2018)\n",
    "* IPO after 2018 are excluded because...\n",
    "* Have at least 100 trading days before 2018 for rolling window Fama-French exposure calculation \n",
    "* Fama French data is only available up until 04/28/2023 so we restrict to data before it"
   ]
  },
  {
   "cell_type": "code",
   "execution_count": 12,
   "id": "31997f78",
   "metadata": {},
   "outputs": [
    {
     "data": {
      "text/html": [
       "<div>\n",
       "<style scoped>\n",
       "    .dataframe tbody tr th:only-of-type {\n",
       "        vertical-align: middle;\n",
       "    }\n",
       "\n",
       "    .dataframe tbody tr th {\n",
       "        vertical-align: top;\n",
       "    }\n",
       "\n",
       "    .dataframe thead th {\n",
       "        text-align: right;\n",
       "    }\n",
       "</style>\n",
       "<table border=\"1\" class=\"dataframe\">\n",
       "  <thead>\n",
       "    <tr style=\"text-align: right;\">\n",
       "      <th></th>\n",
       "      <th>ticker</th>\n",
       "      <th>date</th>\n",
       "      <th>open</th>\n",
       "      <th>high</th>\n",
       "      <th>low</th>\n",
       "      <th>close</th>\n",
       "      <th>volume</th>\n",
       "      <th>dividend</th>\n",
       "      <th>split</th>\n",
       "      <th>adj_open</th>\n",
       "      <th>adj_high</th>\n",
       "      <th>adj_low</th>\n",
       "      <th>adj_close</th>\n",
       "      <th>adj_volume</th>\n",
       "    </tr>\n",
       "  </thead>\n",
       "  <tbody>\n",
       "    <tr>\n",
       "      <th>26669661</th>\n",
       "      <td>A</td>\n",
       "      <td>1999-11-18</td>\n",
       "      <td>45.50</td>\n",
       "      <td>50.00</td>\n",
       "      <td>40.00</td>\n",
       "      <td>44.00</td>\n",
       "      <td>44739900.0</td>\n",
       "      <td>0.0</td>\n",
       "      <td>1.0</td>\n",
       "      <td>29.783619</td>\n",
       "      <td>32.729252</td>\n",
       "      <td>26.183402</td>\n",
       "      <td>28.801742</td>\n",
       "      <td>44739900.0</td>\n",
       "    </tr>\n",
       "    <tr>\n",
       "      <th>698465</th>\n",
       "      <td>A</td>\n",
       "      <td>1999-11-19</td>\n",
       "      <td>42.94</td>\n",
       "      <td>43.00</td>\n",
       "      <td>39.81</td>\n",
       "      <td>40.38</td>\n",
       "      <td>10897100.0</td>\n",
       "      <td>0.0</td>\n",
       "      <td>1.0</td>\n",
       "      <td>28.107882</td>\n",
       "      <td>28.147157</td>\n",
       "      <td>26.059030</td>\n",
       "      <td>26.432144</td>\n",
       "      <td>10897100.0</td>\n",
       "    </tr>\n",
       "    <tr>\n",
       "      <th>698464</th>\n",
       "      <td>A</td>\n",
       "      <td>1999-11-22</td>\n",
       "      <td>41.31</td>\n",
       "      <td>44.00</td>\n",
       "      <td>40.06</td>\n",
       "      <td>44.00</td>\n",
       "      <td>4705200.0</td>\n",
       "      <td>0.0</td>\n",
       "      <td>1.0</td>\n",
       "      <td>27.040908</td>\n",
       "      <td>28.801742</td>\n",
       "      <td>26.222677</td>\n",
       "      <td>28.801742</td>\n",
       "      <td>4705200.0</td>\n",
       "    </tr>\n",
       "    <tr>\n",
       "      <th>698463</th>\n",
       "      <td>A</td>\n",
       "      <td>1999-11-23</td>\n",
       "      <td>42.50</td>\n",
       "      <td>43.63</td>\n",
       "      <td>40.25</td>\n",
       "      <td>40.25</td>\n",
       "      <td>4274400.0</td>\n",
       "      <td>0.0</td>\n",
       "      <td>1.0</td>\n",
       "      <td>27.819864</td>\n",
       "      <td>28.559545</td>\n",
       "      <td>26.347048</td>\n",
       "      <td>26.347048</td>\n",
       "      <td>4274400.0</td>\n",
       "    </tr>\n",
       "    <tr>\n",
       "      <th>698462</th>\n",
       "      <td>A</td>\n",
       "      <td>1999-11-24</td>\n",
       "      <td>40.13</td>\n",
       "      <td>41.94</td>\n",
       "      <td>40.00</td>\n",
       "      <td>41.06</td>\n",
       "      <td>3464400.0</td>\n",
       "      <td>0.0</td>\n",
       "      <td>1.0</td>\n",
       "      <td>26.268498</td>\n",
       "      <td>27.453297</td>\n",
       "      <td>26.183402</td>\n",
       "      <td>26.877262</td>\n",
       "      <td>3464400.0</td>\n",
       "    </tr>\n",
       "  </tbody>\n",
       "</table>\n",
       "</div>"
      ],
      "text/plain": [
       "         ticker       date   open   high    low  close      volume  dividend  \\\n",
       "26669661      A 1999-11-18  45.50  50.00  40.00  44.00  44739900.0       0.0   \n",
       "698465        A 1999-11-19  42.94  43.00  39.81  40.38  10897100.0       0.0   \n",
       "698464        A 1999-11-22  41.31  44.00  40.06  44.00   4705200.0       0.0   \n",
       "698463        A 1999-11-23  42.50  43.63  40.25  40.25   4274400.0       0.0   \n",
       "698462        A 1999-11-24  40.13  41.94  40.00  41.06   3464400.0       0.0   \n",
       "\n",
       "          split   adj_open   adj_high    adj_low  adj_close  adj_volume  \n",
       "26669661    1.0  29.783619  32.729252  26.183402  28.801742  44739900.0  \n",
       "698465      1.0  28.107882  28.147157  26.059030  26.432144  10897100.0  \n",
       "698464      1.0  27.040908  28.801742  26.222677  28.801742   4705200.0  \n",
       "698463      1.0  27.819864  28.559545  26.347048  26.347048   4274400.0  \n",
       "698462      1.0  26.268498  27.453297  26.183402  26.877262   3464400.0  "
      ]
     },
     "execution_count": 12,
     "metadata": {},
     "output_type": "execute_result"
    }
   ],
   "source": [
    "universe = full_price[full_price['ticker'].isin(SP500['Symbol'])].copy().sort_values(by = ['ticker', 'date'])\n",
    "universe['date'] = pd.to_datetime(universe['date'])\n",
    "universe.head()"
   ]
  },
  {
   "cell_type": "code",
   "execution_count": 25,
   "id": "96c38130",
   "metadata": {},
   "outputs": [
    {
     "data": {
      "text/plain": [
       "datetime.datetime(2017, 9, 23, 0, 0)"
      ]
     },
     "execution_count": 25,
     "metadata": {},
     "output_type": "execute_result"
    }
   ],
   "source": [
    "# Check the date of 100 trading days prior to 2018-01-01\n",
    "dt.datetime(2018, 1, 1) - pd.to_timedelta(100, unit = 'd')"
   ]
  },
  {
   "cell_type": "code",
   "execution_count": 90,
   "id": "ca7f5408",
   "metadata": {},
   "outputs": [
    {
     "data": {
      "text/plain": [
       "ticker\n",
       "A      1999-11-18\n",
       "AAL    2005-09-27\n",
       "AAP    2001-11-29\n",
       "AAPL   1980-12-12\n",
       "ABBV   2013-01-02\n",
       "Name: date, dtype: datetime64[ns]"
      ]
     },
     "execution_count": 90,
     "metadata": {},
     "output_type": "execute_result"
    }
   ],
   "source": [
    "SP500_start = universe.groupby('ticker').date.min()\n",
    "SP500_start.head()"
   ]
  },
  {
   "cell_type": "code",
   "execution_count": 91,
   "id": "b8fef508",
   "metadata": {},
   "outputs": [],
   "source": [
    "SP500_tooyoung = SP500_start[SP500_start > dt.datetime(2017, 9, 23)]\n",
    "SP500_tooyoung = SP500_tooyoung.reset_index().rename(columns = {'date': 'start_date'})"
   ]
  },
  {
   "cell_type": "code",
   "execution_count": 92,
   "id": "e76fb7dc",
   "metadata": {},
   "outputs": [
    {
     "data": {
      "text/plain": [
       "(3809674, 14)"
      ]
     },
     "execution_count": 92,
     "metadata": {},
     "output_type": "execute_result"
    }
   ],
   "source": [
    "universe.shape"
   ]
  },
  {
   "cell_type": "code",
   "execution_count": 93,
   "id": "83abb1d8",
   "metadata": {},
   "outputs": [],
   "source": [
    "universe.drop(universe[universe.ticker.isin(SP500_tooyoung.ticker)].index,\n",
    "              inplace = True)"
   ]
  },
  {
   "cell_type": "code",
   "execution_count": 94,
   "id": "f66b10e3",
   "metadata": {},
   "outputs": [
    {
     "data": {
      "text/plain": [
       "(3797474, 14)"
      ]
     },
     "execution_count": 94,
     "metadata": {},
     "output_type": "execute_result"
    }
   ],
   "source": [
    "universe.shape"
   ]
  },
  {
   "cell_type": "code",
   "execution_count": 95,
   "id": "b2709424",
   "metadata": {},
   "outputs": [
    {
     "data": {
      "text/html": [
       "<div>\n",
       "<style scoped>\n",
       "    .dataframe tbody tr th:only-of-type {\n",
       "        vertical-align: middle;\n",
       "    }\n",
       "\n",
       "    .dataframe tbody tr th {\n",
       "        vertical-align: top;\n",
       "    }\n",
       "\n",
       "    .dataframe thead th {\n",
       "        text-align: right;\n",
       "    }\n",
       "</style>\n",
       "<table border=\"1\" class=\"dataframe\">\n",
       "  <thead>\n",
       "    <tr style=\"text-align: right;\">\n",
       "      <th></th>\n",
       "      <th>ticker</th>\n",
       "      <th>start_date</th>\n",
       "    </tr>\n",
       "  </thead>\n",
       "  <tbody>\n",
       "    <tr>\n",
       "      <th>0</th>\n",
       "      <td>AMCR</td>\n",
       "      <td>2019-06-11</td>\n",
       "    </tr>\n",
       "    <tr>\n",
       "      <th>1</th>\n",
       "      <td>CARR</td>\n",
       "      <td>2020-04-03</td>\n",
       "    </tr>\n",
       "    <tr>\n",
       "      <th>2</th>\n",
       "      <td>CDAY</td>\n",
       "      <td>2018-04-26</td>\n",
       "    </tr>\n",
       "    <tr>\n",
       "      <th>3</th>\n",
       "      <td>CEG</td>\n",
       "      <td>2022-02-02</td>\n",
       "    </tr>\n",
       "    <tr>\n",
       "      <th>4</th>\n",
       "      <td>CTVA</td>\n",
       "      <td>2019-06-03</td>\n",
       "    </tr>\n",
       "    <tr>\n",
       "      <th>5</th>\n",
       "      <td>DOW</td>\n",
       "      <td>2019-03-20</td>\n",
       "    </tr>\n",
       "    <tr>\n",
       "      <th>6</th>\n",
       "      <td>GEHC</td>\n",
       "      <td>2023-01-04</td>\n",
       "    </tr>\n",
       "    <tr>\n",
       "      <th>7</th>\n",
       "      <td>HWM</td>\n",
       "      <td>2020-02-24</td>\n",
       "    </tr>\n",
       "    <tr>\n",
       "      <th>8</th>\n",
       "      <td>LHX</td>\n",
       "      <td>2019-07-01</td>\n",
       "    </tr>\n",
       "    <tr>\n",
       "      <th>9</th>\n",
       "      <td>MRNA</td>\n",
       "      <td>2018-12-07</td>\n",
       "    </tr>\n",
       "    <tr>\n",
       "      <th>10</th>\n",
       "      <td>OGN</td>\n",
       "      <td>2021-06-03</td>\n",
       "    </tr>\n",
       "    <tr>\n",
       "      <th>11</th>\n",
       "      <td>OTIS</td>\n",
       "      <td>2020-04-03</td>\n",
       "    </tr>\n",
       "    <tr>\n",
       "      <th>12</th>\n",
       "      <td>TT</td>\n",
       "      <td>2020-02-24</td>\n",
       "    </tr>\n",
       "    <tr>\n",
       "      <th>13</th>\n",
       "      <td>VICI</td>\n",
       "      <td>2018-02-02</td>\n",
       "    </tr>\n",
       "  </tbody>\n",
       "</table>\n",
       "</div>"
      ],
      "text/plain": [
       "   ticker start_date\n",
       "0    AMCR 2019-06-11\n",
       "1    CARR 2020-04-03\n",
       "2    CDAY 2018-04-26\n",
       "3     CEG 2022-02-02\n",
       "4    CTVA 2019-06-03\n",
       "5     DOW 2019-03-20\n",
       "6    GEHC 2023-01-04\n",
       "7     HWM 2020-02-24\n",
       "8     LHX 2019-07-01\n",
       "9    MRNA 2018-12-07\n",
       "10    OGN 2021-06-03\n",
       "11   OTIS 2020-04-03\n",
       "12     TT 2020-02-24\n",
       "13   VICI 2018-02-02"
      ]
     },
     "execution_count": 95,
     "metadata": {},
     "output_type": "execute_result"
    }
   ],
   "source": [
    "SP500_tooyoung"
   ]
  },
  {
   "cell_type": "code",
   "execution_count": 96,
   "id": "71eae853",
   "metadata": {},
   "outputs": [
    {
     "data": {
      "text/plain": [
       "487"
      ]
     },
     "execution_count": 96,
     "metadata": {},
     "output_type": "execute_result"
    }
   ],
   "source": [
    "len(universe['ticker'].unique())"
   ]
  },
  {
   "cell_type": "code",
   "execution_count": null,
   "id": "3c6259e4",
   "metadata": {},
   "outputs": [],
   "source": [
    "# final filtering\n",
    "\n",
    "# time frame is \n",
    "# universe = universe[(universe['date'] >= '2017-08-15') & \n",
    "#                     (universe['date'] < '2023-06-01')].sort_values(by = \n",
    "#                                                                    ['ticker', 'date'])[['ticker', 'date', 'adj_close', 'adj_volume']].reset_index(drop = True)\n"
   ]
  },
  {
   "cell_type": "markdown",
   "id": "d51f7f3c",
   "metadata": {},
   "source": [
    "# Exploration"
   ]
  },
  {
   "cell_type": "code",
   "execution_count": 12,
   "id": "b6214855",
   "metadata": {},
   "outputs": [],
   "source": [
    "tickers = ['AAPL', 'AMZN', 'GOOG'] # can change later\n",
    "price3 = full_price.loc[full_price['ticker'].isin(tickers)]"
   ]
  },
  {
   "cell_type": "code",
   "execution_count": 14,
   "id": "83f84cdf",
   "metadata": {},
   "outputs": [
    {
     "name": "stdout",
     "output_type": "stream",
     "text": [
      "(19620, 14)\n"
     ]
    },
    {
     "data": {
      "text/html": [
       "<div>\n",
       "<style scoped>\n",
       "    .dataframe tbody tr th:only-of-type {\n",
       "        vertical-align: middle;\n",
       "    }\n",
       "\n",
       "    .dataframe tbody tr th {\n",
       "        vertical-align: top;\n",
       "    }\n",
       "\n",
       "    .dataframe thead th {\n",
       "        text-align: right;\n",
       "    }\n",
       "</style>\n",
       "<table border=\"1\" class=\"dataframe\">\n",
       "  <thead>\n",
       "    <tr style=\"text-align: right;\">\n",
       "      <th></th>\n",
       "      <th>ticker</th>\n",
       "      <th>date</th>\n",
       "      <th>open</th>\n",
       "      <th>high</th>\n",
       "      <th>low</th>\n",
       "      <th>close</th>\n",
       "      <th>volume</th>\n",
       "      <th>dividend</th>\n",
       "      <th>split</th>\n",
       "      <th>adj_open</th>\n",
       "      <th>adj_high</th>\n",
       "      <th>adj_low</th>\n",
       "      <th>adj_close</th>\n",
       "      <th>adj_volume</th>\n",
       "    </tr>\n",
       "  </thead>\n",
       "  <tbody>\n",
       "    <tr>\n",
       "      <th>614</th>\n",
       "      <td>AAPL</td>\n",
       "      <td>2023-06-15</td>\n",
       "      <td>183.960</td>\n",
       "      <td>186.52</td>\n",
       "      <td>183.78</td>\n",
       "      <td>186.01</td>\n",
       "      <td>65278114.0</td>\n",
       "      <td>0.0</td>\n",
       "      <td>1.0</td>\n",
       "      <td>183.960000</td>\n",
       "      <td>186.520000</td>\n",
       "      <td>183.780000</td>\n",
       "      <td>186.010000</td>\n",
       "      <td>65278114.0</td>\n",
       "    </tr>\n",
       "    <tr>\n",
       "      <th>3395</th>\n",
       "      <td>AMZN</td>\n",
       "      <td>2022-08-16</td>\n",
       "      <td>143.905</td>\n",
       "      <td>146.57</td>\n",
       "      <td>142.00</td>\n",
       "      <td>144.78</td>\n",
       "      <td>58662110.0</td>\n",
       "      <td>0.0</td>\n",
       "      <td>1.0</td>\n",
       "      <td>143.559241</td>\n",
       "      <td>146.217838</td>\n",
       "      <td>141.658818</td>\n",
       "      <td>144.432138</td>\n",
       "      <td>58662110.0</td>\n",
       "    </tr>\n",
       "    <tr>\n",
       "      <th>6460</th>\n",
       "      <td>AMZN</td>\n",
       "      <td>2021-09-24</td>\n",
       "      <td>3402.010</td>\n",
       "      <td>3429.26</td>\n",
       "      <td>3393.40</td>\n",
       "      <td>3425.52</td>\n",
       "      <td>2077560.0</td>\n",
       "      <td>0.0</td>\n",
       "      <td>1.0</td>\n",
       "      <td>169.691801</td>\n",
       "      <td>171.051027</td>\n",
       "      <td>169.262335</td>\n",
       "      <td>170.864477</td>\n",
       "      <td>41551200.0</td>\n",
       "    </tr>\n",
       "    <tr>\n",
       "      <th>6515</th>\n",
       "      <td>AMZN</td>\n",
       "      <td>2021-09-01</td>\n",
       "      <td>3496.400</td>\n",
       "      <td>3527.00</td>\n",
       "      <td>3475.24</td>\n",
       "      <td>3479.00</td>\n",
       "      <td>3587227.0</td>\n",
       "      <td>0.0</td>\n",
       "      <td>1.0</td>\n",
       "      <td>174.399962</td>\n",
       "      <td>175.926285</td>\n",
       "      <td>173.344504</td>\n",
       "      <td>173.532052</td>\n",
       "      <td>71744540.0</td>\n",
       "    </tr>\n",
       "    <tr>\n",
       "      <th>39861</th>\n",
       "      <td>AAPL</td>\n",
       "      <td>2022-12-06</td>\n",
       "      <td>147.075</td>\n",
       "      <td>147.30</td>\n",
       "      <td>141.92</td>\n",
       "      <td>142.91</td>\n",
       "      <td>64584423.0</td>\n",
       "      <td>0.0</td>\n",
       "      <td>1.0</td>\n",
       "      <td>146.647386</td>\n",
       "      <td>146.871731</td>\n",
       "      <td>141.507374</td>\n",
       "      <td>142.494495</td>\n",
       "      <td>64584423.0</td>\n",
       "    </tr>\n",
       "  </tbody>\n",
       "</table>\n",
       "</div>"
      ],
      "text/plain": [
       "      ticker        date      open     high      low    close      volume  \\\n",
       "614     AAPL  2023-06-15   183.960   186.52   183.78   186.01  65278114.0   \n",
       "3395    AMZN  2022-08-16   143.905   146.57   142.00   144.78  58662110.0   \n",
       "6460    AMZN  2021-09-24  3402.010  3429.26  3393.40  3425.52   2077560.0   \n",
       "6515    AMZN  2021-09-01  3496.400  3527.00  3475.24  3479.00   3587227.0   \n",
       "39861   AAPL  2022-12-06   147.075   147.30   141.92   142.91  64584423.0   \n",
       "\n",
       "       dividend  split    adj_open    adj_high     adj_low   adj_close  \\\n",
       "614         0.0    1.0  183.960000  186.520000  183.780000  186.010000   \n",
       "3395        0.0    1.0  143.559241  146.217838  141.658818  144.432138   \n",
       "6460        0.0    1.0  169.691801  171.051027  169.262335  170.864477   \n",
       "6515        0.0    1.0  174.399962  175.926285  173.344504  173.532052   \n",
       "39861       0.0    1.0  146.647386  146.871731  141.507374  142.494495   \n",
       "\n",
       "       adj_volume  \n",
       "614    65278114.0  \n",
       "3395   58662110.0  \n",
       "6460   41551200.0  \n",
       "6515   71744540.0  \n",
       "39861  64584423.0  "
      ]
     },
     "execution_count": 14,
     "metadata": {},
     "output_type": "execute_result"
    }
   ],
   "source": [
    "print(price3.shape)\n",
    "price3.head()"
   ]
  },
  {
   "cell_type": "code",
   "execution_count": 15,
   "id": "dfa37ddf",
   "metadata": {},
   "outputs": [],
   "source": [
    "from statsmodels.graphics.tsaplots import plot_pacf\n",
    "from statsmodels.graphics.tsaplots import plot_acf"
   ]
  },
  {
   "cell_type": "markdown",
   "id": "9bf0e4ea",
   "metadata": {},
   "source": [
    "Autocorrelation and partial autocorrelation of stock prices"
   ]
  },
  {
   "cell_type": "code",
   "execution_count": 23,
   "id": "7bc17812",
   "metadata": {},
   "outputs": [
    {
     "name": "stdout",
     "output_type": "stream",
     "text": [
      "AMZN\n",
      "AAPL\n",
      "GOOG\n"
     ]
    },
    {
     "data": {
      "image/png": "[encoded data removed]",
      "text/plain": [
       "<Figure size 640x480 with 1 Axes>"
      ]
     },
     "metadata": {},
     "output_type": "display_data"
    },
    {
     "data": {
      "image/png": "[encoded data removed]",
      "text/plain": [
       "<Figure size 640x480 with 1 Axes>"
      ]
     },
     "metadata": {},
     "output_type": "display_data"
    },
    {
     "data": {
      "image/png": "[encoded data removed]",
      "text/plain": [
       "<Figure size 640x480 with 1 Axes>"
      ]
     },
     "metadata": {},
     "output_type": "display_data"
    },
    {
     "data": {
      "image/png": "[encoded data removed]",
      "text/plain": [
       "<Figure size 640x480 with 1 Axes>"
      ]
     },
     "metadata": {},
     "output_type": "display_data"
    },
    {
     "data": {
      "image/png": "[encoded data removed]",
      "text/plain": [
       "<Figure size 640x480 with 1 Axes>"
      ]
     },
     "metadata": {},
     "output_type": "display_data"
    },
    {
     "data": {
      "image/png": "[encoded data removed]",
      "text/plain": [
       "<Figure size 640x480 with 1 Axes>"
      ]
     },
     "metadata": {},
     "output_type": "display_data"
    }
   ],
   "source": [
    "for company_ticker in tickers:\n",
    "    price = price3.loc[price3['ticker'] == company_ticker]\n",
    "    price = price['adj_close']\n",
    "    \n",
    "    print(company_ticker)\n",
    "    plot_acf(price)\n",
    "    plot_pacf(price)"
   ]
  },
  {
   "cell_type": "markdown",
   "id": "7f913bd8",
   "metadata": {},
   "source": [
    "Time series of stock prices from [this tutorial](https://goodboychan.github.io/python/datacamp/time_series_analysis/visualization/2020/06/13/02-Work-with-Multiple-Time-Series.html)"
   ]
  },
  {
   "cell_type": "code",
   "execution_count": null,
   "id": "31ed197d",
   "metadata": {},
   "outputs": [],
   "source": [
    "from datetime import datetime\n",
    "import seaborn as sns\n",
    "\n",
    "plt.rcParams['figure.figsize'] = (10, 5)\n",
    "plt.style.use('fivethirtyeight')"
   ]
  },
  {
   "cell_type": "code",
   "execution_count": 31,
   "id": "44178c42",
   "metadata": {
    "scrolled": true
   },
   "outputs": [
    {
     "name": "stderr",
     "output_type": "stream",
     "text": [
      "/var/folders/36/0q68lh2x6rs8rcn9slq7pd9m0000gn/T/ipykernel_47009/2922721522.py:2: SettingWithCopyWarning: \n",
      "A value is trying to be set on a copy of a slice from a DataFrame.\n",
      "Try using .loc[row_indexer,col_indexer] = value instead\n",
      "\n",
      "See the caveats in the documentation: https://pandas.pydata.org/pandas-docs/stable/user_guide/indexing.html#returning-a-view-versus-a-copy\n",
      "  price3.loc[:, 'date'] = date\n",
      "/var/folders/36/0q68lh2x6rs8rcn9slq7pd9m0000gn/T/ipykernel_47009/2922721522.py:2: DeprecationWarning: In a future version, `df.iloc[:, i] = newvals` will attempt to set the values inplace instead of always setting a new array. To retain the old behavior, use either `df[df.columns[i]] = newvals` or, if columns are non-unique, `df.isetitem(i, newvals)`\n",
      "  price3.loc[:, 'date'] = date\n"
     ]
    }
   ],
   "source": [
    "date = pd.to_datetime(price3['date'])\n",
    "price3.loc[:, 'date'] = date\n",
    "\n",
    "price3 = price3.set_index('date')"
   ]
  },
  {
   "cell_type": "code",
   "execution_count": 38,
   "id": "ba46987e",
   "metadata": {},
   "outputs": [],
   "source": [
    "price3 = price3.loc[:, ['ticker', 'adj_close']]"
   ]
  },
  {
   "cell_type": "code",
   "execution_count": 39,
   "id": "8f1be446",
   "metadata": {},
   "outputs": [
    {
     "name": "stdout",
     "output_type": "stream",
     "text": [
      "AMZN\n",
      "         adj_close\n",
      "count  6570.000000\n",
      "mean     32.219393\n",
      "std      48.341280\n",
      "min       0.069624\n",
      "25%       2.006293\n",
      "50%       6.555461\n",
      "75%      40.345953\n",
      "max     186.122229\n",
      "AAPL\n",
      "          adj_close\n",
      "count  10722.000000\n",
      "mean      17.372096\n",
      "std       37.739447\n",
      "min        0.038196\n",
      "25%        0.239604\n",
      "50%        0.411336\n",
      "75%       15.461807\n",
      "max      187.000000\n",
      "GOOG\n",
      "         adj_close\n",
      "count  2328.000000\n",
      "mean     66.502149\n",
      "std      35.069254\n",
      "min      24.627500\n",
      "25%      37.919500\n",
      "50%      56.032000\n",
      "75%      91.434500\n",
      "max     150.709000\n"
     ]
    }
   ],
   "source": [
    "# summary statistics\n",
    "\n",
    "for company_ticker in tickers:\n",
    "    print(company_ticker)\n",
    "    print(price3.loc[price3['ticker'] == company_ticker].describe())"
   ]
  },
  {
   "cell_type": "code",
   "execution_count": 53,
   "id": "302d8951",
   "metadata": {},
   "outputs": [
    {
     "data": {
      "text/html": [
       "<div>\n",
       "<style scoped>\n",
       "    .dataframe tbody tr th:only-of-type {\n",
       "        vertical-align: middle;\n",
       "    }\n",
       "\n",
       "    .dataframe tbody tr th {\n",
       "        vertical-align: top;\n",
       "    }\n",
       "\n",
       "    .dataframe thead th {\n",
       "        text-align: right;\n",
       "    }\n",
       "</style>\n",
       "<table border=\"1\" class=\"dataframe\">\n",
       "  <thead>\n",
       "    <tr style=\"text-align: right;\">\n",
       "      <th>ticker</th>\n",
       "      <th>AAPL</th>\n",
       "      <th>AMZN</th>\n",
       "      <th>GOOG</th>\n",
       "    </tr>\n",
       "  </thead>\n",
       "  <tbody>\n",
       "    <tr>\n",
       "      <th>1980-12-12</th>\n",
       "      <td>0.099831</td>\n",
       "      <td>0.00</td>\n",
       "      <td>0.00</td>\n",
       "    </tr>\n",
       "    <tr>\n",
       "      <th>1980-12-15</th>\n",
       "      <td>0.094622</td>\n",
       "      <td>0.00</td>\n",
       "      <td>0.00</td>\n",
       "    </tr>\n",
       "    <tr>\n",
       "      <th>1980-12-16</th>\n",
       "      <td>0.087678</td>\n",
       "      <td>0.00</td>\n",
       "      <td>0.00</td>\n",
       "    </tr>\n",
       "    <tr>\n",
       "      <th>1980-12-17</th>\n",
       "      <td>0.089831</td>\n",
       "      <td>0.00</td>\n",
       "      <td>0.00</td>\n",
       "    </tr>\n",
       "    <tr>\n",
       "      <th>1980-12-18</th>\n",
       "      <td>0.092470</td>\n",
       "      <td>0.00</td>\n",
       "      <td>0.00</td>\n",
       "    </tr>\n",
       "    <tr>\n",
       "      <th>...</th>\n",
       "      <td>...</td>\n",
       "      <td>...</td>\n",
       "      <td>...</td>\n",
       "    </tr>\n",
       "    <tr>\n",
       "      <th>2023-06-20</th>\n",
       "      <td>185.010000</td>\n",
       "      <td>125.78</td>\n",
       "      <td>123.85</td>\n",
       "    </tr>\n",
       "    <tr>\n",
       "      <th>2023-06-21</th>\n",
       "      <td>183.960000</td>\n",
       "      <td>124.83</td>\n",
       "      <td>121.26</td>\n",
       "    </tr>\n",
       "    <tr>\n",
       "      <th>2023-06-22</th>\n",
       "      <td>187.000000</td>\n",
       "      <td>130.15</td>\n",
       "      <td>123.87</td>\n",
       "    </tr>\n",
       "    <tr>\n",
       "      <th>2023-06-23</th>\n",
       "      <td>186.680000</td>\n",
       "      <td>129.33</td>\n",
       "      <td>123.02</td>\n",
       "    </tr>\n",
       "    <tr>\n",
       "      <th>2023-06-26</th>\n",
       "      <td>185.270000</td>\n",
       "      <td>127.33</td>\n",
       "      <td>119.09</td>\n",
       "    </tr>\n",
       "  </tbody>\n",
       "</table>\n",
       "<p>10722 rows × 3 columns</p>\n",
       "</div>"
      ],
      "text/plain": [
       "ticker            AAPL    AMZN    GOOG\n",
       "1980-12-12    0.099831    0.00    0.00\n",
       "1980-12-15    0.094622    0.00    0.00\n",
       "1980-12-16    0.087678    0.00    0.00\n",
       "1980-12-17    0.089831    0.00    0.00\n",
       "1980-12-18    0.092470    0.00    0.00\n",
       "...                ...     ...     ...\n",
       "2023-06-20  185.010000  125.78  123.85\n",
       "2023-06-21  183.960000  124.83  121.26\n",
       "2023-06-22  187.000000  130.15  123.87\n",
       "2023-06-23  186.680000  129.33  123.02\n",
       "2023-06-26  185.270000  127.33  119.09\n",
       "\n",
       "[10722 rows x 3 columns]"
      ]
     },
     "execution_count": 53,
     "metadata": {},
     "output_type": "execute_result"
    }
   ],
   "source": [
    "price3_pivoted = pd.pivot_table(price3, \n",
    "                                index = price3.index.date, \n",
    "                                columns = \"ticker\", \n",
    "                                values = \"adj_close\")\n",
    "\n",
    "price3_pivoted.fillna(0)"
   ]
  },
  {
   "cell_type": "code",
   "execution_count": 71,
   "id": "9523d02c",
   "metadata": {},
   "outputs": [],
   "source": [
    "price3_pivoted = price3_pivoted.reset_index()"
   ]
  },
  {
   "cell_type": "code",
   "execution_count": 83,
   "id": "81e837bb",
   "metadata": {},
   "outputs": [],
   "source": [
    "price3_pivoted = price3_pivoted.rename(columns = {\"index\": 'date'})"
   ]
  },
  {
   "cell_type": "code",
   "execution_count": 85,
   "id": "828cc6f5",
   "metadata": {
    "scrolled": true
   },
   "outputs": [
    {
     "name": "stderr",
     "output_type": "stream",
     "text": [
      "/var/folders/36/0q68lh2x6rs8rcn9slq7pd9m0000gn/T/ipykernel_47009/2264928814.py:1: FutureWarning: Comparison of Timestamp with datetime.date is deprecated in order to match the standard library behavior. In a future version these will be considered non-comparable. Use 'ts == pd.Timestamp(date)' or 'ts.date() == date' instead.\n",
      "  recent = price3_pivoted.loc[price3_pivoted['date']>pd.to_datetime('2010-01-01')]\n"
     ]
    }
   ],
   "source": [
    "recent = price3_pivoted.loc[price3_pivoted['date']>pd.to_datetime('2010-01-01')]"
   ]
  },
  {
   "cell_type": "code",
   "execution_count": 87,
   "id": "fbf33456",
   "metadata": {},
   "outputs": [],
   "source": [
    "recent = recent.set_index('date')"
   ]
  },
  {
   "cell_type": "code",
   "execution_count": 88,
   "id": "513fc479",
   "metadata": {},
   "outputs": [
    {
     "data": {
      "text/plain": [
       "<matplotlib.legend.Legend at 0x7fa68fc039d0>"
      ]
     },
     "execution_count": 88,
     "metadata": {},
     "output_type": "execute_result"
    },
    {
     "data": {
      "image/png": "[encoded data removed]",
      "text/plain": [
       "<Figure size 640x480 with 1 Axes>"
      ]
     },
     "metadata": {},
     "output_type": "display_data"
    }
   ],
   "source": [
    "ax = recent.plot(linewidth = 2, fontsize = 12)\n",
    "ax.set_xlabel('Date')\n",
    "ax.legend(fontsize = 12)\n"
   ]
  },
  {
   "cell_type": "code",
   "execution_count": null,
   "id": "2686e6cb",
   "metadata": {},
   "outputs": [],
   "source": []
  },
  {
   "cell_type": "markdown",
   "id": "856a8eda",
   "metadata": {},
   "source": [
    "## Old -- news scraping"
   ]
  },
  {
   "cell_type": "code",
   "execution_count": 4,
   "id": "45138f92",
   "metadata": {},
   "outputs": [],
   "source": [
    "def Get_News(tickers):\n",
    "    \"\"\"\n",
    "    Retrives news headline of what time frame?\n",
    "    \"\"\"\n",
    "    news_tables = {}\n",
    "    parsed_news = []\n",
    "\n",
    "    for ticker in tickers:\n",
    "        url = finwiz_url + ticker\n",
    "        req = Request(url=url,\n",
    "                      headers={'User-Agent': 'Mozilla/5.0 (Windows NT 6.1; WOW64; rv:20.0) Gecko/20100101 Firefox/20.0'}) \n",
    "        response = urlopen(req)    \n",
    "        # Read the contents of the file into 'html'\n",
    "        html = BeautifulSoup(response)\n",
    "        # Find 'news-table' in the Soup and load it into 'news_table'\n",
    "        news_table = html.find(id='news-table')\n",
    "        # Add the table to our dictionary\n",
    "        news_tables[ticker] = news_table\n",
    "\n",
    "    # Iterate through the news to split the data\n",
    "    for file_name, news_table in news_tables.items():\n",
    "        # Iterate through all tr tags in 'news_table'\n",
    "        for x in news_table.findAll('tr'):\n",
    "            # read the text from each tr tag into text\n",
    "            # get text from a only\n",
    "            try:\n",
    "                text = x.a.get_text() \n",
    "                # splite text in the td tag into a list \n",
    "                date_scrape = x.td.text.split()\n",
    "                # if the length of 'date_scrape' is 1, load 'time' as the only element\n",
    "            except:\n",
    "                continue\n",
    "\n",
    "            if len(date_scrape) == 1:\n",
    "                time = date_scrape[0]\n",
    "\n",
    "            # else load 'date' as the 1st element and 'time' as the second    \n",
    "            else:\n",
    "                date = date_scrape[0]\n",
    "                time = date_scrape[1]\n",
    "            # Extract the ticker from the file name, get the string up to the 1st '_'  \n",
    "            ticker = file_name.split('_')[0]\n",
    "\n",
    "            # Append ticker, date, time and headline as a list to the 'parsed_news' list\n",
    "            parsed_news.append([ticker, date, time, text])\n",
    "\n",
    "    return pd.DataFrame(parsed_news, columns = ['ticker','date','time','headline'])"
   ]
  },
  {
   "cell_type": "markdown",
   "id": "cb134307",
   "metadata": {},
   "source": [
    "### News\n",
    "\n",
    "- Get_News function with specified tickers name list as input will return a dataframe with 4 columns: 'ticker','date','time','headline';\n",
    "\n",
    "- BeautifulSoup package will only gather 100 news for each ticker specified;\n",
    "\n",
    "Let's only use two tickers, 'AMZN' and 'AAPL'."
   ]
  },
  {
   "cell_type": "code",
   "execution_count": 5,
   "id": "5e1c7370",
   "metadata": {},
   "outputs": [
    {
     "data": {
      "text/html": [
       "<div>\n",
       "<style scoped>\n",
       "    .dataframe tbody tr th:only-of-type {\n",
       "        vertical-align: middle;\n",
       "    }\n",
       "\n",
       "    .dataframe tbody tr th {\n",
       "        vertical-align: top;\n",
       "    }\n",
       "\n",
       "    .dataframe thead th {\n",
       "        text-align: right;\n",
       "    }\n",
       "</style>\n",
       "<table border=\"1\" class=\"dataframe\">\n",
       "  <thead>\n",
       "    <tr style=\"text-align: right;\">\n",
       "      <th></th>\n",
       "      <th>ticker</th>\n",
       "      <th>date</th>\n",
       "      <th>time</th>\n",
       "      <th>headline</th>\n",
       "    </tr>\n",
       "  </thead>\n",
       "  <tbody>\n",
       "    <tr>\n",
       "      <th>0</th>\n",
       "      <td>AMZN</td>\n",
       "      <td>2023-06-27</td>\n",
       "      <td>03:20PM</td>\n",
       "      <td>Google parent Alphabets stock hit with two dow...</td>\n",
       "    </tr>\n",
       "    <tr>\n",
       "      <th>1</th>\n",
       "      <td>AMZN</td>\n",
       "      <td>2023-06-27</td>\n",
       "      <td>02:46PM</td>\n",
       "      <td>Walgreens Bites The Covid Dust</td>\n",
       "    </tr>\n",
       "    <tr>\n",
       "      <th>2</th>\n",
       "      <td>AMZN</td>\n",
       "      <td>2023-06-27</td>\n",
       "      <td>02:31PM</td>\n",
       "      <td>Amazons Vancouver Office Building Put Up For S...</td>\n",
       "    </tr>\n",
       "    <tr>\n",
       "      <th>3</th>\n",
       "      <td>AMZN</td>\n",
       "      <td>2023-06-27</td>\n",
       "      <td>01:33PM</td>\n",
       "      <td>ShipBob Taps Former Amazon Exec, Takes E-Comme...</td>\n",
       "    </tr>\n",
       "    <tr>\n",
       "      <th>4</th>\n",
       "      <td>AMZN</td>\n",
       "      <td>2023-06-27</td>\n",
       "      <td>01:30PM</td>\n",
       "      <td>7 Items That Are Always Cheaper on Amazon</td>\n",
       "    </tr>\n",
       "    <tr>\n",
       "      <th>...</th>\n",
       "      <td>...</td>\n",
       "      <td>...</td>\n",
       "      <td>...</td>\n",
       "      <td>...</td>\n",
       "    </tr>\n",
       "    <tr>\n",
       "      <th>295</th>\n",
       "      <td>GOOG</td>\n",
       "      <td>2023-05-21</td>\n",
       "      <td>01:32PM</td>\n",
       "      <td>WSJ Opinion: Hits and Misses of the Week</td>\n",
       "    </tr>\n",
       "    <tr>\n",
       "      <th>296</th>\n",
       "      <td>GOOG</td>\n",
       "      <td>2023-05-19</td>\n",
       "      <td>02:28PM</td>\n",
       "      <td>Why Montana's TikTok ban faces massive challenges</td>\n",
       "    </tr>\n",
       "    <tr>\n",
       "      <th>297</th>\n",
       "      <td>GOOG</td>\n",
       "      <td>2023-05-19</td>\n",
       "      <td>11:55AM</td>\n",
       "      <td>Could Montana's TikTok ban violate free speech...</td>\n",
       "    </tr>\n",
       "    <tr>\n",
       "      <th>298</th>\n",
       "      <td>GOOG</td>\n",
       "      <td>2023-05-19</td>\n",
       "      <td>06:06AM</td>\n",
       "      <td>Google Is Spared a Search-Engine Switch by a M...</td>\n",
       "    </tr>\n",
       "    <tr>\n",
       "      <th>299</th>\n",
       "      <td>GOOG</td>\n",
       "      <td>2023-05-18</td>\n",
       "      <td>04:10PM</td>\n",
       "      <td>Supreme Court Hands Win to Twitter, Facebook, ...</td>\n",
       "    </tr>\n",
       "  </tbody>\n",
       "</table>\n",
       "<p>300 rows × 4 columns</p>\n",
       "</div>"
      ],
      "text/plain": [
       "    ticker       date     time  \\\n",
       "0     AMZN 2023-06-27  03:20PM   \n",
       "1     AMZN 2023-06-27  02:46PM   \n",
       "2     AMZN 2023-06-27  02:31PM   \n",
       "3     AMZN 2023-06-27  01:33PM   \n",
       "4     AMZN 2023-06-27  01:30PM   \n",
       "..     ...        ...      ...   \n",
       "295   GOOG 2023-05-21  01:32PM   \n",
       "296   GOOG 2023-05-19  02:28PM   \n",
       "297   GOOG 2023-05-19  11:55AM   \n",
       "298   GOOG 2023-05-19  06:06AM   \n",
       "299   GOOG 2023-05-18  04:10PM   \n",
       "\n",
       "                                              headline  \n",
       "0    Google parent Alphabets stock hit with two dow...  \n",
       "1                       Walgreens Bites The Covid Dust  \n",
       "2    Amazons Vancouver Office Building Put Up For S...  \n",
       "3    ShipBob Taps Former Amazon Exec, Takes E-Comme...  \n",
       "4            7 Items That Are Always Cheaper on Amazon  \n",
       "..                                                 ...  \n",
       "295           WSJ Opinion: Hits and Misses of the Week  \n",
       "296  Why Montana's TikTok ban faces massive challenges  \n",
       "297  Could Montana's TikTok ban violate free speech...  \n",
       "298  Google Is Spared a Search-Engine Switch by a M...  \n",
       "299  Supreme Court Hands Win to Twitter, Facebook, ...  \n",
       "\n",
       "[300 rows x 4 columns]"
      ]
     },
     "execution_count": 5,
     "metadata": {},
     "output_type": "execute_result"
    }
   ],
   "source": [
    "tickers = ['AMZN','AAPL', 'GOOG']\n",
    "news = Get_News(tickers)\n",
    "news['date'] = pd.to_datetime(news['date'])\n",
    "#news['time'] = pd.to_datetime(news['time'], format='%I:%M%p').dt.time\n",
    "news"
   ]
  }
 ],
 "metadata": {
  "kernelspec": {
   "display_name": "Python 3 (ipykernel)",
   "language": "python",
   "name": "python3"
  },
  "language_info": {
   "codemirror_mode": {
    "name": "ipython",
    "version": 3
   },
   "file_extension": ".py",
   "mimetype": "text/x-python",
   "name": "python",
   "nbconvert_exporter": "python",
   "pygments_lexer": "ipython3",
   "version": "3.11.3"
  }
 },
 "nbformat": 4,
 "nbformat_minor": 5
}
