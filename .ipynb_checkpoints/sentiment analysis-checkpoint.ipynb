{
 "cells": [
  {
   "cell_type": "markdown",
   "id": "b9245025",
   "metadata": {},
   "source": [
    "# Scraping\n",
    "\n",
    "We start with scraping texts on one company. I chose Google (`GOOG`) arbitrarily."
   ]
  },
  {
   "cell_type": "markdown",
   "id": "78bbf443",
   "metadata": {},
   "source": [
    "## API's\n",
    "\n",
    "#### Twitter API ([tutorial](https://towardsdatascience.com/an-extensive-guide-to-collecting-tweets-from-twitter-api-v2-for-academic-research-using-python-3-518fcb71df2a))\n",
    "\n",
    "Actually, Twitter's API has a cap of 1,500 tweets per month. So that's a no go.\n",
    "\n",
    "#### Reddit API\n",
    "\n",
    "PRAW API seems to have higher limits. \n"
   ]
  },
  {
   "cell_type": "markdown",
   "id": "3c8ffab2",
   "metadata": {},
   "source": [
    "## News\n",
    "\n",
    "#### Possibilities\n",
    "\n",
    "Yahoo Finance has a site map\n",
    "\n",
    "Google news can be modified to look at older articles from [here](https://stackoverflow.com/questions/73072802/web-scraping-articles-from-google-news).\n"
   ]
  }
 ],
 "metadata": {
  "kernelspec": {
   "display_name": "Python 3 (ipykernel)",
   "language": "python",
   "name": "python3"
  },
  "language_info": {
   "codemirror_mode": {
    "name": "ipython",
    "version": 3
   },
   "file_extension": ".py",
   "mimetype": "text/x-python",
   "name": "python",
   "nbconvert_exporter": "python",
   "pygments_lexer": "ipython3",
   "version": "3.10.9"
  }
 },
 "nbformat": 4,
 "nbformat_minor": 5
}
