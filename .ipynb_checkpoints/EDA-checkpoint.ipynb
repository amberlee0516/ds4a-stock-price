{
 "cells": [
  {
   "cell_type": "markdown",
   "id": "69c92c69",
   "metadata": {},
   "source": [
    "### Five Steps of Exploratory Data Analysis\n",
    "\n",
    "1. Selecting columns of interest and target feature(s)\n",
    "\n",
    "    a. Which columns in your data sets will help you answer the questions posed by your problem statement?\n",
    "    \n",
    "    b Which columns represent the key pieces of information you want to examine (i.e. your target variables)?\n",
    "    \n",
    "    c. How many numerical, textual, datetime etc. columns are in your dataset?\n",
    "    \n",
    "    d. Pick out any similar columns among your disparate data sets for potential linking later on on the EDA process"
   ]
  },
  {
   "cell_type": "markdown",
   "id": "270f3cdb",
   "metadata": {},
   "source": [
    "2. Explore Individual columns for preliminary insights\n",
    "\n",
    "    a. How many null values are present in your data (what percentage)?\n",
    "    \n",
    "    b. Plot one-dimensional distributions of numerical columns (ex. histograms) and observe the overall shape of the data (i.e. normal distribution, skewed, multimodal, discontinuous)\n",
    "    \n",
    "    c. Compute basic statistics of numerical columns (sum, average, mean, median, etc.)\n",
    "    \n",
    "    d. Calculate subgroup size of text/categorical data (i.e. with pivot tables)\n",
    "    \n",
    "    e. Explore any date/datetime columns for basic trends. How long is the period of time covered by the dataset? Do any seasonality trends immediately become apparent?"
   ]
  },
  {
   "cell_type": "markdown",
   "id": "661e036d",
   "metadata": {},
   "source": [
    "3. Plot two-dimensional distributions of your variables of interest against your target variable(s).\n",
    "\n",
    "    a. Across different values of your independent variable, how does the dependent variable change?\n",
    "    \n",
    "    b. Which interactions of variables provide the most interesting insights?\n",
    "    \n",
    "    c. What trends do you see in the data? Do they support or contradict the hypothesis of your problem statement?"
   ]
  },
  {
   "cell_type": "markdown",
   "id": "166b80d6",
   "metadata": {},
   "source": [
    "4. Analyze any correlations between your independent and dependent variables\n",
    "\n",
    "    a. Understand and resolve surprising correlations between these variables, and use this information to validate your initial hypothesis. (You can do this using a scatter plot graph in Excel)"
   ]
  },
  {
   "cell_type": "markdown",
   "id": "5b911104",
   "metadata": {},
   "source": [
    "5. Craft a compelling story from the work you’ve done in the previous steps\n",
    "\n",
    "    a. Which charts, graphs, and tables provide the most compelling evidence in support of your project idea?\n",
    "    \n",
    "    b. If your data analysis has largely disproved your initial hypothesis, can you craft a narrative for this alternative?\n"
   ]
  }
 ],
 "metadata": {
  "kernelspec": {
   "display_name": "Python 3 (ipykernel)",
   "language": "python",
   "name": "python3"
  },
  "language_info": {
   "codemirror_mode": {
    "name": "ipython",
    "version": 3
   },
   "file_extension": ".py",
   "mimetype": "text/x-python",
   "name": "python",
   "nbconvert_exporter": "python",
   "pygments_lexer": "ipython3",
   "version": "3.10.9"
  }
 },
 "nbformat": 4,
 "nbformat_minor": 5
}
