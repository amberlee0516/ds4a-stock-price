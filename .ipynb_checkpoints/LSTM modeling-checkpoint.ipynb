{
 "cells": [
  {
   "cell_type": "markdown",
   "id": "84781371",
   "metadata": {},
   "source": [
    "# LSTM"
   ]
  },
  {
   "cell_type": "markdown",
   "id": "42f5ac23",
   "metadata": {},
   "source": [
    "### Set up"
   ]
  },
  {
   "cell_type": "code",
   "execution_count": 4,
   "id": "12ef6d57",
   "metadata": {},
   "outputs": [],
   "source": [
    "# import sys\n",
    "\n",
    "# !{sys.executable} -m pip install tensorflow-macos\n",
    "# !{sys.executable} -m pip install tensorflow-metal\n",
    "# !{sys.executable} -m pip install keras\n",
    "\n",
    "# # if using M1 chip in apple, make sure to update anaconda"
   ]
  },
  {
   "cell_type": "code",
   "execution_count": 3,
   "id": "c4e0ea7e",
   "metadata": {},
   "outputs": [],
   "source": [
    "import pandas as pd\n",
    "import numpy as np\n",
    "# from numpy import array\n",
    "from keras.models import Sequential\n",
    "from keras.layers import LSTM\n",
    "from keras.layers import Dense"
   ]
  },
  {
   "cell_type": "markdown",
   "id": "adccab3b",
   "metadata": {},
   "source": [
    "### About LSTM\n",
    "\n",
    "[Tutorial](https://machinelearningmastery.com/how-to-develop-lstm-models-for-time-series-forecasting/)"
   ]
  },
  {
   "cell_type": "markdown",
   "id": "e63433e8",
   "metadata": {},
   "source": [
    "### Dataset\n",
    "\n",
    "* 01/01/2018 - 07/01/2023\n",
    "* Train: 2018-2021\n",
    "* Test: 2022-July 2023 (tech recession!)\n",
    "* Companies: Amazon, Apple, Google, Microsoft, Nvidia"
   ]
  },
  {
   "cell_type": "code",
   "execution_count": null,
   "id": "d2aa2980",
   "metadata": {},
   "outputs": [],
   "source": [
    "# to get this file, first run the notebook: Retrieve entire stock price data.ipynb\n",
    "stocks = pd.read_csv('quandl_data_table_downloads/QUOTEMEDIA/PRICES_20230712.zip')\n",
    "\n",
    "company_tickers = ['AMZN', 'AAPL', 'GOOG', 'MSFT', 'NVDA']\n",
    "start_date = pd.to_datetime('12-01-2017')\n",
    "end_date = pd.to_datetime('07-01-2023')\n",
    "\n",
    "stocks = stocks.loc[stocks['ticker'].isin(company_tickers)]\n",
    "stocks = stocks[['date', 'ticker', 'adj_close']]\n",
    "stocks['date'] = pd.to_datetime(stocks['date'])\n",
    "stocks = stocks.loc[(stocks['date'] >= pd.to_datetime(start_date))\n",
    "                      & (stocks['date'] <= pd.to_datetime(end_date))]\n",
    "stocks = stocks.sort_values('date')\n",
    "\n",
    "stocks.to_csv('stocks_filtered.csv', index=False)\n",
    "\n",
    "# # this will be needed later to merge with sentiment analysis dataset\n",
    "# stocks = stocks.set_index('date').tz_localize('utc')"
   ]
  },
  {
   "cell_type": "markdown",
   "id": "41ab6d7f",
   "metadata": {},
   "source": [
    "### Baseline LSTM\n",
    "\n",
    "No sentiment analysis; only one company"
   ]
  },
  {
   "cell_type": "code",
   "execution_count": null,
   "id": "6fe8e123",
   "metadata": {},
   "outputs": [],
   "source": [
    "nstocks = stocks.loc[stocks['ticker'] == \"NVDA\"]\n",
    "nstocks = nstocks[['date', 'adj_close']]\n",
    "nstocks"
   ]
  },
  {
   "cell_type": "code",
   "execution_count": null,
   "id": "25392c53",
   "metadata": {},
   "outputs": [],
   "source": [
    "nstocks['adj_close'][0]"
   ]
  },
  {
   "cell_type": "code",
   "execution_count": null,
   "id": "d4cc3435",
   "metadata": {},
   "outputs": [],
   "source": [
    "def split_df(df, n_steps):\n",
    "    \"\"\"\n",
    "    add n_steps number columns to df. the value is stock price from n_steps days ago\n",
    "    \n",
    "    df: has 2 columns: date, and adj_close\n",
    "    n_steps: number of previous days' price data used to predict today's price\n",
    "        for example, n_steps = 1 means predict today's price with yesterday's price\n",
    "\n",
    "    \"\"\"\n",
    "    "
   ]
  },
  {
   "cell_type": "code",
   "execution_count": null,
   "id": "ca55b92d",
   "metadata": {},
   "outputs": [],
   "source": [
    "stocks['ticker'].value_counts()"
   ]
  },
  {
   "cell_type": "code",
   "execution_count": null,
   "id": "26965f8b",
   "metadata": {},
   "outputs": [],
   "source": [
    "1403/365"
   ]
  }
 ],
 "metadata": {
  "kernelspec": {
   "display_name": "Python 3 (ipykernel)",
   "language": "python",
   "name": "python3"
  },
  "language_info": {
   "codemirror_mode": {
    "name": "ipython",
    "version": 3
   },
   "file_extension": ".py",
   "mimetype": "text/x-python",
   "name": "python",
   "nbconvert_exporter": "python",
   "pygments_lexer": "ipython3",
   "version": "3.11.3"
  }
 },
 "nbformat": 4,
 "nbformat_minor": 5
}
